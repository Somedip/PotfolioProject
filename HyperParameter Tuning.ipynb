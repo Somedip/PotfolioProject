{
 "cells": [
  {
   "cell_type": "markdown",
   "metadata": {},
   "source": [
    "# HyperParameter Tuning"
   ]
  },
  {
   "cell_type": "code",
   "execution_count": 1,
   "metadata": {},
   "outputs": [],
   "source": [
    "import pandas as pd"
   ]
  },
  {
   "cell_type": "code",
   "execution_count": 2,
   "metadata": {},
   "outputs": [],
   "source": [
    "data = pd.read_excel('./Ether Fraud Transaction case study.xlsx')"
   ]
  },
  {
   "cell_type": "code",
   "execution_count": 3,
   "metadata": {},
   "outputs": [
    {
     "data": {
      "text/html": [
       "<div>\n",
       "<style scoped>\n",
       "    .dataframe tbody tr th:only-of-type {\n",
       "        vertical-align: middle;\n",
       "    }\n",
       "\n",
       "    .dataframe tbody tr th {\n",
       "        vertical-align: top;\n",
       "    }\n",
       "\n",
       "    .dataframe thead th {\n",
       "        text-align: right;\n",
       "    }\n",
       "</style>\n",
       "<table border=\"1\" class=\"dataframe\">\n",
       "  <thead>\n",
       "    <tr style=\"text-align: right;\">\n",
       "      <th></th>\n",
       "      <th>FLAG</th>\n",
       "      <th>Avg _Min_Sent_txn</th>\n",
       "      <th>Avg _Min_Recv_txn</th>\n",
       "      <th>Time_Diff</th>\n",
       "      <th>Min value received</th>\n",
       "      <th>Max value received</th>\n",
       "      <th>Min value sent</th>\n",
       "      <th>Max value sent</th>\n",
       "      <th>Total transactions</th>\n",
       "    </tr>\n",
       "  </thead>\n",
       "  <tbody>\n",
       "    <tr>\n",
       "      <th>0</th>\n",
       "      <td>0</td>\n",
       "      <td>21.80</td>\n",
       "      <td>0.00</td>\n",
       "      <td>65.40</td>\n",
       "      <td>101.000000</td>\n",
       "      <td>101.000000</td>\n",
       "      <td>1.000000</td>\n",
       "      <td>84.176518</td>\n",
       "      <td>4</td>\n",
       "    </tr>\n",
       "    <tr>\n",
       "      <th>1</th>\n",
       "      <td>0</td>\n",
       "      <td>1073.76</td>\n",
       "      <td>1476.59</td>\n",
       "      <td>24563.10</td>\n",
       "      <td>0.216334</td>\n",
       "      <td>6.999559</td>\n",
       "      <td>0.000000</td>\n",
       "      <td>7.557834</td>\n",
       "      <td>21</td>\n",
       "    </tr>\n",
       "    <tr>\n",
       "      <th>2</th>\n",
       "      <td>0</td>\n",
       "      <td>13.57</td>\n",
       "      <td>10125.40</td>\n",
       "      <td>638755.18</td>\n",
       "      <td>0.010053</td>\n",
       "      <td>20.000000</td>\n",
       "      <td>0.008583</td>\n",
       "      <td>19.999769</td>\n",
       "      <td>126</td>\n",
       "    </tr>\n",
       "    <tr>\n",
       "      <th>3</th>\n",
       "      <td>0</td>\n",
       "      <td>163765.17</td>\n",
       "      <td>0.00</td>\n",
       "      <td>327530.33</td>\n",
       "      <td>0.002457</td>\n",
       "      <td>0.002457</td>\n",
       "      <td>0.000000</td>\n",
       "      <td>0.000508</td>\n",
       "      <td>3</td>\n",
       "    </tr>\n",
       "    <tr>\n",
       "      <th>4</th>\n",
       "      <td>0</td>\n",
       "      <td>22371.43</td>\n",
       "      <td>29004.65</td>\n",
       "      <td>596613.23</td>\n",
       "      <td>0.005441</td>\n",
       "      <td>1000.000000</td>\n",
       "      <td>0.000000</td>\n",
       "      <td>1000.000000</td>\n",
       "      <td>25</td>\n",
       "    </tr>\n",
       "  </tbody>\n",
       "</table>\n",
       "</div>"
      ],
      "text/plain": [
       "   FLAG  Avg _Min_Sent_txn  Avg _Min_Recv_txn  Time_Diff  Min value received  \\\n",
       "0     0              21.80               0.00      65.40          101.000000   \n",
       "1     0            1073.76            1476.59   24563.10            0.216334   \n",
       "2     0              13.57           10125.40  638755.18            0.010053   \n",
       "3     0          163765.17               0.00  327530.33            0.002457   \n",
       "4     0           22371.43           29004.65  596613.23            0.005441   \n",
       "\n",
       "   Max value received   Min value sent  Max value sent  Total transactions  \n",
       "0           101.000000        1.000000       84.176518                   4  \n",
       "1             6.999559        0.000000        7.557834                  21  \n",
       "2            20.000000        0.008583       19.999769                 126  \n",
       "3             0.002457        0.000000        0.000508                   3  \n",
       "4          1000.000000        0.000000     1000.000000                  25  "
      ]
     },
     "execution_count": 3,
     "metadata": {},
     "output_type": "execute_result"
    }
   ],
   "source": [
    "data.head(5)"
   ]
  },
  {
   "cell_type": "code",
   "execution_count": 4,
   "metadata": {},
   "outputs": [],
   "source": [
    "# Splitting the data into x and y (dependent and independent varaibles)\n",
    "\n",
    "x= data.iloc[:,1:]\n",
    "y= data.iloc[:,0]"
   ]
  },
  {
   "cell_type": "code",
   "execution_count": 5,
   "metadata": {},
   "outputs": [],
   "source": [
    "# Scaling the independent variables\n",
    "\n",
    "from sklearn.preprocessing import StandardScaler\n",
    "sc = StandardScaler()"
   ]
  },
  {
   "cell_type": "code",
   "execution_count": 7,
   "metadata": {},
   "outputs": [],
   "source": [
    "x_scaled = sc.fit_transform(x)"
   ]
  },
  {
   "cell_type": "code",
   "execution_count": 8,
   "metadata": {},
   "outputs": [],
   "source": [
    "# train test split\n",
    "\n",
    "from sklearn.model_selection import train_test_split\n",
    "x_train,x_test,y_train,y_test=train_test_split(x_scaled,y, test_size =0.3, random_state=10)"
   ]
  },
  {
   "cell_type": "code",
   "execution_count": 9,
   "metadata": {},
   "outputs": [],
   "source": [
    "#import SVM\n",
    "\n",
    "from sklearn import svm"
   ]
  },
  {
   "cell_type": "code",
   "execution_count": 23,
   "metadata": {},
   "outputs": [],
   "source": [
    "model= svm.SVC(kernel='rbf', C =20, gamma='auto')"
   ]
  },
  {
   "cell_type": "code",
   "execution_count": 24,
   "metadata": {},
   "outputs": [
    {
     "data": {
      "text/plain": [
       "0.825880758807588"
      ]
     },
     "execution_count": 24,
     "metadata": {},
     "output_type": "execute_result"
    }
   ],
   "source": [
    "model.fit(x_train,y_train)\n",
    "model.score(x_test,y_test)"
   ]
  },
  {
   "cell_type": "code",
   "execution_count": 25,
   "metadata": {},
   "outputs": [],
   "source": [
    "# GridSearchCV\n",
    "\n",
    "from sklearn.model_selection import GridSearchCV\n"
   ]
  },
  {
   "cell_type": "code",
   "execution_count": 28,
   "metadata": {},
   "outputs": [
    {
     "data": {
      "text/plain": [
       "{'mean_fit_time': array([  0.98235955,   0.83523693,   1.06552539,   5.81705909,\n",
       "          0.98996096, 190.15380659]),\n",
       " 'std_fit_time': array([ 0.03677372,  0.21351113,  0.07678259,  1.93880116,  0.02479183,\n",
       "        10.98252569]),\n",
       " 'mean_score_time': array([0.39404202, 0.11139865, 0.42686081, 0.09944115, 0.37332983,\n",
       "        0.09774389]),\n",
       " 'std_score_time': array([0.00424082, 0.0053103 , 0.01965958, 0.00369719, 0.00477064,\n",
       "        0.00496106]),\n",
       " 'param_C': masked_array(data=[1, 1, 10, 10, 30, 30],\n",
       "              mask=[False, False, False, False, False, False],\n",
       "        fill_value='?',\n",
       "             dtype=object),\n",
       " 'param_kernel': masked_array(data=['rbf', 'linear', 'rbf', 'linear', 'rbf', 'linear'],\n",
       "              mask=[False, False, False, False, False, False],\n",
       "        fill_value='?',\n",
       "             dtype=object),\n",
       " 'params': [{'C': 1, 'kernel': 'rbf'},\n",
       "  {'C': 1, 'kernel': 'linear'},\n",
       "  {'C': 10, 'kernel': 'rbf'},\n",
       "  {'C': 10, 'kernel': 'linear'},\n",
       "  {'C': 30, 'kernel': 'rbf'},\n",
       "  {'C': 30, 'kernel': 'linear'}],\n",
       " 'split0_test_score': array([0.77358491, 0.7743106 , 0.82801161, 0.7743106 , 0.81132075,\n",
       "        0.7743106 ]),\n",
       " 'split1_test_score': array([0.7743106 , 0.7743106 , 0.80624093, 0.7743106 , 0.8149492 ,\n",
       "        0.7743106 ]),\n",
       " 'split2_test_score': array([0.77503628, 0.77503628, 0.78955007, 0.77503628, 0.83309144,\n",
       "        0.77503628]),\n",
       " 'split3_test_score': array([0.77559913, 0.77487291, 0.7966594 , 0.77487291, 0.83224401,\n",
       "        0.77487291]),\n",
       " 'split4_test_score': array([0.77487291, 0.77487291, 0.7966594 , 0.77487291, 0.83079158,\n",
       "        0.77487291]),\n",
       " 'mean_test_score': array([0.77468077, 0.77468066, 0.80342428, 0.77468066, 0.8244794 ,\n",
       "        0.77468066]),\n",
       " 'std_test_score': array([0.00068478, 0.00030799, 0.01339023, 0.00030799, 0.00936242,\n",
       "        0.00030799]),\n",
       " 'rank_test_score': array([3, 4, 2, 4, 1, 4])}"
      ]
     },
     "execution_count": 28,
     "metadata": {},
     "output_type": "execute_result"
    }
   ],
   "source": [
    "gsCV = GridSearchCV(svm.SVC(gamma='auto'),{\n",
    "    'C':[1,10,30],\n",
    "    'kernel':['rbf', 'linear']\n",
    "    }, cv=5,return_train_score=False) \n",
    "\n",
    "gsCV.fit(x_train,y_train)\n",
    "gsCV.cv_results_                                       # CV means Cross validation"
   ]
  },
  {
   "cell_type": "code",
   "execution_count": 29,
   "metadata": {},
   "outputs": [
    {
     "data": {
      "text/plain": [
       "{'C': 30, 'kernel': 'rbf'}"
      ]
     },
     "execution_count": 29,
     "metadata": {},
     "output_type": "execute_result"
    }
   ],
   "source": [
    "gsCV.best_params_"
   ]
  },
  {
   "cell_type": "code",
   "execution_count": 30,
   "metadata": {},
   "outputs": [
    {
     "data": {
      "text/plain": [
       "0.8244793955855739"
      ]
     },
     "execution_count": 30,
     "metadata": {},
     "output_type": "execute_result"
    }
   ],
   "source": [
    "gsCV.best_score_"
   ]
  },
  {
   "cell_type": "code",
   "execution_count": null,
   "metadata": {},
   "outputs": [],
   "source": []
  }
 ],
 "metadata": {
  "kernelspec": {
   "display_name": "Python 3 (ipykernel)",
   "language": "python",
   "name": "python3"
  },
  "language_info": {
   "codemirror_mode": {
    "name": "ipython",
    "version": 3
   },
   "file_extension": ".py",
   "mimetype": "text/x-python",
   "name": "python",
   "nbconvert_exporter": "python",
   "pygments_lexer": "ipython3",
   "version": "3.9.12"
  }
 },
 "nbformat": 4,
 "nbformat_minor": 4
}
