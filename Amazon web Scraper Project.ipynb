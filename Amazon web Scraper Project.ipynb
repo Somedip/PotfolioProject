{
 "cells": [
  {
   "cell_type": "code",
   "execution_count": 1,
   "id": "3523929e",
   "metadata": {},
   "outputs": [],
   "source": [
    "# import libraries \n",
    "\n",
    "from bs4 import BeautifulSoup\n",
    "import requests\n",
    "import time\n",
    "import datetime\n",
    "\n",
    "import smtplib"
   ]
  },
  {
   "cell_type": "code",
   "execution_count": 2,
   "id": "cf34dea1",
   "metadata": {},
   "outputs": [
    {
     "name": "stdout",
     "output_type": "stream",
     "text": [
      "\n",
      "                   DUDEME I'm Offline | Programmer T Shirt | Coding T Shirt for Coders | Developer T Shirt | Round Neck Cotton T-Shirt | Geek Half Sleeve T Shirt for Men & Women\n",
      "                  \n"
     ]
    }
   ],
   "source": [
    "# Connect to website\n",
    "\n",
    "URL = 'https://www.amazon.in/DUDEME-Offline-Programmer-Developer-T-Shirt/dp/B08SKLCF53/ref=sr_1_8?keywords=data+analyst+t+shirt&qid=1656950412&sprefix=data+analyst+%2Caps%2C222&sr=8-8'\n",
    "\n",
    "headers= {\"User-Agent\": \"Mozilla/5.0 (Windows NT 10.0; Win64; x64) AppleWebKit/537.36 (KHTML, like Gecko) Chrome/103.0.0.0 Safari/537.36\" }\n",
    "\n",
    "page= requests.get(URL, headers = headers)\n",
    "\n",
    "soup1 = BeautifulSoup(page.content, \"html.parser\")\n",
    "\n",
    "soup2 = BeautifulSoup(soup1.prettify(), \"html.parser\")\n",
    "\n",
    "\n",
    "#print(soup2) \n",
    " \n",
    "    \n",
    "# Query - 1\n",
    "title = soup2.find(id='productTitle').get_text()\n",
    "\n",
    "print(title)\n",
    "\n",
    "# Query - 2\n",
    "\n",
    "#price = soup2.find(id='Price').get_text()\n",
    "\n",
    "#print(price)\n",
    "\n",
    "\n",
    "\n",
    "\n",
    "#print(soup1)"
   ]
  },
  {
   "cell_type": "code",
   "execution_count": 3,
   "id": "0b83b616",
   "metadata": {},
   "outputs": [
    {
     "name": "stdout",
     "output_type": "stream",
     "text": [
      "Programmer T Shirt \n"
     ]
    }
   ],
   "source": [
    "title = title.strip()[21:40]\n",
    "\n",
    "print(title)"
   ]
  },
  {
   "cell_type": "code",
   "execution_count": 4,
   "id": "da88614d",
   "metadata": {},
   "outputs": [
    {
     "name": "stdout",
     "output_type": "stream",
     "text": [
      "2022-07-05\n"
     ]
    }
   ],
   "source": [
    "today = datetime.date.today()\n",
    "\n",
    "print(today)"
   ]
  },
  {
   "cell_type": "code",
   "execution_count": 5,
   "id": "3452700c",
   "metadata": {},
   "outputs": [],
   "source": [
    "import csv\n",
    "\n",
    "header = ['Title','Date']\n",
    "data = [title,today]\n",
    "\n",
    "#with open('Amazon_Web_ScrapperDataset.csv','w',newline='',encoding = 'UTF8') as f:\n",
    "    #writer = csv.writer(f)\n",
    "    #writer.writerow(header)\n",
    "    #writer.writerow(data)"
   ]
  },
  {
   "cell_type": "code",
   "execution_count": 15,
   "id": "a98ace90",
   "metadata": {},
   "outputs": [
    {
     "name": "stdout",
     "output_type": "stream",
     "text": [
      "   Programmer T Shirt   2022-07-05\n",
      "0  Programmer T Shirt   2022-07-05\n",
      "1  Programmer T Shirt   2022-07-05\n",
      "2  Programmer T Shirt   2022-07-05\n"
     ]
    }
   ],
   "source": [
    "import pandas as pd\n",
    "\n",
    "df = pd.read_csv('./Amazon_Web_ScrapperDataset.csv')\n",
    "\n",
    "print(df)"
   ]
  },
  {
   "cell_type": "code",
   "execution_count": 14,
   "id": "a65ce2dd",
   "metadata": {},
   "outputs": [],
   "source": [
    "# Now we are appending the data to the csv\n",
    "\n",
    "with open('Amazon_Web_ScrapperDataset.csv','a+',newline='',encoding = 'UTF8') as f:\n",
    "    writer = csv.writer(f)\n",
    "    writer.writerow(data)"
   ]
  },
  {
   "cell_type": "code",
   "execution_count": 16,
   "id": "4426b10b",
   "metadata": {},
   "outputs": [],
   "source": [
    "\n",
    "def check_title():\n",
    "    URL = 'https://www.amazon.in/DUDEME-Offline-Programmer-Developer-T-Shirt/dp/B08SKLCF53/ref=sr_1_8?keywords=data+analyst+t+shirt&qid=1656950412&sprefix=data+analyst+%2Caps%2C222&sr=8-8'\n",
    "\n",
    "    headers= {\"User-Agent\": \"Mozilla/5.0 (Windows NT 10.0; Win64; x64) AppleWebKit/537.36 (KHTML, like Gecko) Chrome/103.0.0.0 Safari/537.36\" }\n",
    "\n",
    "    page= requests.get(URL, headers = headers)\n",
    "\n",
    "    soup1 = BeautifulSoup(page.content, \"html.parser\")\n",
    "\n",
    "    soup2 = BeautifulSoup(soup1.prettify(), \"html.parser\")\n",
    " \n",
    "    title = soup2.find(id='productTitle').get_text()\n",
    "\n",
    "    title = title.strip()[21:40]\n",
    "    \n",
    "    today = datetime.date.today()\n",
    "    \n",
    "    header = ['Title','Date']\n",
    "    data = [title,today]\n",
    "\n",
    "    with open('Amazon_Web_ScrapperDataset.csv','a+',newline='',encoding = 'UTF8') as f:\n",
    "        writer = csv.writer(f)\n",
    "        writer.writerow(data)\n",
    "\n",
    "# if we want to send an additional mail\n",
    "#    if(price < 14):\n",
    "#        send_mail()\n"
   ]
  },
  {
   "cell_type": "code",
   "execution_count": null,
   "id": "20828dca",
   "metadata": {},
   "outputs": [],
   "source": [
    "while(True):\n",
    "    check_title()\n",
    "    time.sleep(86400)"
   ]
  },
  {
   "cell_type": "code",
   "execution_count": 18,
   "id": "71b9c314",
   "metadata": {},
   "outputs": [
    {
     "name": "stdout",
     "output_type": "stream",
     "text": [
      "   Programmer T Shirt   2022-07-05\n",
      "0  Programmer T Shirt   2022-07-05\n",
      "1  Programmer T Shirt   2022-07-05\n",
      "2  Programmer T Shirt   2022-07-05\n"
     ]
    }
   ],
   "source": [
    "import pandas as pd\n",
    "\n",
    "df = pd.read_csv('./Amazon_Web_ScrapperDataset.csv')\n",
    "\n",
    "print(df)"
   ]
  },
  {
   "cell_type": "code",
   "execution_count": null,
   "id": "f61d3230",
   "metadata": {},
   "outputs": [],
   "source": [
    "# If uou want to try sending yourself an email (just for fun) when a price hits below a certain level you can try it\n",
    "# out with this script\n",
    "\n",
    "# def send_mail():\n",
    "#    server = smtplib.SMTP_SSL('smtp.gmail.com',465)\n",
    "#   server.ehlo()\n",
    "#    #server.starttls()\n",
    "#    server.ehlo()\n",
    "#    server.login('AlexTheAnalyst95@gmail.com','xxxxxxxxxxxxxx')\n",
    "    \n",
    "#    subject = \"The Shirt you want is below $15! Now is your chance to buy!\"\n",
    "#    body = \"Alex, This is the moment we have been waiting for. Now is your chance to pick up the shirt of your dreams. Don't mess it up! Link here: https://www.amazon.com/Funny-Data-Systems-Business-Analyst/dp/B07FNW9FGJ/ref=sr_1_3?dchild=1&keywords=data+analyst+tshirt&qid=1626655184&sr=8-3\"\n",
    "   \n",
    "#    msg = f\"Subject: {subject}\\n\\n{body}\"\n",
    "    \n",
    "#    server.sendmail(\n",
    "#        'AlexTheAnalyst95@gmail.com',\n",
    "#        msg\n",
    "     \n",
    "#    )"
   ]
  }
 ],
 "metadata": {
  "kernelspec": {
   "display_name": "Python 3 (ipykernel)",
   "language": "python",
   "name": "python3"
  },
  "language_info": {
   "codemirror_mode": {
    "name": "ipython",
    "version": 3
   },
   "file_extension": ".py",
   "mimetype": "text/x-python",
   "name": "python",
   "nbconvert_exporter": "python",
   "pygments_lexer": "ipython3",
   "version": "3.9.12"
  }
 },
 "nbformat": 4,
 "nbformat_minor": 5
}
