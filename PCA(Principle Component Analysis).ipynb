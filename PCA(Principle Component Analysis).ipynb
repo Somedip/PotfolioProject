{
 "cells": [
  {
   "cell_type": "markdown",
   "metadata": {},
   "source": [
    "# PCA\n",
    "---"
   ]
  },
  {
   "cell_type": "code",
   "execution_count": 2,
   "metadata": {},
   "outputs": [],
   "source": [
    "import pandas as pd\n",
    "import numpy as np\n",
    "import matplotlib.pyplot as plt\n",
    "import warnings\n",
    "warnings.filterwarnings('ignore')"
   ]
  },
  {
   "cell_type": "code",
   "execution_count": 3,
   "metadata": {},
   "outputs": [
    {
     "data": {
      "text/html": [
       "<div>\n",
       "<style scoped>\n",
       "    .dataframe tbody tr th:only-of-type {\n",
       "        vertical-align: middle;\n",
       "    }\n",
       "\n",
       "    .dataframe tbody tr th {\n",
       "        vertical-align: top;\n",
       "    }\n",
       "\n",
       "    .dataframe thead th {\n",
       "        text-align: right;\n",
       "    }\n",
       "</style>\n",
       "<table border=\"1\" class=\"dataframe\">\n",
       "  <thead>\n",
       "    <tr style=\"text-align: right;\">\n",
       "      <th></th>\n",
       "      <th>Price</th>\n",
       "      <th>Safety</th>\n",
       "      <th>Exterior_Looks</th>\n",
       "      <th>Space_comfort</th>\n",
       "      <th>Technology</th>\n",
       "      <th>After_Sales_Service</th>\n",
       "      <th>Resale_Value</th>\n",
       "      <th>Fuel_Type</th>\n",
       "      <th>Fuel_Efficiency</th>\n",
       "      <th>Color</th>\n",
       "      <th>Maintenance</th>\n",
       "      <th>Test_drive</th>\n",
       "      <th>Product_reviews</th>\n",
       "      <th>Testimonials</th>\n",
       "    </tr>\n",
       "  </thead>\n",
       "  <tbody>\n",
       "    <tr>\n",
       "      <th>0</th>\n",
       "      <td>4</td>\n",
       "      <td>4</td>\n",
       "      <td>5</td>\n",
       "      <td>4</td>\n",
       "      <td>3</td>\n",
       "      <td>4</td>\n",
       "      <td>5</td>\n",
       "      <td>4</td>\n",
       "      <td>4</td>\n",
       "      <td>2</td>\n",
       "      <td>4</td>\n",
       "      <td>2</td>\n",
       "      <td>4</td>\n",
       "      <td>3</td>\n",
       "    </tr>\n",
       "    <tr>\n",
       "      <th>1</th>\n",
       "      <td>3</td>\n",
       "      <td>5</td>\n",
       "      <td>3</td>\n",
       "      <td>3</td>\n",
       "      <td>4</td>\n",
       "      <td>4</td>\n",
       "      <td>3</td>\n",
       "      <td>4</td>\n",
       "      <td>3</td>\n",
       "      <td>4</td>\n",
       "      <td>3</td>\n",
       "      <td>2</td>\n",
       "      <td>2</td>\n",
       "      <td>2</td>\n",
       "    </tr>\n",
       "    <tr>\n",
       "      <th>2</th>\n",
       "      <td>4</td>\n",
       "      <td>4</td>\n",
       "      <td>3</td>\n",
       "      <td>4</td>\n",
       "      <td>5</td>\n",
       "      <td>5</td>\n",
       "      <td>5</td>\n",
       "      <td>4</td>\n",
       "      <td>5</td>\n",
       "      <td>4</td>\n",
       "      <td>5</td>\n",
       "      <td>4</td>\n",
       "      <td>4</td>\n",
       "      <td>3</td>\n",
       "    </tr>\n",
       "    <tr>\n",
       "      <th>3</th>\n",
       "      <td>4</td>\n",
       "      <td>4</td>\n",
       "      <td>4</td>\n",
       "      <td>3</td>\n",
       "      <td>3</td>\n",
       "      <td>4</td>\n",
       "      <td>5</td>\n",
       "      <td>5</td>\n",
       "      <td>4</td>\n",
       "      <td>4</td>\n",
       "      <td>4</td>\n",
       "      <td>2</td>\n",
       "      <td>5</td>\n",
       "      <td>3</td>\n",
       "    </tr>\n",
       "    <tr>\n",
       "      <th>4</th>\n",
       "      <td>5</td>\n",
       "      <td>5</td>\n",
       "      <td>4</td>\n",
       "      <td>4</td>\n",
       "      <td>5</td>\n",
       "      <td>4</td>\n",
       "      <td>5</td>\n",
       "      <td>3</td>\n",
       "      <td>4</td>\n",
       "      <td>5</td>\n",
       "      <td>5</td>\n",
       "      <td>5</td>\n",
       "      <td>5</td>\n",
       "      <td>2</td>\n",
       "    </tr>\n",
       "  </tbody>\n",
       "</table>\n",
       "</div>"
      ],
      "text/plain": [
       "   Price  Safety  Exterior_Looks  Space_comfort  Technology  \\\n",
       "0      4       4               5              4           3   \n",
       "1      3       5               3              3           4   \n",
       "2      4       4               3              4           5   \n",
       "3      4       4               4              3           3   \n",
       "4      5       5               4              4           5   \n",
       "\n",
       "   After_Sales_Service  Resale_Value  Fuel_Type  Fuel_Efficiency  Color  \\\n",
       "0                    4             5          4                4      2   \n",
       "1                    4             3          4                3      4   \n",
       "2                    5             5          4                5      4   \n",
       "3                    4             5          5                4      4   \n",
       "4                    4             5          3                4      5   \n",
       "\n",
       "   Maintenance  Test_drive  Product_reviews  Testimonials  \n",
       "0            4           2                4             3  \n",
       "1            3           2                2             2  \n",
       "2            5           4                4             3  \n",
       "3            4           2                5             3  \n",
       "4            5           5                5             2  "
      ]
     },
     "execution_count": 3,
     "metadata": {},
     "output_type": "execute_result"
    }
   ],
   "source": [
    "data =  pd.read_csv('./EFA.csv')\n",
    "data.head()"
   ]
  },
  {
   "cell_type": "code",
   "execution_count": 5,
   "metadata": {},
   "outputs": [
    {
     "data": {
      "text/plain": [
       "Price                  5\n",
       "Safety                 5\n",
       "Exterior_Looks         5\n",
       "Space_comfort          5\n",
       "Technology             5\n",
       "After_Sales_Service    5\n",
       "Resale_Value           5\n",
       "Fuel_Type              5\n",
       "Fuel_Efficiency        5\n",
       "Color                  5\n",
       "Maintenance            5\n",
       "Test_drive             5\n",
       "Product_reviews        5\n",
       "Testimonials           5\n",
       "dtype: int64"
      ]
     },
     "execution_count": 5,
     "metadata": {},
     "output_type": "execute_result"
    }
   ],
   "source": [
    "data.max()"
   ]
  },
  {
   "cell_type": "code",
   "execution_count": 6,
   "metadata": {},
   "outputs": [
    {
     "data": {
      "text/plain": [
       "Price                  3\n",
       "Safety                 3\n",
       "Exterior_Looks         1\n",
       "Space_comfort          2\n",
       "Technology             1\n",
       "After_Sales_Service    2\n",
       "Resale_Value           1\n",
       "Fuel_Type              3\n",
       "Fuel_Efficiency        1\n",
       "Color                  1\n",
       "Maintenance            2\n",
       "Test_drive             1\n",
       "Product_reviews        2\n",
       "Testimonials           1\n",
       "dtype: int64"
      ]
     },
     "execution_count": 6,
     "metadata": {},
     "output_type": "execute_result"
    }
   ],
   "source": [
    "data.min()"
   ]
  },
  {
   "cell_type": "code",
   "execution_count": 7,
   "metadata": {},
   "outputs": [],
   "source": [
    "# importing PCA\n",
    "\n",
    "from sklearn.decomposition import PCA\n",
    "pca= PCA()\n"
   ]
  },
  {
   "cell_type": "code",
   "execution_count": 8,
   "metadata": {},
   "outputs": [
    {
     "data": {
      "text/html": [
       "<style>#sk-container-id-1 {color: black;background-color: white;}#sk-container-id-1 pre{padding: 0;}#sk-container-id-1 div.sk-toggleable {background-color: white;}#sk-container-id-1 label.sk-toggleable__label {cursor: pointer;display: block;width: 100%;margin-bottom: 0;padding: 0.3em;box-sizing: border-box;text-align: center;}#sk-container-id-1 label.sk-toggleable__label-arrow:before {content: \"▸\";float: left;margin-right: 0.25em;color: #696969;}#sk-container-id-1 label.sk-toggleable__label-arrow:hover:before {color: black;}#sk-container-id-1 div.sk-estimator:hover label.sk-toggleable__label-arrow:before {color: black;}#sk-container-id-1 div.sk-toggleable__content {max-height: 0;max-width: 0;overflow: hidden;text-align: left;background-color: #f0f8ff;}#sk-container-id-1 div.sk-toggleable__content pre {margin: 0.2em;color: black;border-radius: 0.25em;background-color: #f0f8ff;}#sk-container-id-1 input.sk-toggleable__control:checked~div.sk-toggleable__content {max-height: 200px;max-width: 100%;overflow: auto;}#sk-container-id-1 input.sk-toggleable__control:checked~label.sk-toggleable__label-arrow:before {content: \"▾\";}#sk-container-id-1 div.sk-estimator input.sk-toggleable__control:checked~label.sk-toggleable__label {background-color: #d4ebff;}#sk-container-id-1 div.sk-label input.sk-toggleable__control:checked~label.sk-toggleable__label {background-color: #d4ebff;}#sk-container-id-1 input.sk-hidden--visually {border: 0;clip: rect(1px 1px 1px 1px);clip: rect(1px, 1px, 1px, 1px);height: 1px;margin: -1px;overflow: hidden;padding: 0;position: absolute;width: 1px;}#sk-container-id-1 div.sk-estimator {font-family: monospace;background-color: #f0f8ff;border: 1px dotted black;border-radius: 0.25em;box-sizing: border-box;margin-bottom: 0.5em;}#sk-container-id-1 div.sk-estimator:hover {background-color: #d4ebff;}#sk-container-id-1 div.sk-parallel-item::after {content: \"\";width: 100%;border-bottom: 1px solid gray;flex-grow: 1;}#sk-container-id-1 div.sk-label:hover label.sk-toggleable__label {background-color: #d4ebff;}#sk-container-id-1 div.sk-serial::before {content: \"\";position: absolute;border-left: 1px solid gray;box-sizing: border-box;top: 0;bottom: 0;left: 50%;z-index: 0;}#sk-container-id-1 div.sk-serial {display: flex;flex-direction: column;align-items: center;background-color: white;padding-right: 0.2em;padding-left: 0.2em;position: relative;}#sk-container-id-1 div.sk-item {position: relative;z-index: 1;}#sk-container-id-1 div.sk-parallel {display: flex;align-items: stretch;justify-content: center;background-color: white;position: relative;}#sk-container-id-1 div.sk-item::before, #sk-container-id-1 div.sk-parallel-item::before {content: \"\";position: absolute;border-left: 1px solid gray;box-sizing: border-box;top: 0;bottom: 0;left: 50%;z-index: -1;}#sk-container-id-1 div.sk-parallel-item {display: flex;flex-direction: column;z-index: 1;position: relative;background-color: white;}#sk-container-id-1 div.sk-parallel-item:first-child::after {align-self: flex-end;width: 50%;}#sk-container-id-1 div.sk-parallel-item:last-child::after {align-self: flex-start;width: 50%;}#sk-container-id-1 div.sk-parallel-item:only-child::after {width: 0;}#sk-container-id-1 div.sk-dashed-wrapped {border: 1px dashed gray;margin: 0 0.4em 0.5em 0.4em;box-sizing: border-box;padding-bottom: 0.4em;background-color: white;}#sk-container-id-1 div.sk-label label {font-family: monospace;font-weight: bold;display: inline-block;line-height: 1.2em;}#sk-container-id-1 div.sk-label-container {text-align: center;}#sk-container-id-1 div.sk-container {/* jupyter's `normalize.less` sets `[hidden] { display: none; }` but bootstrap.min.css set `[hidden] { display: none !important; }` so we also need the `!important` here to be able to override the default hidden behavior on the sphinx rendered scikit-learn.org. See: https://github.com/scikit-learn/scikit-learn/issues/21755 */display: inline-block !important;position: relative;}#sk-container-id-1 div.sk-text-repr-fallback {display: none;}</style><div id=\"sk-container-id-1\" class=\"sk-top-container\"><div class=\"sk-text-repr-fallback\"><pre>PCA()</pre><b>In a Jupyter environment, please rerun this cell to show the HTML representation or trust the notebook. <br />On GitHub, the HTML representation is unable to render, please try loading this page with nbviewer.org.</b></div><div class=\"sk-container\" hidden><div class=\"sk-item\"><div class=\"sk-estimator sk-toggleable\"><input class=\"sk-toggleable__control sk-hidden--visually\" id=\"sk-estimator-id-1\" type=\"checkbox\" checked><label for=\"sk-estimator-id-1\" class=\"sk-toggleable__label sk-toggleable__label-arrow\">PCA</label><div class=\"sk-toggleable__content\"><pre>PCA()</pre></div></div></div></div></div>"
      ],
      "text/plain": [
       "PCA()"
      ]
     },
     "execution_count": 8,
     "metadata": {},
     "output_type": "execute_result"
    }
   ],
   "source": [
    "pca.fit(data)"
   ]
  },
  {
   "cell_type": "markdown",
   "metadata": {},
   "source": [
    "# Explained Variance : Eigen Values"
   ]
  },
  {
   "cell_type": "code",
   "execution_count": 9,
   "metadata": {},
   "outputs": [],
   "source": [
    "eigValues = pca.explained_variance_"
   ]
  },
  {
   "cell_type": "code",
   "execution_count": 10,
   "metadata": {},
   "outputs": [
    {
     "data": {
      "text/plain": [
       "array([2.15856943, 1.68367596, 1.07094492, 0.9760982 , 0.77234806,\n",
       "       0.63648416, 0.52119561, 0.42455873, 0.39422686, 0.36002998,\n",
       "       0.27478093, 0.23069044, 0.17746461, 0.15888215])"
      ]
     },
     "execution_count": 10,
     "metadata": {},
     "output_type": "execute_result"
    }
   ],
   "source": [
    "eigValues"
   ]
  },
  {
   "cell_type": "markdown",
   "metadata": {},
   "source": [
    "# Percentage of Information"
   ]
  },
  {
   "cell_type": "code",
   "execution_count": 11,
   "metadata": {},
   "outputs": [],
   "source": [
    "ratio = pca.explained_variance_ratio_"
   ]
  },
  {
   "cell_type": "code",
   "execution_count": 12,
   "metadata": {},
   "outputs": [
    {
     "data": {
      "text/plain": [
       "array([0.21936792, 0.17110615, 0.10883642, 0.09919747, 0.07849106,\n",
       "       0.06468368, 0.0529673 , 0.04314643, 0.04006391, 0.0365886 ,\n",
       "       0.02792503, 0.02344427, 0.01803511, 0.01614664])"
      ]
     },
     "execution_count": 12,
     "metadata": {},
     "output_type": "execute_result"
    }
   ],
   "source": [
    "ratio"
   ]
  },
  {
   "cell_type": "code",
   "execution_count": 13,
   "metadata": {},
   "outputs": [
    {
     "data": {
      "text/plain": [
       "array([0.21936792, 0.39047407, 0.49931049, 0.59850797, 0.67699902,\n",
       "       0.7416827 , 0.79465   , 0.83779643, 0.87786034, 0.91444894,\n",
       "       0.94237397, 0.96581824, 0.98385336, 1.        ])"
      ]
     },
     "execution_count": 13,
     "metadata": {},
     "output_type": "execute_result"
    }
   ],
   "source": [
    "# Cummulative sum\n",
    "\n",
    "ratio_cum = np.cumsum(ratio)\n",
    "ratio_cum"
   ]
  },
  {
   "cell_type": "code",
   "execution_count": 18,
   "metadata": {},
   "outputs": [
    {
     "data": {
      "image/png": "[encoded data removed]",
      "text/plain": [
       "<Figure size 432x288 with 1 Axes>"
      ]
     },
     "metadata": {
      "needs_background": "light"
     },
     "output_type": "display_data"
    }
   ],
   "source": [
    "# Elbow method\n",
    "\n",
    "plt.plot(ratio, 's--')\n",
    "plt.title(\"Elbow method\")\n",
    "plt.xlabel(\"No.of Components\")\n",
    "plt.ylabel(\"ratio\")\n",
    "plt.grid(axis='x')\n",
    "plt.xticks(list(range(0,len(ratio))),list(range(1,len(ratio)+1)))\n",
    "plt.show()"
   ]
  },
  {
   "cell_type": "code",
   "execution_count": 30,
   "metadata": {},
   "outputs": [
    {
     "data": {
      "image/png": "[encoded data removed]",
      "text/plain": [
       "<Figure size 720x360 with 1 Axes>"
      ]
     },
     "metadata": {
      "needs_background": "light"
     },
     "output_type": "display_data"
    }
   ],
   "source": [
    "plt.figure(figsize=(10,5))\n",
    "plt.plot(ratio_cum, 's--')\n",
    "plt.title(\"Elbow method\")\n",
    "plt.xlabel(\"No.of Components\")\n",
    "plt.ylabel(\"Cumulative Sum\")\n",
    "plt.grid(axis='x')\n",
    "plt.xticks(list(range(0,len(ratio))),list(range(1,len(ratio)+1)))\n",
    "plt.show()"
   ]
  },
  {
   "cell_type": "markdown",
   "metadata": {},
   "source": [
    "## We will select 8 components, as the cumulutive sum graph says minimum of 8 components are required to be compressed as the cumsum is greater than 80% "
   ]
  },
  {
   "cell_type": "code",
   "execution_count": 21,
   "metadata": {},
   "outputs": [],
   "source": [
    "pca = PCA(n_components= 8)"
   ]
  },
  {
   "cell_type": "code",
   "execution_count": 25,
   "metadata": {},
   "outputs": [],
   "source": [
    "data_PCA=pca.fit_transform(data)"
   ]
  },
  {
   "cell_type": "code",
   "execution_count": 26,
   "metadata": {},
   "outputs": [
    {
     "data": {
      "text/plain": [
       "array([[ 0.25531265,  2.08242012,  1.79559216,  0.37465305, -1.10913963,\n",
       "         0.73562708, -0.11523546,  0.51799692],\n",
       "       [ 2.3032295 ,  2.27657646, -0.73197218, -0.14882089,  2.04787126,\n",
       "        -0.12961924,  0.05817082,  0.24793885],\n",
       "       [-2.03013756,  0.38448151, -0.0091973 ,  0.52733121,  1.2626845 ,\n",
       "        -0.2326752 ,  0.16040997, -0.02237689],\n",
       "       [-0.72808792,  1.99931622, -0.13232929, -0.03259164, -0.99369026,\n",
       "         0.81938535,  0.10119635,  0.41002952],\n",
       "       [-2.35711099,  0.12884784,  0.35748049,  0.08301966,  0.93886663,\n",
       "        -0.73346872,  2.09344738, -0.08597646],\n",
       "       [ 2.65546087,  1.65465133,  1.42916119,  0.51213755,  0.5299249 ,\n",
       "        -0.32524003, -0.80374732,  1.113342  ],\n",
       "       [ 0.58418151, -0.73146631,  0.16545095, -1.9497661 ,  2.3500609 ,\n",
       "         0.77701633, -1.17652473,  0.65451418],\n",
       "       [-0.98493953,  1.37384118, -0.38669619,  0.81901976, -0.82363721,\n",
       "        -1.29968751, -0.5037025 ,  0.32869534],\n",
       "       [-0.65209948,  1.44778522,  0.4359686 ,  0.12395524, -1.14600776,\n",
       "         0.52820496, -0.98183956,  0.94672033],\n",
       "       [-0.72042138,  2.04448355, -1.30264519,  0.38246271,  1.18356214,\n",
       "        -1.40700077, -1.53090125,  0.11487891],\n",
       "       [-1.17968781,  1.2134583 , -0.8796463 ,  0.86191802, -0.83187187,\n",
       "        -0.25700122, -0.2936148 , -0.68249924],\n",
       "       [-2.49969009, -0.62582511,  0.02823982, -0.55054307,  0.12623838,\n",
       "        -1.58758062,  0.31979693,  0.28297035],\n",
       "       [-0.90373886,  0.32798426,  2.91032681, -0.68759792,  0.03571126,\n",
       "         0.2345621 ,  0.91039644,  0.19233323],\n",
       "       [ 0.80815523,  1.07743795, -1.70021965,  1.13752092,  1.26423207,\n",
       "        -0.37173853,  0.037434  ,  0.06888998],\n",
       "       [-2.00468463, -0.18643999,  0.73864368, -1.20442092, -0.42684848,\n",
       "        -0.99067105,  0.66038202,  0.0102307 ],\n",
       "       [-1.81128964,  1.59289407, -1.23659596,  0.3847972 , -0.34698183,\n",
       "         1.80886493, -0.29025367,  0.6083942 ],\n",
       "       [-1.2845015 , -0.25428   ,  2.02435561, -0.66887995, -0.56889438,\n",
       "        -0.33778398,  0.976647  , -1.02243157],\n",
       "       [-0.74092426, -0.94041402, -0.86746359,  0.29601523,  0.93565023,\n",
       "        -0.20727435,  0.1569787 ,  0.26157676],\n",
       "       [-1.87113256,  1.36522003, -1.64455391,  0.8070052 ,  0.31385197,\n",
       "        -0.21399043, -0.82967622, -0.05158542],\n",
       "       [-1.44098997,  1.78589139, -0.71841918,  0.72287413,  0.3432641 ,\n",
       "         0.54195156, -0.23009798,  0.37720152],\n",
       "       [-1.75666551, -0.04069446,  1.16511398,  0.60273045,  1.75536351,\n",
       "        -0.74899045, -0.03889022,  0.24919634],\n",
       "       [-1.78762951,  0.3779681 , -0.79425092, -0.99972252, -0.2508752 ,\n",
       "        -1.48665235,  0.26833729, -0.36881466],\n",
       "       [-2.03013756,  0.38448151, -0.0091973 ,  0.52733121,  1.2626845 ,\n",
       "        -0.2326752 ,  0.16040997, -0.02237689],\n",
       "       [-1.60241464,  1.35541851, -0.81488688,  1.44756027, -0.25406415,\n",
       "         0.54500908, -0.13900959,  0.03370075],\n",
       "       [-2.07061455, -0.78742115,  0.80211423, -0.13607557,  0.12906307,\n",
       "        -0.01078052,  0.21711232, -0.31639769],\n",
       "       [-2.04622391,  0.22655456,  0.85547279, -2.20598109, -0.41504563,\n",
       "        -1.13925919,  0.4440774 ,  1.22060573],\n",
       "       [ 1.81536419,  1.48587339, -0.91139136,  0.34186165,  1.87028211,\n",
       "        -0.09622953, -0.43824948,  0.04701726],\n",
       "       [-0.61778895, -0.38095504, -0.73277275,  0.28472642,  1.10373471,\n",
       "        -0.23064889,  1.0050463 ,  0.4190296 ],\n",
       "       [-1.34442473,  1.10784672, -1.58459016,  0.86008133, -0.36500644,\n",
       "        -0.31637155, -0.82464624, -0.34167717],\n",
       "       [-1.50440428,  1.35675021, -0.37074769,  0.38544547, -1.5607575 ,\n",
       "        -0.40782843,  0.02393527,  0.47397867],\n",
       "       [-0.68985817,  0.53910959,  3.18703708, -0.32947915,  0.70868671,\n",
       "         0.81820236,  0.90941358,  0.59275401],\n",
       "       [ 0.12897398,  1.87228279,  0.91110281, -0.33581603,  2.39792954,\n",
       "         0.03286351,  0.02800882, -0.60778198],\n",
       "       [ 2.25671781,  1.54414903,  0.61338513,  0.47671888,  0.43929657,\n",
       "         0.09501251, -0.94473023, -1.7392857 ],\n",
       "       [-0.71684424, -1.15988867,  2.712421  ,  1.56539166, -1.37408094,\n",
       "         0.89425776, -1.49984819, -0.64483408],\n",
       "       [-0.69856753,  0.13182301,  1.00983918, -0.92653725, -0.13258185,\n",
       "        -0.35292953, -0.90059358, -0.93848347],\n",
       "       [-1.01233578,  0.83837841, -0.68059118,  0.32836097, -0.31087587,\n",
       "         0.34420953,  1.27511222, -0.15033218],\n",
       "       [-2.23501123,  1.00395711, -0.82975368,  0.76134138, -0.10770683,\n",
       "         1.06183562,  0.56477819, -0.31600653],\n",
       "       [ 1.76187604, -0.32218157,  1.94707387, -0.79296181, -0.7524378 ,\n",
       "         0.43525836,  0.19929678,  0.09309877],\n",
       "       [ 2.87565271,  3.36144306,  0.29294088, -2.96001076, -0.34005433,\n",
       "        -0.34170687, -0.67041001, -0.87157722],\n",
       "       [ 1.97509942, -0.23004697, -0.66164464, -0.7041349 ,  0.04133482,\n",
       "         0.26008097,  0.23711173, -0.14653591],\n",
       "       [-1.09393999, -0.88543755,  0.0219668 ,  0.26988703,  0.1031498 ,\n",
       "         1.08121685, -0.27498594,  0.07185631],\n",
       "       [ 0.63616364,  0.83953028, -0.73707403, -1.57769933, -0.01143325,\n",
       "         1.93593195,  0.89661844,  0.14691523],\n",
       "       [-1.1136188 , -0.96464455, -0.42115079,  0.2964128 ,  0.83357384,\n",
       "         0.91567436, -0.76342145,  0.43318401],\n",
       "       [-0.47212169, -1.3700604 ,  0.05572127,  0.85180016,  0.35153159,\n",
       "        -0.03977012, -1.14274754, -0.6973359 ],\n",
       "       [ 3.14103181, -0.11708913, -0.85975265, -0.3093632 , -1.55780548,\n",
       "         1.16527902,  1.08998863, -0.08134929],\n",
       "       [-0.21218916, -0.39747009,  0.07089467, -1.06976306, -0.61544402,\n",
       "        -0.6092597 , -0.40187738, -0.37052645],\n",
       "       [-2.81510536, -2.02852308,  0.3693105 ,  0.76771981, -0.18709732,\n",
       "        -0.11686016, -0.70542603,  0.04024797],\n",
       "       [ 0.35847723, -1.22272136, -0.40166472, -0.43759993, -0.91333695,\n",
       "        -1.34115258,  0.48657632, -0.67143069],\n",
       "       [ 0.62717743, -0.24877623,  0.15263178, -0.46696501,  0.52637273,\n",
       "         0.2315714 ,  0.50084789,  0.62936483],\n",
       "       [ 1.25310444,  0.9664447 ,  0.82103702, -0.28162155, -0.34852311,\n",
       "        -0.57764419, -0.77854493, -0.09429366],\n",
       "       [ 1.49267466, -0.22267362, -0.1068382 , -0.73162883,  0.78280129,\n",
       "         0.48889898,  0.92393148,  0.17477898],\n",
       "       [ 2.23393823,  1.00050946, -1.58780221,  0.36980932, -1.31812333,\n",
       "        -0.37327554,  0.37089188,  0.49632096],\n",
       "       [-2.88645831, -0.53952888, -1.1732129 , -2.12983408,  0.54096968,\n",
       "         3.15387775, -0.2068031 , -1.65576228],\n",
       "       [-0.42694048, -0.78476306,  0.15869485,  1.73324106, -0.54740177,\n",
       "         0.21456447, -0.39551582,  0.12131996],\n",
       "       [-0.10677125,  1.00431487, -0.12716293, -2.21470083, -1.68655956,\n",
       "         0.27873182, -0.46571442,  0.5716797 ],\n",
       "       [ 0.57179798,  0.76439115,  0.71417745,  0.50878608, -0.63888334,\n",
       "         0.68857178,  0.78498826, -0.74555106],\n",
       "       [ 0.56820811,  0.47605562,  0.57472404, -0.11368071, -0.46541344,\n",
       "         0.24981802, -0.58170392, -0.11709916],\n",
       "       [-0.07119263,  0.55678763, -0.166155  , -0.51938637, -0.40151801,\n",
       "        -0.42779539, -0.0499848 ,  0.20161471],\n",
       "       [ 0.47781313, -1.53163236,  0.42896319,  1.30898362,  0.45310621,\n",
       "         0.47488438,  0.30244091,  0.50241045],\n",
       "       [ 0.08358613, -1.10492967, -0.36344373,  0.90580408, -1.55023383,\n",
       "        -0.43507556, -0.40289371,  0.48408691],\n",
       "       [ 2.56781866, -1.17831328, -1.05093385,  1.56638586, -0.34790488,\n",
       "        -0.44172229,  1.99871988, -1.721693  ],\n",
       "       [ 0.68009046,  1.35411041,  0.90569142,  0.27151703,  0.32938143,\n",
       "        -0.28476419,  0.24699421,  0.05946368],\n",
       "       [ 1.61523325,  2.58431837,  1.9677364 ,  3.73720999, -0.42688606,\n",
       "         0.1747945 ,  1.80461684, -0.21145568],\n",
       "       [-0.45147636, -1.12051431, -0.13850767, -2.24904748, -0.36618329,\n",
       "        -0.36706726,  0.42843083, -0.9487082 ],\n",
       "       [-0.28757125, -2.71664314,  0.6433557 ,  0.78538498, -0.0411812 ,\n",
       "         1.13402393, -0.66805901, -0.59260644],\n",
       "       [-0.28757125, -2.71664314,  0.6433557 ,  0.78538498, -0.0411812 ,\n",
       "         1.13402393, -0.66805901, -0.59260644],\n",
       "       [ 1.52448836, -0.64951145, -0.62392673,  0.04185995, -0.22951078,\n",
       "        -0.83426468, -0.79010127, -0.83254723],\n",
       "       [ 1.57755579, -1.00887985, -0.85875195, -0.070375  , -0.73595299,\n",
       "        -0.283465  , -0.04201872, -0.00857299],\n",
       "       [ 2.24857148, -0.65522295,  0.51266663, -0.62873567,  0.53401384,\n",
       "        -0.25623428,  0.03781154,  0.12503732],\n",
       "       [ 0.12323711, -1.03506298, -0.30477889, -1.49215495, -0.66983365,\n",
       "        -0.13934925, -0.40757984,  1.06386245],\n",
       "       [ 0.73217222, -2.11409353, -0.63403363,  0.38965133,  0.13205656,\n",
       "        -0.40060437, -0.35224466,  0.27019818],\n",
       "       [ 0.88342226, -0.49791707, -0.66219136,  0.18110078, -0.61405642,\n",
       "        -1.21872499, -0.38676006, -0.35518501],\n",
       "       [ 0.16366205, -0.57311668, -1.1964397 , -0.08616211,  1.17744839,\n",
       "        -0.02823661,  0.37148289, -1.29959953],\n",
       "       [ 2.58016406, -2.31798229, -0.23600245,  0.31191197,  0.20382532,\n",
       "        -0.3974984 , -0.40835084, -0.10366858],\n",
       "       [ 0.61789713,  1.02422516,  0.51242399, -0.67125239, -0.60797488,\n",
       "        -0.86777083,  0.23595327, -0.38059873],\n",
       "       [ 1.17032246, -2.67055546,  0.00686516,  0.01261728,  0.65381628,\n",
       "        -0.6975514 ,  0.71028439,  1.41105472],\n",
       "       [-0.14890197, -0.03083669,  1.92822441,  0.8131969 ,  0.45417319,\n",
       "        -1.16012712, -0.87992551, -0.23031007],\n",
       "       [-0.71015027, -1.10665235, -0.27812117, -0.06002281, -0.31642351,\n",
       "         0.76840597,  0.28285744,  0.78525053],\n",
       "       [-0.16729203, -1.52882913, -1.29745728, -0.26341411, -0.04824119,\n",
       "        -0.08259492,  1.06713305,  0.9595496 ],\n",
       "       [ 1.82310645, -1.01543215,  0.41046784, -0.24071768,  1.0973261 ,\n",
       "         0.60472669, -0.41685551,  0.29255029],\n",
       "       [ 0.73315007, -1.20636482, -0.39809599,  0.5549118 , -0.24843907,\n",
       "         0.60936219, -0.22326929,  1.82545116],\n",
       "       [ 2.39567326, -2.51828778, -0.14295586,  0.7943794 ,  0.03940674,\n",
       "        -0.01098413, -0.34941769, -0.15892041],\n",
       "       [ 1.01867493, -1.13928425,  1.65396983, -0.39292372,  1.01744742,\n",
       "        -0.41578365,  0.02797422,  0.09111343],\n",
       "       [-0.24348485,  0.10642684, -0.53324004, -0.85440469, -1.17769051,\n",
       "        -0.31935273, -0.18391125, -0.57669748],\n",
       "       [ 0.26991176, -0.93466804, -0.74313355,  0.05051083, -1.30718918,\n",
       "         0.2278557 , -0.13961357, -0.08216197],\n",
       "       [-1.14095136, -0.4287939 , -0.57070389,  0.15452336, -0.04112058,\n",
       "        -0.64670261,  0.77274322, -0.76931403],\n",
       "       [-0.46153711, -1.08675613, -0.94632916, -0.18237001, -0.42730747,\n",
       "        -1.01805332,  0.57395837,  0.70259941],\n",
       "       [ 1.23978777,  0.51057057, -0.13724474,  0.40983862, -0.77937973,\n",
       "         0.32690981, -0.77213024,  0.83575512],\n",
       "       [ 0.0783206 , -1.01872116, -0.72304413, -0.68496559,  0.27839363,\n",
       "         0.07858921, -0.51918158, -0.35269241],\n",
       "       [ 1.51237406,  0.81793525, -1.51488438, -0.12495988,  0.22970005,\n",
       "         1.3794347 ,  0.86632472,  0.41889993]])"
      ]
     },
     "execution_count": 26,
     "metadata": {},
     "output_type": "execute_result"
    }
   ],
   "source": [
    "data_PCA"
   ]
  },
  {
   "cell_type": "code",
   "execution_count": 27,
   "metadata": {},
   "outputs": [
    {
     "data": {
      "text/plain": [
       "(90, 8)"
      ]
     },
     "execution_count": 27,
     "metadata": {},
     "output_type": "execute_result"
    }
   ],
   "source": [
    "data_PCA.shape"
   ]
  },
  {
   "cell_type": "code",
   "execution_count": 28,
   "metadata": {},
   "outputs": [
    {
     "data": {
      "text/html": [
       "<div>\n",
       "<style scoped>\n",
       "    .dataframe tbody tr th:only-of-type {\n",
       "        vertical-align: middle;\n",
       "    }\n",
       "\n",
       "    .dataframe tbody tr th {\n",
       "        vertical-align: top;\n",
       "    }\n",
       "\n",
       "    .dataframe thead th {\n",
       "        text-align: right;\n",
       "    }\n",
       "</style>\n",
       "<table border=\"1\" class=\"dataframe\">\n",
       "  <thead>\n",
       "    <tr style=\"text-align: right;\">\n",
       "      <th></th>\n",
       "      <th>0</th>\n",
       "      <th>1</th>\n",
       "      <th>2</th>\n",
       "      <th>3</th>\n",
       "      <th>4</th>\n",
       "      <th>5</th>\n",
       "      <th>6</th>\n",
       "      <th>7</th>\n",
       "    </tr>\n",
       "  </thead>\n",
       "  <tbody>\n",
       "    <tr>\n",
       "      <th>0</th>\n",
       "      <td>0.255313</td>\n",
       "      <td>2.082420</td>\n",
       "      <td>1.795592</td>\n",
       "      <td>0.374653</td>\n",
       "      <td>-1.109140</td>\n",
       "      <td>0.735627</td>\n",
       "      <td>-0.115235</td>\n",
       "      <td>0.517997</td>\n",
       "    </tr>\n",
       "    <tr>\n",
       "      <th>1</th>\n",
       "      <td>2.303229</td>\n",
       "      <td>2.276576</td>\n",
       "      <td>-0.731972</td>\n",
       "      <td>-0.148821</td>\n",
       "      <td>2.047871</td>\n",
       "      <td>-0.129619</td>\n",
       "      <td>0.058171</td>\n",
       "      <td>0.247939</td>\n",
       "    </tr>\n",
       "    <tr>\n",
       "      <th>2</th>\n",
       "      <td>-2.030138</td>\n",
       "      <td>0.384482</td>\n",
       "      <td>-0.009197</td>\n",
       "      <td>0.527331</td>\n",
       "      <td>1.262684</td>\n",
       "      <td>-0.232675</td>\n",
       "      <td>0.160410</td>\n",
       "      <td>-0.022377</td>\n",
       "    </tr>\n",
       "    <tr>\n",
       "      <th>3</th>\n",
       "      <td>-0.728088</td>\n",
       "      <td>1.999316</td>\n",
       "      <td>-0.132329</td>\n",
       "      <td>-0.032592</td>\n",
       "      <td>-0.993690</td>\n",
       "      <td>0.819385</td>\n",
       "      <td>0.101196</td>\n",
       "      <td>0.410030</td>\n",
       "    </tr>\n",
       "    <tr>\n",
       "      <th>4</th>\n",
       "      <td>-2.357111</td>\n",
       "      <td>0.128848</td>\n",
       "      <td>0.357480</td>\n",
       "      <td>0.083020</td>\n",
       "      <td>0.938867</td>\n",
       "      <td>-0.733469</td>\n",
       "      <td>2.093447</td>\n",
       "      <td>-0.085976</td>\n",
       "    </tr>\n",
       "    <tr>\n",
       "      <th>...</th>\n",
       "      <td>...</td>\n",
       "      <td>...</td>\n",
       "      <td>...</td>\n",
       "      <td>...</td>\n",
       "      <td>...</td>\n",
       "      <td>...</td>\n",
       "      <td>...</td>\n",
       "      <td>...</td>\n",
       "    </tr>\n",
       "    <tr>\n",
       "      <th>85</th>\n",
       "      <td>-1.140951</td>\n",
       "      <td>-0.428794</td>\n",
       "      <td>-0.570704</td>\n",
       "      <td>0.154523</td>\n",
       "      <td>-0.041121</td>\n",
       "      <td>-0.646703</td>\n",
       "      <td>0.772743</td>\n",
       "      <td>-0.769314</td>\n",
       "    </tr>\n",
       "    <tr>\n",
       "      <th>86</th>\n",
       "      <td>-0.461537</td>\n",
       "      <td>-1.086756</td>\n",
       "      <td>-0.946329</td>\n",
       "      <td>-0.182370</td>\n",
       "      <td>-0.427307</td>\n",
       "      <td>-1.018053</td>\n",
       "      <td>0.573958</td>\n",
       "      <td>0.702599</td>\n",
       "    </tr>\n",
       "    <tr>\n",
       "      <th>87</th>\n",
       "      <td>1.239788</td>\n",
       "      <td>0.510571</td>\n",
       "      <td>-0.137245</td>\n",
       "      <td>0.409839</td>\n",
       "      <td>-0.779380</td>\n",
       "      <td>0.326910</td>\n",
       "      <td>-0.772130</td>\n",
       "      <td>0.835755</td>\n",
       "    </tr>\n",
       "    <tr>\n",
       "      <th>88</th>\n",
       "      <td>0.078321</td>\n",
       "      <td>-1.018721</td>\n",
       "      <td>-0.723044</td>\n",
       "      <td>-0.684966</td>\n",
       "      <td>0.278394</td>\n",
       "      <td>0.078589</td>\n",
       "      <td>-0.519182</td>\n",
       "      <td>-0.352692</td>\n",
       "    </tr>\n",
       "    <tr>\n",
       "      <th>89</th>\n",
       "      <td>1.512374</td>\n",
       "      <td>0.817935</td>\n",
       "      <td>-1.514884</td>\n",
       "      <td>-0.124960</td>\n",
       "      <td>0.229700</td>\n",
       "      <td>1.379435</td>\n",
       "      <td>0.866325</td>\n",
       "      <td>0.418900</td>\n",
       "    </tr>\n",
       "  </tbody>\n",
       "</table>\n",
       "<p>90 rows × 8 columns</p>\n",
       "</div>"
      ],
      "text/plain": [
       "           0         1         2         3         4         5         6  \\\n",
       "0   0.255313  2.082420  1.795592  0.374653 -1.109140  0.735627 -0.115235   \n",
       "1   2.303229  2.276576 -0.731972 -0.148821  2.047871 -0.129619  0.058171   \n",
       "2  -2.030138  0.384482 -0.009197  0.527331  1.262684 -0.232675  0.160410   \n",
       "3  -0.728088  1.999316 -0.132329 -0.032592 -0.993690  0.819385  0.101196   \n",
       "4  -2.357111  0.128848  0.357480  0.083020  0.938867 -0.733469  2.093447   \n",
       "..       ...       ...       ...       ...       ...       ...       ...   \n",
       "85 -1.140951 -0.428794 -0.570704  0.154523 -0.041121 -0.646703  0.772743   \n",
       "86 -0.461537 -1.086756 -0.946329 -0.182370 -0.427307 -1.018053  0.573958   \n",
       "87  1.239788  0.510571 -0.137245  0.409839 -0.779380  0.326910 -0.772130   \n",
       "88  0.078321 -1.018721 -0.723044 -0.684966  0.278394  0.078589 -0.519182   \n",
       "89  1.512374  0.817935 -1.514884 -0.124960  0.229700  1.379435  0.866325   \n",
       "\n",
       "           7  \n",
       "0   0.517997  \n",
       "1   0.247939  \n",
       "2  -0.022377  \n",
       "3   0.410030  \n",
       "4  -0.085976  \n",
       "..       ...  \n",
       "85 -0.769314  \n",
       "86  0.702599  \n",
       "87  0.835755  \n",
       "88 -0.352692  \n",
       "89  0.418900  \n",
       "\n",
       "[90 rows x 8 columns]"
      ]
     },
     "execution_count": 28,
     "metadata": {},
     "output_type": "execute_result"
    }
   ],
   "source": [
    "pd.DataFrame(data_PCA)"
   ]
  },
  {
   "cell_type": "code",
   "execution_count": 29,
   "metadata": {},
   "outputs": [
    {
     "data": {
      "text/plain": [
       "array([[-0.18227112,  0.09628467,  0.07595838, -0.00221968, -0.05812014,\n",
       "        -0.13588247, -0.63823307, -0.02411243, -0.38586723, -0.30100285,\n",
       "        -0.36251032, -0.26551373, -0.28354373,  0.01274717],\n",
       "       [ 0.06037599, -0.06178098, -0.16008751, -0.26068148, -0.21216104,\n",
       "        -0.15944812,  0.46244234, -0.11907056, -0.13898009, -0.06777595,\n",
       "         0.02943741, -0.59462442, -0.24925043, -0.40001086],\n",
       "       [ 0.03858712, -0.02233605,  0.4856906 ,  0.05445947, -0.10005976,\n",
       "         0.02141581,  0.35107982,  0.00993132, -0.10127855, -0.63175992,\n",
       "        -0.0991878 ,  0.40464082, -0.13418286, -0.15610665],\n",
       "       [ 0.13669342,  0.13107231,  0.12268426,  0.34577401,  0.60170422,\n",
       "         0.25151365, -0.00445443,  0.33998538,  0.00543202, -0.19934001,\n",
       "         0.13361973, -0.39862356,  0.11990823, -0.24022485],\n",
       "       [-0.15282925,  0.23380104, -0.339593  , -0.01158933,  0.15757625,\n",
       "         0.25348782, -0.04726902,  0.08021202,  0.0760234 ,  0.14202279,\n",
       "         0.00208466,  0.38092208, -0.59999058, -0.42157229],\n",
       "       [ 0.1422206 ,  0.29240242, -0.22091538,  0.24429367, -0.59676909,\n",
       "         0.18636815, -0.09419723,  0.25682629,  0.3821904 , -0.18650863,\n",
       "        -0.23427849, -0.08892883,  0.22332753, -0.16299362],\n",
       "       [ 0.06743278,  0.02423852, -0.07150704, -0.00849963, -0.05314869,\n",
       "        -0.24445176, -0.30009229, -0.21455682, -0.23445381, -0.04298464,\n",
       "         0.36014694,  0.22182832,  0.43695124, -0.60361584],\n",
       "       [ 0.04033486, -0.38490941,  0.57172656, -0.09558669, -0.14772399,\n",
       "         0.14754294, -0.29447472,  0.00632477,  0.40487943,  0.2729207 ,\n",
       "         0.05211795, -0.12592721, -0.18399369, -0.30499578]])"
      ]
     },
     "execution_count": 29,
     "metadata": {},
     "output_type": "execute_result"
    }
   ],
   "source": [
    "pca.components_"
   ]
  },
  {
   "cell_type": "code",
   "execution_count": null,
   "metadata": {},
   "outputs": [],
   "source": []
  }
 ],
 "metadata": {
  "kernelspec": {
   "display_name": "Python 3 (ipykernel)",
   "language": "python",
   "name": "python3"
  },
  "language_info": {
   "codemirror_mode": {
    "name": "ipython",
    "version": 3
   },
   "file_extension": ".py",
   "mimetype": "text/x-python",
   "name": "python",
   "nbconvert_exporter": "python",
   "pygments_lexer": "ipython3",
   "version": "3.9.12"
  }
 },
 "nbformat": 4,
 "nbformat_minor": 4
}
