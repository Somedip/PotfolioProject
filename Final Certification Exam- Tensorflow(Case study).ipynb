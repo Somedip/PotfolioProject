{
 "cells": [
  {
   "cell_type": "code",
   "execution_count": 1,
   "id": "0d7266f2",
   "metadata": {},
   "outputs": [],
   "source": [
    "import pandas as pd"
   ]
  },
  {
   "cell_type": "code",
   "execution_count": 2,
   "id": "84c2a909",
   "metadata": {},
   "outputs": [],
   "source": [
    "df = pd.read_csv(r'C:\\Users\\Laxman\\OneDrive\\Desktop\\Ad click data.csv')"
   ]
  },
  {
   "cell_type": "code",
   "execution_count": 3,
   "id": "acfa5bf9",
   "metadata": {},
   "outputs": [
    {
     "data": {
      "text/html": [
       "<div>\n",
       "<style scoped>\n",
       "    .dataframe tbody tr th:only-of-type {\n",
       "        vertical-align: middle;\n",
       "    }\n",
       "\n",
       "    .dataframe tbody tr th {\n",
       "        vertical-align: top;\n",
       "    }\n",
       "\n",
       "    .dataframe thead th {\n",
       "        text-align: right;\n",
       "    }\n",
       "</style>\n",
       "<table border=\"1\" class=\"dataframe\">\n",
       "  <thead>\n",
       "    <tr style=\"text-align: right;\">\n",
       "      <th></th>\n",
       "      <th>VisitorID</th>\n",
       "      <th>TimeSpent</th>\n",
       "      <th>Age</th>\n",
       "      <th>AvgIncome</th>\n",
       "      <th>InternetUsage</th>\n",
       "      <th>AdTopic</th>\n",
       "      <th>CountryName</th>\n",
       "      <th>CityCode</th>\n",
       "      <th>Male</th>\n",
       "      <th>TimePeriod</th>\n",
       "      <th>Weekday</th>\n",
       "      <th>Month</th>\n",
       "      <th>Year</th>\n",
       "      <th>Clicked</th>\n",
       "    </tr>\n",
       "  </thead>\n",
       "  <tbody>\n",
       "    <tr>\n",
       "      <th>0</th>\n",
       "      <td>5183153</td>\n",
       "      <td>87.97</td>\n",
       "      <td>43</td>\n",
       "      <td>55901.12</td>\n",
       "      <td>185.46</td>\n",
       "      <td>product_11</td>\n",
       "      <td>Serbia</td>\n",
       "      <td>City_5</td>\n",
       "      <td>No</td>\n",
       "      <td>Mid-Night</td>\n",
       "      <td>Thursday</td>\n",
       "      <td>July</td>\n",
       "      <td>2020</td>\n",
       "      <td>0</td>\n",
       "    </tr>\n",
       "    <tr>\n",
       "      <th>1</th>\n",
       "      <td>4023265</td>\n",
       "      <td>51.63</td>\n",
       "      <td>50</td>\n",
       "      <td>39132.00</td>\n",
       "      <td>176.73</td>\n",
       "      <td>product_8</td>\n",
       "      <td>Turkmenistan</td>\n",
       "      <td>City_1</td>\n",
       "      <td>No</td>\n",
       "      <td>Evening</td>\n",
       "      <td>Saturday</td>\n",
       "      <td>June</td>\n",
       "      <td>2020</td>\n",
       "      <td>1</td>\n",
       "    </tr>\n",
       "    <tr>\n",
       "      <th>2</th>\n",
       "      <td>4708083</td>\n",
       "      <td>82.37</td>\n",
       "      <td>38</td>\n",
       "      <td>57032.36</td>\n",
       "      <td>210.60</td>\n",
       "      <td>product_6</td>\n",
       "      <td>Northern Mariana Islands</td>\n",
       "      <td>City_2</td>\n",
       "      <td>No</td>\n",
       "      <td>Morning</td>\n",
       "      <td>Tuesday</td>\n",
       "      <td>January</td>\n",
       "      <td>2020</td>\n",
       "      <td>0</td>\n",
       "    </tr>\n",
       "    <tr>\n",
       "      <th>3</th>\n",
       "      <td>9771815</td>\n",
       "      <td>62.06</td>\n",
       "      <td>45</td>\n",
       "      <td>48868.00</td>\n",
       "      <td>190.05</td>\n",
       "      <td>product_19</td>\n",
       "      <td>South Africa</td>\n",
       "      <td>City_3</td>\n",
       "      <td>Yes</td>\n",
       "      <td>Morning</td>\n",
       "      <td>Thursday</td>\n",
       "      <td>April</td>\n",
       "      <td>2020</td>\n",
       "      <td>1</td>\n",
       "    </tr>\n",
       "    <tr>\n",
       "      <th>4</th>\n",
       "      <td>6451317</td>\n",
       "      <td>77.66</td>\n",
       "      <td>31</td>\n",
       "      <td>61608.23</td>\n",
       "      <td>204.86</td>\n",
       "      <td>product_11</td>\n",
       "      <td>Guadeloupe</td>\n",
       "      <td>City_2</td>\n",
       "      <td>No</td>\n",
       "      <td>Noon</td>\n",
       "      <td>Thursday</td>\n",
       "      <td>January</td>\n",
       "      <td>2020</td>\n",
       "      <td>0</td>\n",
       "    </tr>\n",
       "  </tbody>\n",
       "</table>\n",
       "</div>"
      ],
      "text/plain": [
       "   VisitorID  TimeSpent  Age  AvgIncome  InternetUsage     AdTopic  \\\n",
       "0    5183153      87.97   43   55901.12         185.46  product_11   \n",
       "1    4023265      51.63   50   39132.00         176.73   product_8   \n",
       "2    4708083      82.37   38   57032.36         210.60   product_6   \n",
       "3    9771815      62.06   45   48868.00         190.05  product_19   \n",
       "4    6451317      77.66   31   61608.23         204.86  product_11   \n",
       "\n",
       "                CountryName CityCode Male TimePeriod   Weekday    Month  Year  \\\n",
       "0                    Serbia   City_5   No  Mid-Night  Thursday     July  2020   \n",
       "1              Turkmenistan   City_1   No    Evening  Saturday     June  2020   \n",
       "2  Northern Mariana Islands   City_2   No    Morning   Tuesday  January  2020   \n",
       "3              South Africa   City_3  Yes    Morning  Thursday    April  2020   \n",
       "4                Guadeloupe   City_2   No       Noon  Thursday  January  2020   \n",
       "\n",
       "   Clicked  \n",
       "0        0  \n",
       "1        1  \n",
       "2        0  \n",
       "3        1  \n",
       "4        0  "
      ]
     },
     "execution_count": 3,
     "metadata": {},
     "output_type": "execute_result"
    }
   ],
   "source": [
    "df.head()"
   ]
  },
  {
   "cell_type": "code",
   "execution_count": 4,
   "id": "57e77cb3",
   "metadata": {},
   "outputs": [
    {
     "name": "stdout",
     "output_type": "stream",
     "text": [
      "<class 'pandas.core.frame.DataFrame'>\n",
      "RangeIndex: 6657 entries, 0 to 6656\n",
      "Data columns (total 14 columns):\n",
      " #   Column         Non-Null Count  Dtype  \n",
      "---  ------         --------------  -----  \n",
      " 0   VisitorID      6657 non-null   int64  \n",
      " 1   TimeSpent      6657 non-null   float64\n",
      " 2   Age            6657 non-null   int64  \n",
      " 3   AvgIncome      6657 non-null   float64\n",
      " 4   InternetUsage  6657 non-null   float64\n",
      " 5   AdTopic        6657 non-null   object \n",
      " 6   CountryName    6657 non-null   object \n",
      " 7   CityCode       6657 non-null   object \n",
      " 8   Male           6657 non-null   object \n",
      " 9   TimePeriod     6657 non-null   object \n",
      " 10  Weekday        6657 non-null   object \n",
      " 11  Month          6657 non-null   object \n",
      " 12  Year           6657 non-null   int64  \n",
      " 13  Clicked        6657 non-null   int64  \n",
      "dtypes: float64(3), int64(4), object(7)\n",
      "memory usage: 728.2+ KB\n"
     ]
    }
   ],
   "source": [
    "df.info()"
   ]
  },
  {
   "cell_type": "code",
   "execution_count": 5,
   "id": "53044513",
   "metadata": {},
   "outputs": [
    {
     "data": {
      "text/plain": [
       "VisitorID        0\n",
       "TimeSpent        0\n",
       "Age              0\n",
       "AvgIncome        0\n",
       "InternetUsage    0\n",
       "AdTopic          0\n",
       "CountryName      0\n",
       "CityCode         0\n",
       "Male             0\n",
       "TimePeriod       0\n",
       "Weekday          0\n",
       "Month            0\n",
       "Year             0\n",
       "Clicked          0\n",
       "dtype: int64"
      ]
     },
     "execution_count": 5,
     "metadata": {},
     "output_type": "execute_result"
    }
   ],
   "source": [
    "df.isnull().sum()"
   ]
  },
  {
   "cell_type": "code",
   "execution_count": 6,
   "id": "e1ef675e",
   "metadata": {},
   "outputs": [],
   "source": [
    "df_dummy = pd.get_dummies(df,columns=['AdTopic','CountryName','CityCode','Male','TimePeriod','Weekday','Month'],drop_first=True)"
   ]
  },
  {
   "cell_type": "code",
   "execution_count": 7,
   "id": "fada75bf",
   "metadata": {},
   "outputs": [
    {
     "data": {
      "text/html": [
       "<div>\n",
       "<style scoped>\n",
       "    .dataframe tbody tr th:only-of-type {\n",
       "        vertical-align: middle;\n",
       "    }\n",
       "\n",
       "    .dataframe tbody tr th {\n",
       "        vertical-align: top;\n",
       "    }\n",
       "\n",
       "    .dataframe thead th {\n",
       "        text-align: right;\n",
       "    }\n",
       "</style>\n",
       "<table border=\"1\" class=\"dataframe\">\n",
       "  <thead>\n",
       "    <tr style=\"text-align: right;\">\n",
       "      <th></th>\n",
       "      <th>VisitorID</th>\n",
       "      <th>TimeSpent</th>\n",
       "      <th>Age</th>\n",
       "      <th>AvgIncome</th>\n",
       "      <th>InternetUsage</th>\n",
       "      <th>Year</th>\n",
       "      <th>Clicked</th>\n",
       "      <th>AdTopic_product_10</th>\n",
       "      <th>AdTopic_product_11</th>\n",
       "      <th>AdTopic_product_12</th>\n",
       "      <th>...</th>\n",
       "      <th>Weekday_Sunday</th>\n",
       "      <th>Weekday_Thursday</th>\n",
       "      <th>Weekday_Tuesday</th>\n",
       "      <th>Weekday_Wednesday</th>\n",
       "      <th>Month_February</th>\n",
       "      <th>Month_January</th>\n",
       "      <th>Month_July</th>\n",
       "      <th>Month_June</th>\n",
       "      <th>Month_March</th>\n",
       "      <th>Month_May</th>\n",
       "    </tr>\n",
       "  </thead>\n",
       "  <tbody>\n",
       "    <tr>\n",
       "      <th>0</th>\n",
       "      <td>5183153</td>\n",
       "      <td>87.97</td>\n",
       "      <td>43</td>\n",
       "      <td>55901.12</td>\n",
       "      <td>185.46</td>\n",
       "      <td>2020</td>\n",
       "      <td>0</td>\n",
       "      <td>0</td>\n",
       "      <td>1</td>\n",
       "      <td>0</td>\n",
       "      <td>...</td>\n",
       "      <td>0</td>\n",
       "      <td>1</td>\n",
       "      <td>0</td>\n",
       "      <td>0</td>\n",
       "      <td>0</td>\n",
       "      <td>0</td>\n",
       "      <td>1</td>\n",
       "      <td>0</td>\n",
       "      <td>0</td>\n",
       "      <td>0</td>\n",
       "    </tr>\n",
       "    <tr>\n",
       "      <th>1</th>\n",
       "      <td>4023265</td>\n",
       "      <td>51.63</td>\n",
       "      <td>50</td>\n",
       "      <td>39132.00</td>\n",
       "      <td>176.73</td>\n",
       "      <td>2020</td>\n",
       "      <td>1</td>\n",
       "      <td>0</td>\n",
       "      <td>0</td>\n",
       "      <td>0</td>\n",
       "      <td>...</td>\n",
       "      <td>0</td>\n",
       "      <td>0</td>\n",
       "      <td>0</td>\n",
       "      <td>0</td>\n",
       "      <td>0</td>\n",
       "      <td>0</td>\n",
       "      <td>0</td>\n",
       "      <td>1</td>\n",
       "      <td>0</td>\n",
       "      <td>0</td>\n",
       "    </tr>\n",
       "    <tr>\n",
       "      <th>2</th>\n",
       "      <td>4708083</td>\n",
       "      <td>82.37</td>\n",
       "      <td>38</td>\n",
       "      <td>57032.36</td>\n",
       "      <td>210.60</td>\n",
       "      <td>2020</td>\n",
       "      <td>0</td>\n",
       "      <td>0</td>\n",
       "      <td>0</td>\n",
       "      <td>0</td>\n",
       "      <td>...</td>\n",
       "      <td>0</td>\n",
       "      <td>0</td>\n",
       "      <td>1</td>\n",
       "      <td>0</td>\n",
       "      <td>0</td>\n",
       "      <td>1</td>\n",
       "      <td>0</td>\n",
       "      <td>0</td>\n",
       "      <td>0</td>\n",
       "      <td>0</td>\n",
       "    </tr>\n",
       "    <tr>\n",
       "      <th>3</th>\n",
       "      <td>9771815</td>\n",
       "      <td>62.06</td>\n",
       "      <td>45</td>\n",
       "      <td>48868.00</td>\n",
       "      <td>190.05</td>\n",
       "      <td>2020</td>\n",
       "      <td>1</td>\n",
       "      <td>0</td>\n",
       "      <td>0</td>\n",
       "      <td>0</td>\n",
       "      <td>...</td>\n",
       "      <td>0</td>\n",
       "      <td>1</td>\n",
       "      <td>0</td>\n",
       "      <td>0</td>\n",
       "      <td>0</td>\n",
       "      <td>0</td>\n",
       "      <td>0</td>\n",
       "      <td>0</td>\n",
       "      <td>0</td>\n",
       "      <td>0</td>\n",
       "    </tr>\n",
       "    <tr>\n",
       "      <th>4</th>\n",
       "      <td>6451317</td>\n",
       "      <td>77.66</td>\n",
       "      <td>31</td>\n",
       "      <td>61608.23</td>\n",
       "      <td>204.86</td>\n",
       "      <td>2020</td>\n",
       "      <td>0</td>\n",
       "      <td>0</td>\n",
       "      <td>1</td>\n",
       "      <td>0</td>\n",
       "      <td>...</td>\n",
       "      <td>0</td>\n",
       "      <td>1</td>\n",
       "      <td>0</td>\n",
       "      <td>0</td>\n",
       "      <td>0</td>\n",
       "      <td>1</td>\n",
       "      <td>0</td>\n",
       "      <td>0</td>\n",
       "      <td>0</td>\n",
       "      <td>0</td>\n",
       "    </tr>\n",
       "  </tbody>\n",
       "</table>\n",
       "<p>5 rows × 298 columns</p>\n",
       "</div>"
      ],
      "text/plain": [
       "   VisitorID  TimeSpent  Age  AvgIncome  InternetUsage  Year  Clicked  \\\n",
       "0    5183153      87.97   43   55901.12         185.46  2020        0   \n",
       "1    4023265      51.63   50   39132.00         176.73  2020        1   \n",
       "2    4708083      82.37   38   57032.36         210.60  2020        0   \n",
       "3    9771815      62.06   45   48868.00         190.05  2020        1   \n",
       "4    6451317      77.66   31   61608.23         204.86  2020        0   \n",
       "\n",
       "   AdTopic_product_10  AdTopic_product_11  AdTopic_product_12  ...  \\\n",
       "0                   0                   1                   0  ...   \n",
       "1                   0                   0                   0  ...   \n",
       "2                   0                   0                   0  ...   \n",
       "3                   0                   0                   0  ...   \n",
       "4                   0                   1                   0  ...   \n",
       "\n",
       "   Weekday_Sunday  Weekday_Thursday  Weekday_Tuesday  Weekday_Wednesday  \\\n",
       "0               0                 1                0                  0   \n",
       "1               0                 0                0                  0   \n",
       "2               0                 0                1                  0   \n",
       "3               0                 1                0                  0   \n",
       "4               0                 1                0                  0   \n",
       "\n",
       "   Month_February  Month_January  Month_July  Month_June  Month_March  \\\n",
       "0               0              0           1           0            0   \n",
       "1               0              0           0           1            0   \n",
       "2               0              1           0           0            0   \n",
       "3               0              0           0           0            0   \n",
       "4               0              1           0           0            0   \n",
       "\n",
       "   Month_May  \n",
       "0          0  \n",
       "1          0  \n",
       "2          0  \n",
       "3          0  \n",
       "4          0  \n",
       "\n",
       "[5 rows x 298 columns]"
      ]
     },
     "execution_count": 7,
     "metadata": {},
     "output_type": "execute_result"
    }
   ],
   "source": [
    "df_dummy.head()"
   ]
  },
  {
   "cell_type": "code",
   "execution_count": 9,
   "id": "25e3b2b0",
   "metadata": {},
   "outputs": [
    {
     "data": {
      "text/plain": [
       "(6657, 298)"
      ]
     },
     "execution_count": 9,
     "metadata": {},
     "output_type": "execute_result"
    }
   ],
   "source": [
    "df_dummy.shape"
   ]
  },
  {
   "cell_type": "markdown",
   "id": "13c4da83",
   "metadata": {},
   "source": [
    "Identify the input and output features"
   ]
  },
  {
   "cell_type": "code",
   "execution_count": 10,
   "id": "447c13a4",
   "metadata": {},
   "outputs": [],
   "source": [
    "y = df_dummy[['Clicked']]\n",
    "x = df_dummy.drop(columns=['Clicked'])"
   ]
  },
  {
   "cell_type": "markdown",
   "id": "1fbaee86",
   "metadata": {},
   "source": [
    "Lets perform feature scaling on the data using Standardisation"
   ]
  },
  {
   "cell_type": "code",
   "execution_count": 11,
   "id": "51984bd0",
   "metadata": {},
   "outputs": [],
   "source": [
    "from sklearn.preprocessing import StandardScaler\n",
    "sc = StandardScaler()\n",
    "x_scal = sc.fit_transform(x)"
   ]
  },
  {
   "cell_type": "code",
   "execution_count": 12,
   "id": "c1bf6dd1",
   "metadata": {},
   "outputs": [
    {
     "data": {
      "text/html": [
       "<div>\n",
       "<style scoped>\n",
       "    .dataframe tbody tr th:only-of-type {\n",
       "        vertical-align: middle;\n",
       "    }\n",
       "\n",
       "    .dataframe tbody tr th {\n",
       "        vertical-align: top;\n",
       "    }\n",
       "\n",
       "    .dataframe thead th {\n",
       "        text-align: right;\n",
       "    }\n",
       "</style>\n",
       "<table border=\"1\" class=\"dataframe\">\n",
       "  <thead>\n",
       "    <tr style=\"text-align: right;\">\n",
       "      <th></th>\n",
       "      <th>VisitorID</th>\n",
       "      <th>TimeSpent</th>\n",
       "      <th>Age</th>\n",
       "      <th>AvgIncome</th>\n",
       "      <th>InternetUsage</th>\n",
       "      <th>Year</th>\n",
       "      <th>AdTopic_product_10</th>\n",
       "      <th>AdTopic_product_11</th>\n",
       "      <th>AdTopic_product_12</th>\n",
       "      <th>AdTopic_product_13</th>\n",
       "      <th>...</th>\n",
       "      <th>Weekday_Sunday</th>\n",
       "      <th>Weekday_Thursday</th>\n",
       "      <th>Weekday_Tuesday</th>\n",
       "      <th>Weekday_Wednesday</th>\n",
       "      <th>Month_February</th>\n",
       "      <th>Month_January</th>\n",
       "      <th>Month_July</th>\n",
       "      <th>Month_June</th>\n",
       "      <th>Month_March</th>\n",
       "      <th>Month_May</th>\n",
       "    </tr>\n",
       "  </thead>\n",
       "  <tbody>\n",
       "    <tr>\n",
       "      <th>0</th>\n",
       "      <td>-0.138270</td>\n",
       "      <td>1.361862</td>\n",
       "      <td>0.522180</td>\n",
       "      <td>-0.002240</td>\n",
       "      <td>0.011863</td>\n",
       "      <td>0.0</td>\n",
       "      <td>-0.190024</td>\n",
       "      <td>5.460718</td>\n",
       "      <td>-0.187892</td>\n",
       "      <td>-0.1963</td>\n",
       "      <td>...</td>\n",
       "      <td>-0.415235</td>\n",
       "      <td>2.487767</td>\n",
       "      <td>-0.404233</td>\n",
       "      <td>-0.4002</td>\n",
       "      <td>-0.406494</td>\n",
       "      <td>-0.417470</td>\n",
       "      <td>2.481545</td>\n",
       "      <td>-0.405741</td>\n",
       "      <td>-0.402975</td>\n",
       "      <td>-0.407998</td>\n",
       "    </tr>\n",
       "    <tr>\n",
       "      <th>1</th>\n",
       "      <td>-0.585053</td>\n",
       "      <td>-0.981368</td>\n",
       "      <td>1.158854</td>\n",
       "      <td>-1.281412</td>\n",
       "      <td>-0.190283</td>\n",
       "      <td>0.0</td>\n",
       "      <td>-0.190024</td>\n",
       "      <td>-0.183126</td>\n",
       "      <td>-0.187892</td>\n",
       "      <td>-0.1963</td>\n",
       "      <td>...</td>\n",
       "      <td>-0.415235</td>\n",
       "      <td>-0.401967</td>\n",
       "      <td>-0.404233</td>\n",
       "      <td>-0.4002</td>\n",
       "      <td>-0.406494</td>\n",
       "      <td>-0.417470</td>\n",
       "      <td>-0.402975</td>\n",
       "      <td>2.464628</td>\n",
       "      <td>-0.402975</td>\n",
       "      <td>-0.407998</td>\n",
       "    </tr>\n",
       "    <tr>\n",
       "      <th>2</th>\n",
       "      <td>-0.321265</td>\n",
       "      <td>1.000770</td>\n",
       "      <td>0.067412</td>\n",
       "      <td>0.084052</td>\n",
       "      <td>0.593987</td>\n",
       "      <td>0.0</td>\n",
       "      <td>-0.190024</td>\n",
       "      <td>-0.183126</td>\n",
       "      <td>-0.187892</td>\n",
       "      <td>-0.1963</td>\n",
       "      <td>...</td>\n",
       "      <td>-0.415235</td>\n",
       "      <td>-0.401967</td>\n",
       "      <td>2.473820</td>\n",
       "      <td>-0.4002</td>\n",
       "      <td>-0.406494</td>\n",
       "      <td>2.395382</td>\n",
       "      <td>-0.402975</td>\n",
       "      <td>-0.405741</td>\n",
       "      <td>-0.402975</td>\n",
       "      <td>-0.407998</td>\n",
       "    </tr>\n",
       "    <tr>\n",
       "      <th>3</th>\n",
       "      <td>1.629259</td>\n",
       "      <td>-0.308834</td>\n",
       "      <td>0.704087</td>\n",
       "      <td>-0.538736</td>\n",
       "      <td>0.118146</td>\n",
       "      <td>0.0</td>\n",
       "      <td>-0.190024</td>\n",
       "      <td>-0.183126</td>\n",
       "      <td>-0.187892</td>\n",
       "      <td>-0.1963</td>\n",
       "      <td>...</td>\n",
       "      <td>-0.415235</td>\n",
       "      <td>2.487767</td>\n",
       "      <td>-0.404233</td>\n",
       "      <td>-0.4002</td>\n",
       "      <td>-0.406494</td>\n",
       "      <td>-0.417470</td>\n",
       "      <td>-0.402975</td>\n",
       "      <td>-0.405741</td>\n",
       "      <td>-0.402975</td>\n",
       "      <td>-0.407998</td>\n",
       "    </tr>\n",
       "    <tr>\n",
       "      <th>4</th>\n",
       "      <td>0.350220</td>\n",
       "      <td>0.697066</td>\n",
       "      <td>-0.569262</td>\n",
       "      <td>0.433106</td>\n",
       "      <td>0.461076</td>\n",
       "      <td>0.0</td>\n",
       "      <td>-0.190024</td>\n",
       "      <td>5.460718</td>\n",
       "      <td>-0.187892</td>\n",
       "      <td>-0.1963</td>\n",
       "      <td>...</td>\n",
       "      <td>-0.415235</td>\n",
       "      <td>2.487767</td>\n",
       "      <td>-0.404233</td>\n",
       "      <td>-0.4002</td>\n",
       "      <td>-0.406494</td>\n",
       "      <td>2.395382</td>\n",
       "      <td>-0.402975</td>\n",
       "      <td>-0.405741</td>\n",
       "      <td>-0.402975</td>\n",
       "      <td>-0.407998</td>\n",
       "    </tr>\n",
       "  </tbody>\n",
       "</table>\n",
       "<p>5 rows × 297 columns</p>\n",
       "</div>"
      ],
      "text/plain": [
       "   VisitorID  TimeSpent       Age  AvgIncome  InternetUsage  Year  \\\n",
       "0  -0.138270   1.361862  0.522180  -0.002240       0.011863   0.0   \n",
       "1  -0.585053  -0.981368  1.158854  -1.281412      -0.190283   0.0   \n",
       "2  -0.321265   1.000770  0.067412   0.084052       0.593987   0.0   \n",
       "3   1.629259  -0.308834  0.704087  -0.538736       0.118146   0.0   \n",
       "4   0.350220   0.697066 -0.569262   0.433106       0.461076   0.0   \n",
       "\n",
       "   AdTopic_product_10  AdTopic_product_11  AdTopic_product_12  \\\n",
       "0           -0.190024            5.460718           -0.187892   \n",
       "1           -0.190024           -0.183126           -0.187892   \n",
       "2           -0.190024           -0.183126           -0.187892   \n",
       "3           -0.190024           -0.183126           -0.187892   \n",
       "4           -0.190024            5.460718           -0.187892   \n",
       "\n",
       "   AdTopic_product_13  ...  Weekday_Sunday  Weekday_Thursday  Weekday_Tuesday  \\\n",
       "0             -0.1963  ...       -0.415235          2.487767        -0.404233   \n",
       "1             -0.1963  ...       -0.415235         -0.401967        -0.404233   \n",
       "2             -0.1963  ...       -0.415235         -0.401967         2.473820   \n",
       "3             -0.1963  ...       -0.415235          2.487767        -0.404233   \n",
       "4             -0.1963  ...       -0.415235          2.487767        -0.404233   \n",
       "\n",
       "   Weekday_Wednesday  Month_February  Month_January  Month_July  Month_June  \\\n",
       "0            -0.4002       -0.406494      -0.417470    2.481545   -0.405741   \n",
       "1            -0.4002       -0.406494      -0.417470   -0.402975    2.464628   \n",
       "2            -0.4002       -0.406494       2.395382   -0.402975   -0.405741   \n",
       "3            -0.4002       -0.406494      -0.417470   -0.402975   -0.405741   \n",
       "4            -0.4002       -0.406494       2.395382   -0.402975   -0.405741   \n",
       "\n",
       "   Month_March  Month_May  \n",
       "0    -0.402975  -0.407998  \n",
       "1    -0.402975  -0.407998  \n",
       "2    -0.402975  -0.407998  \n",
       "3    -0.402975  -0.407998  \n",
       "4    -0.402975  -0.407998  \n",
       "\n",
       "[5 rows x 297 columns]"
      ]
     },
     "execution_count": 12,
     "metadata": {},
     "output_type": "execute_result"
    }
   ],
   "source": [
    "x_scal = pd.DataFrame(x_scal,columns=x.columns)\n",
    "x_scal.head()"
   ]
  },
  {
   "cell_type": "markdown",
   "id": "f9f7ca1a",
   "metadata": {},
   "source": [
    "Split the data into train and test"
   ]
  },
  {
   "cell_type": "code",
   "execution_count": 13,
   "id": "0d2ed2a4",
   "metadata": {},
   "outputs": [],
   "source": [
    "from sklearn.model_selection import train_test_split"
   ]
  },
  {
   "cell_type": "code",
   "execution_count": 14,
   "id": "35ed53d6",
   "metadata": {},
   "outputs": [],
   "source": [
    "x_train,x_test,y_train,y_test = train_test_split(x_scal,y,test_size=0.2,random_state=42)"
   ]
  },
  {
   "cell_type": "code",
   "execution_count": 15,
   "id": "e9055b9a",
   "metadata": {},
   "outputs": [
    {
     "data": {
      "text/plain": [
       "(5325, 1332, 5325, 1332)"
      ]
     },
     "execution_count": 15,
     "metadata": {},
     "output_type": "execute_result"
    }
   ],
   "source": [
    "len(x_train),len(x_test),len(y_train),len(y_test)"
   ]
  },
  {
   "cell_type": "markdown",
   "id": "5fe69909",
   "metadata": {},
   "source": [
    "## Building Logistic Regression"
   ]
  },
  {
   "cell_type": "code",
   "execution_count": 16,
   "id": "27b2a46c",
   "metadata": {},
   "outputs": [
    {
     "name": "stderr",
     "output_type": "stream",
     "text": [
      "C:\\Users\\Laxman\\anaconda3\\lib\\site-packages\\sklearn\\utils\\validation.py:1111: DataConversionWarning: A column-vector y was passed when a 1d array was expected. Please change the shape of y to (n_samples, ), for example using ravel().\n",
      "  y = column_or_1d(y, warn=True)\n"
     ]
    }
   ],
   "source": [
    "from sklearn.linear_model import LogisticRegression\n",
    "log_reg = LogisticRegression()\n",
    "model = log_reg.fit(x_train,y_train)"
   ]
  },
  {
   "cell_type": "code",
   "execution_count": 17,
   "id": "39eeef6f",
   "metadata": {},
   "outputs": [
    {
     "data": {
      "text/html": [
       "<div>\n",
       "<style scoped>\n",
       "    .dataframe tbody tr th:only-of-type {\n",
       "        vertical-align: middle;\n",
       "    }\n",
       "\n",
       "    .dataframe tbody tr th {\n",
       "        vertical-align: top;\n",
       "    }\n",
       "\n",
       "    .dataframe thead th {\n",
       "        text-align: right;\n",
       "    }\n",
       "</style>\n",
       "<table border=\"1\" class=\"dataframe\">\n",
       "  <thead>\n",
       "    <tr style=\"text-align: right;\">\n",
       "      <th></th>\n",
       "      <th>Clicked</th>\n",
       "    </tr>\n",
       "  </thead>\n",
       "  <tbody>\n",
       "    <tr>\n",
       "      <th>3332</th>\n",
       "      <td>1</td>\n",
       "    </tr>\n",
       "    <tr>\n",
       "      <th>217</th>\n",
       "      <td>0</td>\n",
       "    </tr>\n",
       "    <tr>\n",
       "      <th>4715</th>\n",
       "      <td>0</td>\n",
       "    </tr>\n",
       "    <tr>\n",
       "      <th>2939</th>\n",
       "      <td>1</td>\n",
       "    </tr>\n",
       "    <tr>\n",
       "      <th>1544</th>\n",
       "      <td>1</td>\n",
       "    </tr>\n",
       "  </tbody>\n",
       "</table>\n",
       "</div>"
      ],
      "text/plain": [
       "      Clicked\n",
       "3332        1\n",
       "217         0\n",
       "4715        0\n",
       "2939        1\n",
       "1544        1"
      ]
     },
     "execution_count": 17,
     "metadata": {},
     "output_type": "execute_result"
    }
   ],
   "source": [
    "y_test.head()"
   ]
  },
  {
   "cell_type": "code",
   "execution_count": 19,
   "id": "f72d6dcb",
   "metadata": {},
   "outputs": [],
   "source": [
    "y_test['Prediction_LR'] = model.predict(x_test)"
   ]
  },
  {
   "cell_type": "code",
   "execution_count": 20,
   "id": "2cd88b19",
   "metadata": {},
   "outputs": [
    {
     "data": {
      "text/html": [
       "<div>\n",
       "<style scoped>\n",
       "    .dataframe tbody tr th:only-of-type {\n",
       "        vertical-align: middle;\n",
       "    }\n",
       "\n",
       "    .dataframe tbody tr th {\n",
       "        vertical-align: top;\n",
       "    }\n",
       "\n",
       "    .dataframe thead th {\n",
       "        text-align: right;\n",
       "    }\n",
       "</style>\n",
       "<table border=\"1\" class=\"dataframe\">\n",
       "  <thead>\n",
       "    <tr style=\"text-align: right;\">\n",
       "      <th></th>\n",
       "      <th>Clicked</th>\n",
       "      <th>Prediction_LR</th>\n",
       "    </tr>\n",
       "  </thead>\n",
       "  <tbody>\n",
       "    <tr>\n",
       "      <th>3332</th>\n",
       "      <td>1</td>\n",
       "      <td>1</td>\n",
       "    </tr>\n",
       "    <tr>\n",
       "      <th>217</th>\n",
       "      <td>0</td>\n",
       "      <td>0</td>\n",
       "    </tr>\n",
       "    <tr>\n",
       "      <th>4715</th>\n",
       "      <td>0</td>\n",
       "      <td>0</td>\n",
       "    </tr>\n",
       "    <tr>\n",
       "      <th>2939</th>\n",
       "      <td>1</td>\n",
       "      <td>1</td>\n",
       "    </tr>\n",
       "    <tr>\n",
       "      <th>1544</th>\n",
       "      <td>1</td>\n",
       "      <td>1</td>\n",
       "    </tr>\n",
       "  </tbody>\n",
       "</table>\n",
       "</div>"
      ],
      "text/plain": [
       "      Clicked  Prediction_LR\n",
       "3332        1              1\n",
       "217         0              0\n",
       "4715        0              0\n",
       "2939        1              1\n",
       "1544        1              1"
      ]
     },
     "execution_count": 20,
     "metadata": {},
     "output_type": "execute_result"
    }
   ],
   "source": [
    "y_test.head()"
   ]
  },
  {
   "cell_type": "code",
   "execution_count": 21,
   "id": "f1a6e50b",
   "metadata": {},
   "outputs": [],
   "source": [
    "from sklearn.metrics import accuracy_score,confusion_matrix"
   ]
  },
  {
   "cell_type": "code",
   "execution_count": 22,
   "id": "ddd38111",
   "metadata": {},
   "outputs": [
    {
     "name": "stdout",
     "output_type": "stream",
     "text": [
      "[[679  37]\n",
      " [ 63 553]]\n"
     ]
    }
   ],
   "source": [
    "print(confusion_matrix(y_test['Clicked'],y_test['Prediction_LR']))"
   ]
  },
  {
   "cell_type": "code",
   "execution_count": 23,
   "id": "75ea1c63",
   "metadata": {},
   "outputs": [
    {
     "name": "stdout",
     "output_type": "stream",
     "text": [
      "0.924924924924925\n"
     ]
    }
   ],
   "source": [
    "print(accuracy_score(y_test['Clicked'],y_test['Prediction_LR']))"
   ]
  },
  {
   "cell_type": "markdown",
   "id": "c49803a1",
   "metadata": {},
   "source": [
    "The Logistic Regression model is able to predict the data with 92.4% accuracy. This is a good value"
   ]
  },
  {
   "cell_type": "code",
   "execution_count": null,
   "id": "6bebed2f",
   "metadata": {},
   "outputs": [],
   "source": []
  },
  {
   "cell_type": "code",
   "execution_count": 24,
   "id": "756c6326",
   "metadata": {},
   "outputs": [],
   "source": [
    "from sklearn.tree import DecisionTreeClassifier\n",
    "dt = DecisionTreeClassifier()\n",
    "model = dt.fit(x_train,y_train)"
   ]
  },
  {
   "cell_type": "code",
   "execution_count": 25,
   "id": "a87b47da",
   "metadata": {},
   "outputs": [],
   "source": [
    "y_test['Prediction_DT'] = model.predict(x_test)"
   ]
  },
  {
   "cell_type": "code",
   "execution_count": 28,
   "id": "44860512",
   "metadata": {},
   "outputs": [
    {
     "data": {
      "text/html": [
       "<div>\n",
       "<style scoped>\n",
       "    .dataframe tbody tr th:only-of-type {\n",
       "        vertical-align: middle;\n",
       "    }\n",
       "\n",
       "    .dataframe tbody tr th {\n",
       "        vertical-align: top;\n",
       "    }\n",
       "\n",
       "    .dataframe thead th {\n",
       "        text-align: right;\n",
       "    }\n",
       "</style>\n",
       "<table border=\"1\" class=\"dataframe\">\n",
       "  <thead>\n",
       "    <tr style=\"text-align: right;\">\n",
       "      <th></th>\n",
       "      <th>Clicked</th>\n",
       "      <th>Prediction_LR</th>\n",
       "      <th>Prediction_DT</th>\n",
       "    </tr>\n",
       "  </thead>\n",
       "  <tbody>\n",
       "    <tr>\n",
       "      <th>3332</th>\n",
       "      <td>1</td>\n",
       "      <td>1</td>\n",
       "      <td>1</td>\n",
       "    </tr>\n",
       "    <tr>\n",
       "      <th>217</th>\n",
       "      <td>0</td>\n",
       "      <td>0</td>\n",
       "      <td>0</td>\n",
       "    </tr>\n",
       "    <tr>\n",
       "      <th>4715</th>\n",
       "      <td>0</td>\n",
       "      <td>0</td>\n",
       "      <td>0</td>\n",
       "    </tr>\n",
       "    <tr>\n",
       "      <th>2939</th>\n",
       "      <td>1</td>\n",
       "      <td>1</td>\n",
       "      <td>1</td>\n",
       "    </tr>\n",
       "    <tr>\n",
       "      <th>1544</th>\n",
       "      <td>1</td>\n",
       "      <td>1</td>\n",
       "      <td>0</td>\n",
       "    </tr>\n",
       "  </tbody>\n",
       "</table>\n",
       "</div>"
      ],
      "text/plain": [
       "      Clicked  Prediction_LR  Prediction_DT\n",
       "3332        1              1              1\n",
       "217         0              0              0\n",
       "4715        0              0              0\n",
       "2939        1              1              1\n",
       "1544        1              1              0"
      ]
     },
     "execution_count": 28,
     "metadata": {},
     "output_type": "execute_result"
    }
   ],
   "source": [
    "y_test.head()"
   ]
  },
  {
   "cell_type": "code",
   "execution_count": 27,
   "id": "5db8ff29",
   "metadata": {},
   "outputs": [
    {
     "name": "stdout",
     "output_type": "stream",
     "text": [
      "[[679  37]\n",
      " [ 75 541]]\n"
     ]
    }
   ],
   "source": [
    "print(confusion_matrix(y_test['Clicked'],y_test['Prediction_DT']))"
   ]
  },
  {
   "cell_type": "code",
   "execution_count": 29,
   "id": "fa391e19",
   "metadata": {},
   "outputs": [
    {
     "name": "stdout",
     "output_type": "stream",
     "text": [
      "0.9159159159159159\n"
     ]
    }
   ],
   "source": [
    "print(accuracy_score(y_test['Clicked'],y_test['Prediction_DT']))"
   ]
  },
  {
   "cell_type": "markdown",
   "id": "aee26211",
   "metadata": {},
   "source": [
    "The Decision tree algorithm is not performing better than logistic regression and it is giving an accuracy of 91.6%"
   ]
  }
 ],
 "metadata": {
  "kernelspec": {
   "display_name": "Python 3 (ipykernel)",
   "language": "python",
   "name": "python3"
  },
  "language_info": {
   "codemirror_mode": {
    "name": "ipython",
    "version": 3
   },
   "file_extension": ".py",
   "mimetype": "text/x-python",
   "name": "python",
   "nbconvert_exporter": "python",
   "pygments_lexer": "ipython3",
   "version": "3.9.12"
  }
 },
 "nbformat": 4,
 "nbformat_minor": 5
}
