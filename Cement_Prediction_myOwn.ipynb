{
 "cells": [
  {
   "cell_type": "markdown",
   "id": "5afd668a",
   "metadata": {},
   "source": [
    "# AIM : Cement Prediction using ARIMA model ."
   ]
  },
  {
   "cell_type": "code",
   "execution_count": 1,
   "id": "06383312",
   "metadata": {},
   "outputs": [],
   "source": [
    "import pandas as pd\n",
    "import matplotlib.pyplot as plt"
   ]
  },
  {
   "cell_type": "code",
   "execution_count": 2,
   "id": "8b8d0eac",
   "metadata": {},
   "outputs": [],
   "source": [
    "data=pd.read_excel('./Cement-Production.xlsx')"
   ]
  },
  {
   "cell_type": "code",
   "execution_count": 3,
   "id": "299f62b9",
   "metadata": {},
   "outputs": [
    {
     "data": {
      "text/html": [
       "<div>\n",
       "<style scoped>\n",
       "    .dataframe tbody tr th:only-of-type {\n",
       "        vertical-align: middle;\n",
       "    }\n",
       "\n",
       "    .dataframe tbody tr th {\n",
       "        vertical-align: top;\n",
       "    }\n",
       "\n",
       "    .dataframe thead th {\n",
       "        text-align: right;\n",
       "    }\n",
       "</style>\n",
       "<table border=\"1\" class=\"dataframe\">\n",
       "  <thead>\n",
       "    <tr style=\"text-align: right;\">\n",
       "      <th></th>\n",
       "      <th>Period</th>\n",
       "      <th>Month</th>\n",
       "      <th>Cement Consumption</th>\n",
       "    </tr>\n",
       "  </thead>\n",
       "  <tbody>\n",
       "    <tr>\n",
       "      <th>0</th>\n",
       "      <td>1</td>\n",
       "      <td>2001-04-01</td>\n",
       "      <td>333224</td>\n",
       "    </tr>\n",
       "    <tr>\n",
       "      <th>1</th>\n",
       "      <td>2</td>\n",
       "      <td>2001-05-01</td>\n",
       "      <td>399256</td>\n",
       "    </tr>\n",
       "    <tr>\n",
       "      <th>2</th>\n",
       "      <td>3</td>\n",
       "      <td>2001-06-01</td>\n",
       "      <td>626754</td>\n",
       "    </tr>\n",
       "    <tr>\n",
       "      <th>3</th>\n",
       "      <td>4</td>\n",
       "      <td>2001-07-01</td>\n",
       "      <td>366388</td>\n",
       "    </tr>\n",
       "    <tr>\n",
       "      <th>4</th>\n",
       "      <td>5</td>\n",
       "      <td>2001-08-01</td>\n",
       "      <td>361452</td>\n",
       "    </tr>\n",
       "  </tbody>\n",
       "</table>\n",
       "</div>"
      ],
      "text/plain": [
       "   Period      Month  Cement Consumption\n",
       "0       1 2001-04-01              333224\n",
       "1       2 2001-05-01              399256\n",
       "2       3 2001-06-01              626754\n",
       "3       4 2001-07-01              366388\n",
       "4       5 2001-08-01              361452"
      ]
     },
     "execution_count": 3,
     "metadata": {},
     "output_type": "execute_result"
    }
   ],
   "source": [
    "data.head()"
   ]
  },
  {
   "cell_type": "code",
   "execution_count": 4,
   "id": "f7195453",
   "metadata": {},
   "outputs": [
    {
     "data": {
      "text/plain": [
       "<bound method NDFrame._add_numeric_operations.<locals>.sum of      Period  Month  Cement Consumption\n",
       "0     False  False               False\n",
       "1     False  False               False\n",
       "2     False  False               False\n",
       "3     False  False               False\n",
       "4     False  False               False\n",
       "..      ...    ...                 ...\n",
       "111   False  False               False\n",
       "112   False  False               False\n",
       "113   False  False               False\n",
       "114   False  False               False\n",
       "115   False  False               False\n",
       "\n",
       "[116 rows x 3 columns]>"
      ]
     },
     "execution_count": 4,
     "metadata": {},
     "output_type": "execute_result"
    }
   ],
   "source": [
    "data.isnull().sum"
   ]
  },
  {
   "cell_type": "code",
   "execution_count": 5,
   "id": "f647b218",
   "metadata": {},
   "outputs": [
    {
     "name": "stdout",
     "output_type": "stream",
     "text": [
      "<class 'pandas.core.frame.DataFrame'>\n",
      "RangeIndex: 116 entries, 0 to 115\n",
      "Data columns (total 3 columns):\n",
      " #   Column              Non-Null Count  Dtype         \n",
      "---  ------              --------------  -----         \n",
      " 0   Period              116 non-null    int64         \n",
      " 1   Month               116 non-null    datetime64[ns]\n",
      " 2   Cement Consumption  116 non-null    int64         \n",
      "dtypes: datetime64[ns](1), int64(2)\n",
      "memory usage: 2.8 KB\n"
     ]
    }
   ],
   "source": [
    "data.info()"
   ]
  },
  {
   "cell_type": "code",
   "execution_count": 6,
   "id": "3f878adc",
   "metadata": {},
   "outputs": [],
   "source": [
    "data.set_index('Month', inplace=True)"
   ]
  },
  {
   "cell_type": "code",
   "execution_count": 7,
   "id": "66b18a7a",
   "metadata": {},
   "outputs": [
    {
     "data": {
      "text/html": [
       "<div>\n",
       "<style scoped>\n",
       "    .dataframe tbody tr th:only-of-type {\n",
       "        vertical-align: middle;\n",
       "    }\n",
       "\n",
       "    .dataframe tbody tr th {\n",
       "        vertical-align: top;\n",
       "    }\n",
       "\n",
       "    .dataframe thead th {\n",
       "        text-align: right;\n",
       "    }\n",
       "</style>\n",
       "<table border=\"1\" class=\"dataframe\">\n",
       "  <thead>\n",
       "    <tr style=\"text-align: right;\">\n",
       "      <th></th>\n",
       "      <th>Period</th>\n",
       "      <th>Cement Consumption</th>\n",
       "    </tr>\n",
       "    <tr>\n",
       "      <th>Month</th>\n",
       "      <th></th>\n",
       "      <th></th>\n",
       "    </tr>\n",
       "  </thead>\n",
       "  <tbody>\n",
       "    <tr>\n",
       "      <th>2001-04-01</th>\n",
       "      <td>1</td>\n",
       "      <td>333224</td>\n",
       "    </tr>\n",
       "    <tr>\n",
       "      <th>2001-05-01</th>\n",
       "      <td>2</td>\n",
       "      <td>399256</td>\n",
       "    </tr>\n",
       "    <tr>\n",
       "      <th>2001-06-01</th>\n",
       "      <td>3</td>\n",
       "      <td>626754</td>\n",
       "    </tr>\n",
       "    <tr>\n",
       "      <th>2001-07-01</th>\n",
       "      <td>4</td>\n",
       "      <td>366388</td>\n",
       "    </tr>\n",
       "    <tr>\n",
       "      <th>2001-08-01</th>\n",
       "      <td>5</td>\n",
       "      <td>361452</td>\n",
       "    </tr>\n",
       "    <tr>\n",
       "      <th>...</th>\n",
       "      <td>...</td>\n",
       "      <td>...</td>\n",
       "    </tr>\n",
       "    <tr>\n",
       "      <th>2010-07-01</th>\n",
       "      <td>112</td>\n",
       "      <td>717713</td>\n",
       "    </tr>\n",
       "    <tr>\n",
       "      <th>2010-08-01</th>\n",
       "      <td>113</td>\n",
       "      <td>668939</td>\n",
       "    </tr>\n",
       "    <tr>\n",
       "      <th>2010-09-01</th>\n",
       "      <td>114</td>\n",
       "      <td>687420</td>\n",
       "    </tr>\n",
       "    <tr>\n",
       "      <th>2010-10-01</th>\n",
       "      <td>115</td>\n",
       "      <td>862787</td>\n",
       "    </tr>\n",
       "    <tr>\n",
       "      <th>2010-11-01</th>\n",
       "      <td>116</td>\n",
       "      <td>581979</td>\n",
       "    </tr>\n",
       "  </tbody>\n",
       "</table>\n",
       "<p>116 rows × 2 columns</p>\n",
       "</div>"
      ],
      "text/plain": [
       "            Period  Cement Consumption\n",
       "Month                                 \n",
       "2001-04-01       1              333224\n",
       "2001-05-01       2              399256\n",
       "2001-06-01       3              626754\n",
       "2001-07-01       4              366388\n",
       "2001-08-01       5              361452\n",
       "...            ...                 ...\n",
       "2010-07-01     112              717713\n",
       "2010-08-01     113              668939\n",
       "2010-09-01     114              687420\n",
       "2010-10-01     115              862787\n",
       "2010-11-01     116              581979\n",
       "\n",
       "[116 rows x 2 columns]"
      ]
     },
     "execution_count": 7,
     "metadata": {},
     "output_type": "execute_result"
    }
   ],
   "source": [
    "data"
   ]
  },
  {
   "cell_type": "code",
   "execution_count": 8,
   "id": "2e89b6dc",
   "metadata": {},
   "outputs": [],
   "source": [
    "Cement= data.drop('Period', axis = 1)"
   ]
  },
  {
   "cell_type": "code",
   "execution_count": 9,
   "id": "9d2d9329",
   "metadata": {},
   "outputs": [
    {
     "data": {
      "text/html": [
       "<div>\n",
       "<style scoped>\n",
       "    .dataframe tbody tr th:only-of-type {\n",
       "        vertical-align: middle;\n",
       "    }\n",
       "\n",
       "    .dataframe tbody tr th {\n",
       "        vertical-align: top;\n",
       "    }\n",
       "\n",
       "    .dataframe thead th {\n",
       "        text-align: right;\n",
       "    }\n",
       "</style>\n",
       "<table border=\"1\" class=\"dataframe\">\n",
       "  <thead>\n",
       "    <tr style=\"text-align: right;\">\n",
       "      <th></th>\n",
       "      <th>Cement Consumption</th>\n",
       "    </tr>\n",
       "    <tr>\n",
       "      <th>Month</th>\n",
       "      <th></th>\n",
       "    </tr>\n",
       "  </thead>\n",
       "  <tbody>\n",
       "    <tr>\n",
       "      <th>2001-04-01</th>\n",
       "      <td>333224</td>\n",
       "    </tr>\n",
       "    <tr>\n",
       "      <th>2001-05-01</th>\n",
       "      <td>399256</td>\n",
       "    </tr>\n",
       "    <tr>\n",
       "      <th>2001-06-01</th>\n",
       "      <td>626754</td>\n",
       "    </tr>\n",
       "    <tr>\n",
       "      <th>2001-07-01</th>\n",
       "      <td>366388</td>\n",
       "    </tr>\n",
       "    <tr>\n",
       "      <th>2001-08-01</th>\n",
       "      <td>361452</td>\n",
       "    </tr>\n",
       "    <tr>\n",
       "      <th>...</th>\n",
       "      <td>...</td>\n",
       "    </tr>\n",
       "    <tr>\n",
       "      <th>2010-07-01</th>\n",
       "      <td>717713</td>\n",
       "    </tr>\n",
       "    <tr>\n",
       "      <th>2010-08-01</th>\n",
       "      <td>668939</td>\n",
       "    </tr>\n",
       "    <tr>\n",
       "      <th>2010-09-01</th>\n",
       "      <td>687420</td>\n",
       "    </tr>\n",
       "    <tr>\n",
       "      <th>2010-10-01</th>\n",
       "      <td>862787</td>\n",
       "    </tr>\n",
       "    <tr>\n",
       "      <th>2010-11-01</th>\n",
       "      <td>581979</td>\n",
       "    </tr>\n",
       "  </tbody>\n",
       "</table>\n",
       "<p>116 rows × 1 columns</p>\n",
       "</div>"
      ],
      "text/plain": [
       "            Cement Consumption\n",
       "Month                         \n",
       "2001-04-01              333224\n",
       "2001-05-01              399256\n",
       "2001-06-01              626754\n",
       "2001-07-01              366388\n",
       "2001-08-01              361452\n",
       "...                        ...\n",
       "2010-07-01              717713\n",
       "2010-08-01              668939\n",
       "2010-09-01              687420\n",
       "2010-10-01              862787\n",
       "2010-11-01              581979\n",
       "\n",
       "[116 rows x 1 columns]"
      ]
     },
     "execution_count": 9,
     "metadata": {},
     "output_type": "execute_result"
    }
   ],
   "source": [
    "Cement"
   ]
  },
  {
   "cell_type": "code",
   "execution_count": 10,
   "id": "5fde3b6f",
   "metadata": {},
   "outputs": [
    {
     "data": {
      "text/plain": [
       "[<matplotlib.lines.Line2D at 0x209450b8f70>]"
      ]
     },
     "execution_count": 10,
     "metadata": {},
     "output_type": "execute_result"
    },
    {
     "data": {
      "image/png": "[encoded data removed]",
      "text/plain": [
       "<Figure size 864x576 with 1 Axes>"
      ]
     },
     "metadata": {
      "needs_background": "light"
     },
     "output_type": "display_data"
    }
   ],
   "source": [
    "plt.figure(figsize=(12,8))\n",
    "plt.plot(data['Cement Consumption'])"
   ]
  },
  {
   "cell_type": "markdown",
   "id": "ccd84dca",
   "metadata": {},
   "source": [
    "# Missing Values Check"
   ]
  },
  {
   "cell_type": "code",
   "execution_count": 11,
   "id": "46a1ecec",
   "metadata": {},
   "outputs": [
    {
     "data": {
      "text/plain": [
       "<bound method NDFrame._add_numeric_operations.<locals>.sum of             Period  Cement Consumption\n",
       "Month                                 \n",
       "2001-04-01   False               False\n",
       "2001-05-01   False               False\n",
       "2001-06-01   False               False\n",
       "2001-07-01   False               False\n",
       "2001-08-01   False               False\n",
       "...            ...                 ...\n",
       "2010-07-01   False               False\n",
       "2010-08-01   False               False\n",
       "2010-09-01   False               False\n",
       "2010-10-01   False               False\n",
       "2010-11-01   False               False\n",
       "\n",
       "[116 rows x 2 columns]>"
      ]
     },
     "execution_count": 11,
     "metadata": {},
     "output_type": "execute_result"
    }
   ],
   "source": [
    "data.isnull().sum"
   ]
  },
  {
   "cell_type": "markdown",
   "id": "05a666e3",
   "metadata": {},
   "source": [
    "# KPSS Test"
   ]
  },
  {
   "cell_type": "code",
   "execution_count": 12,
   "id": "ce8a4a9d",
   "metadata": {},
   "outputs": [],
   "source": [
    "from statsmodels.tsa.stattools import kpss"
   ]
  },
  {
   "cell_type": "code",
   "execution_count": 13,
   "id": "b2b9385a",
   "metadata": {},
   "outputs": [
    {
     "name": "stderr",
     "output_type": "stream",
     "text": [
      "G:\\Anaconda\\lib\\site-packages\\statsmodels\\tsa\\stattools.py:2018: InterpolationWarning: The test statistic is outside of the range of p-values available in the\n",
      "look-up table. The actual p-value is smaller than the p-value returned.\n",
      "\n",
      "  warnings.warn(\n"
     ]
    }
   ],
   "source": [
    "stats, p, lags, critical_values = kpss(data['Cement Consumption'], 'ct')"
   ]
  },
  {
   "cell_type": "code",
   "execution_count": 14,
   "id": "e2281fc3",
   "metadata": {},
   "outputs": [
    {
     "name": "stdout",
     "output_type": "stream",
     "text": [
      "Test Statistics: 0.22444607894638652\n",
      "p-value: 0.01\n",
      "Critial Values: {'10%': 0.119, '5%': 0.146, '2.5%': 0.176, '1%': 0.216}\n",
      "Series is not Stationary\n"
     ]
    }
   ],
   "source": [
    "print(f'Test Statistics: {stats}')\n",
    "print(f'p-value: {p}')\n",
    "print(f'Critial Values: {critical_values}')\n",
    "\n",
    "if p < 0.05 :\n",
    "  print('Series is not Stationary')\n",
    "else:\n",
    "  print('Series is Stationary')"
   ]
  },
  {
   "cell_type": "markdown",
   "id": "155bd658",
   "metadata": {},
   "source": [
    "# 1st Order Differencing "
   ]
  },
  {
   "cell_type": "code",
   "execution_count": 15,
   "id": "109bb58f",
   "metadata": {},
   "outputs": [],
   "source": [
    "Cement_diff = Cement.diff()"
   ]
  },
  {
   "cell_type": "code",
   "execution_count": 16,
   "id": "e1e0fd10",
   "metadata": {},
   "outputs": [
    {
     "data": {
      "text/html": [
       "<div>\n",
       "<style scoped>\n",
       "    .dataframe tbody tr th:only-of-type {\n",
       "        vertical-align: middle;\n",
       "    }\n",
       "\n",
       "    .dataframe tbody tr th {\n",
       "        vertical-align: top;\n",
       "    }\n",
       "\n",
       "    .dataframe thead th {\n",
       "        text-align: right;\n",
       "    }\n",
       "</style>\n",
       "<table border=\"1\" class=\"dataframe\">\n",
       "  <thead>\n",
       "    <tr style=\"text-align: right;\">\n",
       "      <th></th>\n",
       "      <th>Cement Consumption</th>\n",
       "    </tr>\n",
       "    <tr>\n",
       "      <th>Month</th>\n",
       "      <th></th>\n",
       "    </tr>\n",
       "  </thead>\n",
       "  <tbody>\n",
       "    <tr>\n",
       "      <th>2001-04-01</th>\n",
       "      <td>NaN</td>\n",
       "    </tr>\n",
       "    <tr>\n",
       "      <th>2001-05-01</th>\n",
       "      <td>66032.0</td>\n",
       "    </tr>\n",
       "    <tr>\n",
       "      <th>2001-06-01</th>\n",
       "      <td>227498.0</td>\n",
       "    </tr>\n",
       "    <tr>\n",
       "      <th>2001-07-01</th>\n",
       "      <td>-260366.0</td>\n",
       "    </tr>\n",
       "    <tr>\n",
       "      <th>2001-08-01</th>\n",
       "      <td>-4936.0</td>\n",
       "    </tr>\n",
       "    <tr>\n",
       "      <th>...</th>\n",
       "      <td>...</td>\n",
       "    </tr>\n",
       "    <tr>\n",
       "      <th>2010-07-01</th>\n",
       "      <td>-133516.0</td>\n",
       "    </tr>\n",
       "    <tr>\n",
       "      <th>2010-08-01</th>\n",
       "      <td>-48774.0</td>\n",
       "    </tr>\n",
       "    <tr>\n",
       "      <th>2010-09-01</th>\n",
       "      <td>18481.0</td>\n",
       "    </tr>\n",
       "    <tr>\n",
       "      <th>2010-10-01</th>\n",
       "      <td>175367.0</td>\n",
       "    </tr>\n",
       "    <tr>\n",
       "      <th>2010-11-01</th>\n",
       "      <td>-280808.0</td>\n",
       "    </tr>\n",
       "  </tbody>\n",
       "</table>\n",
       "<p>116 rows × 1 columns</p>\n",
       "</div>"
      ],
      "text/plain": [
       "            Cement Consumption\n",
       "Month                         \n",
       "2001-04-01                 NaN\n",
       "2001-05-01             66032.0\n",
       "2001-06-01            227498.0\n",
       "2001-07-01           -260366.0\n",
       "2001-08-01             -4936.0\n",
       "...                        ...\n",
       "2010-07-01           -133516.0\n",
       "2010-08-01            -48774.0\n",
       "2010-09-01             18481.0\n",
       "2010-10-01            175367.0\n",
       "2010-11-01           -280808.0\n",
       "\n",
       "[116 rows x 1 columns]"
      ]
     },
     "execution_count": 16,
     "metadata": {},
     "output_type": "execute_result"
    }
   ],
   "source": [
    "Cement_diff"
   ]
  },
  {
   "cell_type": "code",
   "execution_count": 17,
   "id": "e0963dd5",
   "metadata": {},
   "outputs": [],
   "source": [
    "from statsmodels.tsa.stattools import adfuller"
   ]
  },
  {
   "cell_type": "code",
   "execution_count": 18,
   "id": "d0fb317c",
   "metadata": {},
   "outputs": [],
   "source": [
    "# Cement_diff1= Cement_diff.drop('Period', axis = 1)"
   ]
  },
  {
   "cell_type": "code",
   "execution_count": 19,
   "id": "f9fd22ee",
   "metadata": {},
   "outputs": [],
   "source": [
    "#Cement_diff1"
   ]
  },
  {
   "cell_type": "code",
   "execution_count": 20,
   "id": "f33a9c5e",
   "metadata": {
    "scrolled": true
   },
   "outputs": [],
   "source": [
    "result= adfuller(Cement_diff.dropna())"
   ]
  },
  {
   "cell_type": "code",
   "execution_count": 21,
   "id": "f554800a",
   "metadata": {},
   "outputs": [
    {
     "name": "stdout",
     "output_type": "stream",
     "text": [
      "Test Statistics : -2.2202270425507535\n",
      "P Value : 0.19898627907590827\n",
      "Critical Values: \n",
      " {'1%': -3.4968181663902103, '5%': -2.8906107514600103, '10%': -2.5822770483285953}\n",
      "The series is not Stationsary\n"
     ]
    }
   ],
   "source": [
    "print('Test Statistics :', result[0])\n",
    "print('P Value :', result[1])\n",
    "print(\"Critical Values: \\n\", result[4])\n",
    "\n",
    "p_value = result[1]\n",
    "if p_value< 0.05:\n",
    "    print(\"The series is Stationsary\")\n",
    "else:\n",
    "    print(\"The series is not Stationsary\")"
   ]
  },
  {
   "cell_type": "markdown",
   "id": "72a51191",
   "metadata": {},
   "source": [
    "# 2nd Order Differencing"
   ]
  },
  {
   "cell_type": "code",
   "execution_count": 22,
   "id": "e6442a6f",
   "metadata": {},
   "outputs": [],
   "source": [
    "Cement_diff2 = Cement_diff.diff()"
   ]
  },
  {
   "cell_type": "code",
   "execution_count": 23,
   "id": "dc1b7cdb",
   "metadata": {},
   "outputs": [],
   "source": [
    "result= adfuller(Cement_diff.diff().dropna())"
   ]
  },
  {
   "cell_type": "code",
   "execution_count": 24,
   "id": "1c848b59",
   "metadata": {
    "scrolled": true
   },
   "outputs": [
    {
     "name": "stdout",
     "output_type": "stream",
     "text": [
      "Test Statistics : -7.864725158128122\n",
      "P Value : 5.171204567755397e-12\n",
      "Critical Values: \n",
      " {'1%': -3.497501033, '5%': -2.89090644, '10%': -2.5824349}\n",
      "The series is Stationary\n"
     ]
    }
   ],
   "source": [
    "print('Test Statistics :', result[0])\n",
    "print('P Value :', result[1])\n",
    "print(\"Critical Values: \\n\", result[4])\n",
    "\n",
    "p_value = result[1]\n",
    "if p_value< 0.05:\n",
    "    print(\"The series is Stationary\")\n",
    "else:\n",
    "    print(\"The series is not Stationary\")"
   ]
  },
  {
   "cell_type": "markdown",
   "id": "c899f827",
   "metadata": {},
   "source": [
    "# ACF graph "
   ]
  },
  {
   "cell_type": "code",
   "execution_count": 25,
   "id": "f0b38019",
   "metadata": {},
   "outputs": [],
   "source": [
    "from statsmodels.graphics.tsaplots import plot_acf, plot_pacf"
   ]
  },
  {
   "cell_type": "code",
   "execution_count": 26,
   "id": "2c7bf1ce",
   "metadata": {},
   "outputs": [
    {
     "data": {
      "image/png": "[encoded data removed]",
      "text/plain": [
       "<Figure size 432x288 with 1 Axes>"
      ]
     },
     "metadata": {
      "needs_background": "light"
     },
     "output_type": "display_data"
    }
   ],
   "source": [
    "acf= plot_acf(Cement_diff.diff().dropna(), lags=10) # ACF plot gives you the q value"
   ]
  },
  {
   "cell_type": "markdown",
   "id": "e0f755bd",
   "metadata": {},
   "source": [
    "# PACF graph"
   ]
  },
  {
   "cell_type": "code",
   "execution_count": 27,
   "id": "30f01680",
   "metadata": {},
   "outputs": [
    {
     "name": "stderr",
     "output_type": "stream",
     "text": [
      "G:\\Anaconda\\lib\\site-packages\\statsmodels\\graphics\\tsaplots.py:348: FutureWarning: The default method 'yw' can produce PACF values outside of the [-1,1] interval. After 0.13, the default will change tounadjusted Yule-Walker ('ywm'). You can use this method now by setting method='ywm'.\n",
      "  warnings.warn(\n"
     ]
    },
    {
     "data": {
      "image/png": "[encoded data removed]",
      "text/plain": [
       "<Figure size 432x288 with 1 Axes>"
      ]
     },
     "metadata": {
      "needs_background": "light"
     },
     "output_type": "display_data"
    }
   ],
   "source": [
    "pacf= plot_pacf(Cement_diff.diff().dropna(), lags=10) # PACF plot gives you the p value"
   ]
  },
  {
   "cell_type": "code",
   "execution_count": 159,
   "id": "5162474c",
   "metadata": {},
   "outputs": [],
   "source": [
    "from statsmodels.tsa.arima.model import ARIMA"
   ]
  },
  {
   "cell_type": "code",
   "execution_count": 160,
   "id": "0d104ac3",
   "metadata": {},
   "outputs": [
    {
     "data": {
      "text/html": [
       "<div>\n",
       "<style scoped>\n",
       "    .dataframe tbody tr th:only-of-type {\n",
       "        vertical-align: middle;\n",
       "    }\n",
       "\n",
       "    .dataframe tbody tr th {\n",
       "        vertical-align: top;\n",
       "    }\n",
       "\n",
       "    .dataframe thead th {\n",
       "        text-align: right;\n",
       "    }\n",
       "</style>\n",
       "<table border=\"1\" class=\"dataframe\">\n",
       "  <thead>\n",
       "    <tr style=\"text-align: right;\">\n",
       "      <th></th>\n",
       "      <th>Cement Consumption</th>\n",
       "    </tr>\n",
       "    <tr>\n",
       "      <th>Month</th>\n",
       "      <th></th>\n",
       "    </tr>\n",
       "  </thead>\n",
       "  <tbody>\n",
       "    <tr>\n",
       "      <th>2001-04-01</th>\n",
       "      <td>333224</td>\n",
       "    </tr>\n",
       "    <tr>\n",
       "      <th>2001-05-01</th>\n",
       "      <td>399256</td>\n",
       "    </tr>\n",
       "    <tr>\n",
       "      <th>2001-06-01</th>\n",
       "      <td>626754</td>\n",
       "    </tr>\n",
       "    <tr>\n",
       "      <th>2001-07-01</th>\n",
       "      <td>366388</td>\n",
       "    </tr>\n",
       "    <tr>\n",
       "      <th>2001-08-01</th>\n",
       "      <td>361452</td>\n",
       "    </tr>\n",
       "    <tr>\n",
       "      <th>...</th>\n",
       "      <td>...</td>\n",
       "    </tr>\n",
       "    <tr>\n",
       "      <th>2010-07-01</th>\n",
       "      <td>717713</td>\n",
       "    </tr>\n",
       "    <tr>\n",
       "      <th>2010-08-01</th>\n",
       "      <td>668939</td>\n",
       "    </tr>\n",
       "    <tr>\n",
       "      <th>2010-09-01</th>\n",
       "      <td>687420</td>\n",
       "    </tr>\n",
       "    <tr>\n",
       "      <th>2010-10-01</th>\n",
       "      <td>862787</td>\n",
       "    </tr>\n",
       "    <tr>\n",
       "      <th>2010-11-01</th>\n",
       "      <td>581979</td>\n",
       "    </tr>\n",
       "  </tbody>\n",
       "</table>\n",
       "<p>116 rows × 1 columns</p>\n",
       "</div>"
      ],
      "text/plain": [
       "            Cement Consumption\n",
       "Month                         \n",
       "2001-04-01              333224\n",
       "2001-05-01              399256\n",
       "2001-06-01              626754\n",
       "2001-07-01              366388\n",
       "2001-08-01              361452\n",
       "...                        ...\n",
       "2010-07-01              717713\n",
       "2010-08-01              668939\n",
       "2010-09-01              687420\n",
       "2010-10-01              862787\n",
       "2010-11-01              581979\n",
       "\n",
       "[116 rows x 1 columns]"
      ]
     },
     "execution_count": 160,
     "metadata": {},
     "output_type": "execute_result"
    }
   ],
   "source": [
    "Cement"
   ]
  },
  {
   "cell_type": "code",
   "execution_count": 161,
   "id": "38c5b8f3",
   "metadata": {},
   "outputs": [
    {
     "data": {
      "text/plain": [
       "116"
      ]
     },
     "execution_count": 161,
     "metadata": {},
     "output_type": "execute_result"
    }
   ],
   "source": [
    "# Let us split the data into train and test\n",
    "len(Cement)"
   ]
  },
  {
   "cell_type": "code",
   "execution_count": 162,
   "id": "5a0b227a",
   "metadata": {},
   "outputs": [],
   "source": [
    "# Suppose we would be using 120 months data for training and 24 months data for testing\n",
    "# for training and testing the data in time series we cant use sklearn model or library ,\n",
    "# we need to use iloc here\n",
    "\n",
    "train =Cement.iloc[:92]\n",
    "test=Cement.iloc[92:]"
   ]
  },
  {
   "cell_type": "code",
   "execution_count": 163,
   "id": "93892e43",
   "metadata": {},
   "outputs": [
    {
     "data": {
      "text/plain": [
       "92"
      ]
     },
     "execution_count": 163,
     "metadata": {},
     "output_type": "execute_result"
    }
   ],
   "source": [
    "len(train)"
   ]
  },
  {
   "cell_type": "code",
   "execution_count": 164,
   "id": "4f133507",
   "metadata": {},
   "outputs": [
    {
     "data": {
      "text/plain": [
       "24"
      ]
     },
     "execution_count": 164,
     "metadata": {},
     "output_type": "execute_result"
    }
   ],
   "source": [
    "len(test)"
   ]
  },
  {
   "cell_type": "markdown",
   "id": "1861d8ad",
   "metadata": {},
   "source": [
    "# Building ARIMA model"
   ]
  },
  {
   "cell_type": "code",
   "execution_count": 165,
   "id": "9c6e4207",
   "metadata": {},
   "outputs": [],
   "source": [
    "model = ARIMA(train,order=(0,2,0))"
   ]
  },
  {
   "cell_type": "code",
   "execution_count": 166,
   "id": "9ee7966e",
   "metadata": {},
   "outputs": [],
   "source": [
    "arima = model.fit()"
   ]
  },
  {
   "cell_type": "code",
   "execution_count": 167,
   "id": "276f184f",
   "metadata": {},
   "outputs": [],
   "source": [
    "import warnings\n",
    "warnings.filterwarnings('ignore')"
   ]
  },
  {
   "cell_type": "code",
   "execution_count": 168,
   "id": "9a5edb01",
   "metadata": {},
   "outputs": [
    {
     "data": {
      "text/html": [
       "<div>\n",
       "<style scoped>\n",
       "    .dataframe tbody tr th:only-of-type {\n",
       "        vertical-align: middle;\n",
       "    }\n",
       "\n",
       "    .dataframe tbody tr th {\n",
       "        vertical-align: top;\n",
       "    }\n",
       "\n",
       "    .dataframe thead th {\n",
       "        text-align: right;\n",
       "    }\n",
       "</style>\n",
       "<table border=\"1\" class=\"dataframe\">\n",
       "  <thead>\n",
       "    <tr style=\"text-align: right;\">\n",
       "      <th></th>\n",
       "      <th>Cement Consumption</th>\n",
       "    </tr>\n",
       "    <tr>\n",
       "      <th>Month</th>\n",
       "      <th></th>\n",
       "    </tr>\n",
       "  </thead>\n",
       "  <tbody>\n",
       "    <tr>\n",
       "      <th>2008-12-01</th>\n",
       "      <td>964972</td>\n",
       "    </tr>\n",
       "    <tr>\n",
       "      <th>2009-01-01</th>\n",
       "      <td>1035379</td>\n",
       "    </tr>\n",
       "    <tr>\n",
       "      <th>2009-02-01</th>\n",
       "      <td>1034340</td>\n",
       "    </tr>\n",
       "    <tr>\n",
       "      <th>2009-03-01</th>\n",
       "      <td>1083330</td>\n",
       "    </tr>\n",
       "    <tr>\n",
       "      <th>2009-04-01</th>\n",
       "      <td>956051</td>\n",
       "    </tr>\n",
       "    <tr>\n",
       "      <th>2009-05-01</th>\n",
       "      <td>878473</td>\n",
       "    </tr>\n",
       "    <tr>\n",
       "      <th>2009-06-01</th>\n",
       "      <td>1060211</td>\n",
       "    </tr>\n",
       "    <tr>\n",
       "      <th>2009-07-01</th>\n",
       "      <td>908548</td>\n",
       "    </tr>\n",
       "    <tr>\n",
       "      <th>2009-08-01</th>\n",
       "      <td>808259</td>\n",
       "    </tr>\n",
       "    <tr>\n",
       "      <th>2009-09-01</th>\n",
       "      <td>865652</td>\n",
       "    </tr>\n",
       "    <tr>\n",
       "      <th>2009-10-01</th>\n",
       "      <td>706915</td>\n",
       "    </tr>\n",
       "    <tr>\n",
       "      <th>2009-11-01</th>\n",
       "      <td>706987</td>\n",
       "    </tr>\n",
       "    <tr>\n",
       "      <th>2009-12-01</th>\n",
       "      <td>860239</td>\n",
       "    </tr>\n",
       "    <tr>\n",
       "      <th>2010-01-01</th>\n",
       "      <td>894736</td>\n",
       "    </tr>\n",
       "    <tr>\n",
       "      <th>2010-02-01</th>\n",
       "      <td>708442</td>\n",
       "    </tr>\n",
       "    <tr>\n",
       "      <th>2010-03-01</th>\n",
       "      <td>821341</td>\n",
       "    </tr>\n",
       "    <tr>\n",
       "      <th>2010-04-01</th>\n",
       "      <td>804821</td>\n",
       "    </tr>\n",
       "    <tr>\n",
       "      <th>2010-05-01</th>\n",
       "      <td>820576</td>\n",
       "    </tr>\n",
       "    <tr>\n",
       "      <th>2010-06-01</th>\n",
       "      <td>851229</td>\n",
       "    </tr>\n",
       "    <tr>\n",
       "      <th>2010-07-01</th>\n",
       "      <td>717713</td>\n",
       "    </tr>\n",
       "    <tr>\n",
       "      <th>2010-08-01</th>\n",
       "      <td>668939</td>\n",
       "    </tr>\n",
       "    <tr>\n",
       "      <th>2010-09-01</th>\n",
       "      <td>687420</td>\n",
       "    </tr>\n",
       "    <tr>\n",
       "      <th>2010-10-01</th>\n",
       "      <td>862787</td>\n",
       "    </tr>\n",
       "    <tr>\n",
       "      <th>2010-11-01</th>\n",
       "      <td>581979</td>\n",
       "    </tr>\n",
       "  </tbody>\n",
       "</table>\n",
       "</div>"
      ],
      "text/plain": [
       "            Cement Consumption\n",
       "Month                         \n",
       "2008-12-01              964972\n",
       "2009-01-01             1035379\n",
       "2009-02-01             1034340\n",
       "2009-03-01             1083330\n",
       "2009-04-01              956051\n",
       "2009-05-01              878473\n",
       "2009-06-01             1060211\n",
       "2009-07-01              908548\n",
       "2009-08-01              808259\n",
       "2009-09-01              865652\n",
       "2009-10-01              706915\n",
       "2009-11-01              706987\n",
       "2009-12-01              860239\n",
       "2010-01-01              894736\n",
       "2010-02-01              708442\n",
       "2010-03-01              821341\n",
       "2010-04-01              804821\n",
       "2010-05-01              820576\n",
       "2010-06-01              851229\n",
       "2010-07-01              717713\n",
       "2010-08-01              668939\n",
       "2010-09-01              687420\n",
       "2010-10-01              862787\n",
       "2010-11-01              581979"
      ]
     },
     "execution_count": 168,
     "metadata": {},
     "output_type": "execute_result"
    }
   ],
   "source": [
    "test"
   ]
  },
  {
   "cell_type": "code",
   "execution_count": 169,
   "id": "d23bd630",
   "metadata": {},
   "outputs": [
    {
     "data": {
      "text/plain": [
       "Timestamp('2008-12-01 00:00:00')"
      ]
     },
     "execution_count": 169,
     "metadata": {},
     "output_type": "execute_result"
    }
   ],
   "source": [
    "test.index[0]"
   ]
  },
  {
   "cell_type": "code",
   "execution_count": 170,
   "id": "944bbce0",
   "metadata": {
    "scrolled": true
   },
   "outputs": [
    {
     "data": {
      "text/plain": [
       "Timestamp('2010-11-01 00:00:00')"
      ]
     },
     "execution_count": 170,
     "metadata": {},
     "output_type": "execute_result"
    }
   ],
   "source": [
    "test.index[-1]"
   ]
  },
  {
   "cell_type": "code",
   "execution_count": 171,
   "id": "419dbb9c",
   "metadata": {},
   "outputs": [],
   "source": [
    "start = test.index[0]\n",
    "end= test.index[-1]"
   ]
  },
  {
   "cell_type": "code",
   "execution_count": 172,
   "id": "edd9a620",
   "metadata": {},
   "outputs": [],
   "source": [
    "test['Prediction'] = arima.predict(start=start,end=end)"
   ]
  },
  {
   "cell_type": "code",
   "execution_count": 173,
   "id": "516b75b8",
   "metadata": {},
   "outputs": [
    {
     "data": {
      "text/html": [
       "<div>\n",
       "<style scoped>\n",
       "    .dataframe tbody tr th:only-of-type {\n",
       "        vertical-align: middle;\n",
       "    }\n",
       "\n",
       "    .dataframe tbody tr th {\n",
       "        vertical-align: top;\n",
       "    }\n",
       "\n",
       "    .dataframe thead th {\n",
       "        text-align: right;\n",
       "    }\n",
       "</style>\n",
       "<table border=\"1\" class=\"dataframe\">\n",
       "  <thead>\n",
       "    <tr style=\"text-align: right;\">\n",
       "      <th></th>\n",
       "      <th>Cement Consumption</th>\n",
       "      <th>Prediction</th>\n",
       "    </tr>\n",
       "    <tr>\n",
       "      <th>Month</th>\n",
       "      <th></th>\n",
       "      <th></th>\n",
       "    </tr>\n",
       "  </thead>\n",
       "  <tbody>\n",
       "    <tr>\n",
       "      <th>2008-12-01</th>\n",
       "      <td>964972</td>\n",
       "      <td>907028.0</td>\n",
       "    </tr>\n",
       "    <tr>\n",
       "      <th>2009-01-01</th>\n",
       "      <td>1035379</td>\n",
       "      <td>951830.0</td>\n",
       "    </tr>\n",
       "    <tr>\n",
       "      <th>2009-02-01</th>\n",
       "      <td>1034340</td>\n",
       "      <td>996632.0</td>\n",
       "    </tr>\n",
       "    <tr>\n",
       "      <th>2009-03-01</th>\n",
       "      <td>1083330</td>\n",
       "      <td>1041434.0</td>\n",
       "    </tr>\n",
       "    <tr>\n",
       "      <th>2009-04-01</th>\n",
       "      <td>956051</td>\n",
       "      <td>1086236.0</td>\n",
       "    </tr>\n",
       "  </tbody>\n",
       "</table>\n",
       "</div>"
      ],
      "text/plain": [
       "            Cement Consumption  Prediction\n",
       "Month                                     \n",
       "2008-12-01              964972    907028.0\n",
       "2009-01-01             1035379    951830.0\n",
       "2009-02-01             1034340    996632.0\n",
       "2009-03-01             1083330   1041434.0\n",
       "2009-04-01              956051   1086236.0"
      ]
     },
     "execution_count": 173,
     "metadata": {},
     "output_type": "execute_result"
    }
   ],
   "source": [
    "test.head()"
   ]
  },
  {
   "cell_type": "code",
   "execution_count": 174,
   "id": "82d8002e",
   "metadata": {},
   "outputs": [],
   "source": [
    "# to evaluate the model we would use a metric MAPE\n",
    "\n",
    "from sklearn.metrics import mean_absolute_percentage_error"
   ]
  },
  {
   "cell_type": "markdown",
   "id": "f5b51a9b",
   "metadata": {},
   "source": [
    "# Error Calculation"
   ]
  },
  {
   "cell_type": "code",
   "execution_count": 175,
   "id": "e2fab569",
   "metadata": {},
   "outputs": [
    {
     "name": "stdout",
     "output_type": "stream",
     "text": [
      "0.7883642957159375\n"
     ]
    }
   ],
   "source": [
    "print(mean_absolute_percentage_error(test['Cement Consumption'],test['Prediction']))"
   ]
  },
  {
   "cell_type": "code",
   "execution_count": 176,
   "id": "b91bccbe",
   "metadata": {
    "scrolled": true
   },
   "outputs": [
    {
     "data": {
      "text/plain": [
       "<AxesSubplot:xlabel='Month'>"
      ]
     },
     "execution_count": 176,
     "metadata": {},
     "output_type": "execute_result"
    },
    {
     "data": {
      "image/png": "[encoded data removed]",
      "text/plain": [
       "<Figure size 432x288 with 1 Axes>"
      ]
     },
     "metadata": {
      "needs_background": "light"
     },
     "output_type": "display_data"
    }
   ],
   "source": [
    "test[['Cement Consumption','Prediction']].plot()"
   ]
  },
  {
   "cell_type": "markdown",
   "id": "383cfc8e",
   "metadata": {},
   "source": [
    "# Conclusion : We can conclude that the data given are suffiecient to prdict the cement production per month"
   ]
  },
  {
   "cell_type": "code",
   "execution_count": null,
   "id": "9181a6c1",
   "metadata": {},
   "outputs": [],
   "source": []
  }
 ],
 "metadata": {
  "kernelspec": {
   "display_name": "Python 3 (ipykernel)",
   "language": "python",
   "name": "python3"
  },
  "language_info": {
   "codemirror_mode": {
    "name": "ipython",
    "version": 3
   },
   "file_extension": ".py",
   "mimetype": "text/x-python",
   "name": "python",
   "nbconvert_exporter": "python",
   "pygments_lexer": "ipython3",
   "version": "3.9.12"
  }
 },
 "nbformat": 4,
 "nbformat_minor": 5
}
