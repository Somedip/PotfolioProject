{
 "cells": [
  {
   "cell_type": "markdown",
   "id": "ef43c97a",
   "metadata": {},
   "source": [
    "## Perform EDA using the Sneakers dataset (link provided below)"
   ]
  },
  {
   "cell_type": "code",
   "execution_count": 1,
   "id": "68e9060a",
   "metadata": {},
   "outputs": [],
   "source": [
    "import pandas as pd"
   ]
  },
  {
   "cell_type": "code",
   "execution_count": 6,
   "id": "fa1a727b",
   "metadata": {},
   "outputs": [
    {
     "data": {
      "text/html": [
       "<div>\n",
       "<style scoped>\n",
       "    .dataframe tbody tr th:only-of-type {\n",
       "        vertical-align: middle;\n",
       "    }\n",
       "\n",
       "    .dataframe tbody tr th {\n",
       "        vertical-align: top;\n",
       "    }\n",
       "\n",
       "    .dataframe thead th {\n",
       "        text-align: right;\n",
       "    }\n",
       "</style>\n",
       "<table border=\"1\" class=\"dataframe\">\n",
       "  <thead>\n",
       "    <tr style=\"text-align: right;\">\n",
       "      <th></th>\n",
       "      <th>order_id</th>\n",
       "      <th>shop_id</th>\n",
       "      <th>user_id</th>\n",
       "      <th>order_amount</th>\n",
       "      <th>total_items</th>\n",
       "      <th>payment_method</th>\n",
       "      <th>created_at</th>\n",
       "    </tr>\n",
       "  </thead>\n",
       "  <tbody>\n",
       "    <tr>\n",
       "      <th>0</th>\n",
       "      <td>1</td>\n",
       "      <td>53</td>\n",
       "      <td>746</td>\n",
       "      <td>224</td>\n",
       "      <td>2</td>\n",
       "      <td>cash</td>\n",
       "      <td>2017-03-13 12:36:56</td>\n",
       "    </tr>\n",
       "    <tr>\n",
       "      <th>1</th>\n",
       "      <td>2</td>\n",
       "      <td>92</td>\n",
       "      <td>925</td>\n",
       "      <td>90</td>\n",
       "      <td>1</td>\n",
       "      <td>cash</td>\n",
       "      <td>2017-03-03 17:38:52</td>\n",
       "    </tr>\n",
       "    <tr>\n",
       "      <th>2</th>\n",
       "      <td>3</td>\n",
       "      <td>44</td>\n",
       "      <td>861</td>\n",
       "      <td>144</td>\n",
       "      <td>1</td>\n",
       "      <td>cash</td>\n",
       "      <td>2017-03-14 4:23:56</td>\n",
       "    </tr>\n",
       "    <tr>\n",
       "      <th>3</th>\n",
       "      <td>4</td>\n",
       "      <td>18</td>\n",
       "      <td>935</td>\n",
       "      <td>156</td>\n",
       "      <td>1</td>\n",
       "      <td>credit_card</td>\n",
       "      <td>2017-03-26 12:43:37</td>\n",
       "    </tr>\n",
       "    <tr>\n",
       "      <th>4</th>\n",
       "      <td>5</td>\n",
       "      <td>18</td>\n",
       "      <td>883</td>\n",
       "      <td>156</td>\n",
       "      <td>1</td>\n",
       "      <td>credit_card</td>\n",
       "      <td>2017-03-01 4:35:11</td>\n",
       "    </tr>\n",
       "  </tbody>\n",
       "</table>\n",
       "</div>"
      ],
      "text/plain": [
       "   order_id  shop_id  user_id  order_amount  total_items payment_method  \\\n",
       "0         1       53      746           224            2           cash   \n",
       "1         2       92      925            90            1           cash   \n",
       "2         3       44      861           144            1           cash   \n",
       "3         4       18      935           156            1    credit_card   \n",
       "4         5       18      883           156            1    credit_card   \n",
       "\n",
       "            created_at  \n",
       "0  2017-03-13 12:36:56  \n",
       "1  2017-03-03 17:38:52  \n",
       "2   2017-03-14 4:23:56  \n",
       "3  2017-03-26 12:43:37  \n",
       "4   2017-03-01 4:35:11  "
      ]
     },
     "execution_count": 6,
     "metadata": {},
     "output_type": "execute_result"
    }
   ],
   "source": [
    "data = pd.read_csv('./Sneakers.csv')\n",
    "data.head()"
   ]
  },
  {
   "cell_type": "code",
   "execution_count": 7,
   "id": "29647c9a",
   "metadata": {},
   "outputs": [
    {
     "name": "stdout",
     "output_type": "stream",
     "text": [
      "<class 'pandas.core.frame.DataFrame'>\n",
      "RangeIndex: 5000 entries, 0 to 4999\n",
      "Data columns (total 7 columns):\n",
      " #   Column          Non-Null Count  Dtype \n",
      "---  ------          --------------  ----- \n",
      " 0   order_id        5000 non-null   int64 \n",
      " 1   shop_id         5000 non-null   int64 \n",
      " 2   user_id         5000 non-null   int64 \n",
      " 3   order_amount    5000 non-null   int64 \n",
      " 4   total_items     5000 non-null   int64 \n",
      " 5   payment_method  5000 non-null   object\n",
      " 6   created_at      5000 non-null   object\n",
      "dtypes: int64(5), object(2)\n",
      "memory usage: 273.6+ KB\n"
     ]
    }
   ],
   "source": [
    "data.info()"
   ]
  },
  {
   "cell_type": "code",
   "execution_count": 8,
   "id": "e599e462",
   "metadata": {},
   "outputs": [],
   "source": [
    "from datetime import datetime"
   ]
  },
  {
   "cell_type": "code",
   "execution_count": 15,
   "id": "e3eefca0",
   "metadata": {},
   "outputs": [],
   "source": [
    "data['created_at']=pd.to_datetime(data['created_at'])"
   ]
  },
  {
   "cell_type": "code",
   "execution_count": 16,
   "id": "bcf2af57",
   "metadata": {},
   "outputs": [
    {
     "data": {
      "text/html": [
       "<div>\n",
       "<style scoped>\n",
       "    .dataframe tbody tr th:only-of-type {\n",
       "        vertical-align: middle;\n",
       "    }\n",
       "\n",
       "    .dataframe tbody tr th {\n",
       "        vertical-align: top;\n",
       "    }\n",
       "\n",
       "    .dataframe thead th {\n",
       "        text-align: right;\n",
       "    }\n",
       "</style>\n",
       "<table border=\"1\" class=\"dataframe\">\n",
       "  <thead>\n",
       "    <tr style=\"text-align: right;\">\n",
       "      <th></th>\n",
       "      <th>order_id</th>\n",
       "      <th>shop_id</th>\n",
       "      <th>user_id</th>\n",
       "      <th>order_amount</th>\n",
       "      <th>total_items</th>\n",
       "      <th>payment_method</th>\n",
       "      <th>created_at</th>\n",
       "    </tr>\n",
       "  </thead>\n",
       "  <tbody>\n",
       "    <tr>\n",
       "      <th>0</th>\n",
       "      <td>1</td>\n",
       "      <td>53</td>\n",
       "      <td>746</td>\n",
       "      <td>224</td>\n",
       "      <td>2</td>\n",
       "      <td>cash</td>\n",
       "      <td>2017-03-13 12:36:56</td>\n",
       "    </tr>\n",
       "    <tr>\n",
       "      <th>1</th>\n",
       "      <td>2</td>\n",
       "      <td>92</td>\n",
       "      <td>925</td>\n",
       "      <td>90</td>\n",
       "      <td>1</td>\n",
       "      <td>cash</td>\n",
       "      <td>2017-03-03 17:38:52</td>\n",
       "    </tr>\n",
       "    <tr>\n",
       "      <th>2</th>\n",
       "      <td>3</td>\n",
       "      <td>44</td>\n",
       "      <td>861</td>\n",
       "      <td>144</td>\n",
       "      <td>1</td>\n",
       "      <td>cash</td>\n",
       "      <td>2017-03-14 04:23:56</td>\n",
       "    </tr>\n",
       "    <tr>\n",
       "      <th>3</th>\n",
       "      <td>4</td>\n",
       "      <td>18</td>\n",
       "      <td>935</td>\n",
       "      <td>156</td>\n",
       "      <td>1</td>\n",
       "      <td>credit_card</td>\n",
       "      <td>2017-03-26 12:43:37</td>\n",
       "    </tr>\n",
       "    <tr>\n",
       "      <th>4</th>\n",
       "      <td>5</td>\n",
       "      <td>18</td>\n",
       "      <td>883</td>\n",
       "      <td>156</td>\n",
       "      <td>1</td>\n",
       "      <td>credit_card</td>\n",
       "      <td>2017-03-01 04:35:11</td>\n",
       "    </tr>\n",
       "  </tbody>\n",
       "</table>\n",
       "</div>"
      ],
      "text/plain": [
       "   order_id  shop_id  user_id  order_amount  total_items payment_method  \\\n",
       "0         1       53      746           224            2           cash   \n",
       "1         2       92      925            90            1           cash   \n",
       "2         3       44      861           144            1           cash   \n",
       "3         4       18      935           156            1    credit_card   \n",
       "4         5       18      883           156            1    credit_card   \n",
       "\n",
       "           created_at  \n",
       "0 2017-03-13 12:36:56  \n",
       "1 2017-03-03 17:38:52  \n",
       "2 2017-03-14 04:23:56  \n",
       "3 2017-03-26 12:43:37  \n",
       "4 2017-03-01 04:35:11  "
      ]
     },
     "execution_count": 16,
     "metadata": {},
     "output_type": "execute_result"
    }
   ],
   "source": [
    "data.head()"
   ]
  },
  {
   "cell_type": "code",
   "execution_count": 17,
   "id": "8e2ead47",
   "metadata": {},
   "outputs": [
    {
     "name": "stdout",
     "output_type": "stream",
     "text": [
      "<class 'pandas.core.frame.DataFrame'>\n",
      "RangeIndex: 5000 entries, 0 to 4999\n",
      "Data columns (total 7 columns):\n",
      " #   Column          Non-Null Count  Dtype         \n",
      "---  ------          --------------  -----         \n",
      " 0   order_id        5000 non-null   int64         \n",
      " 1   shop_id         5000 non-null   int64         \n",
      " 2   user_id         5000 non-null   int64         \n",
      " 3   order_amount    5000 non-null   int64         \n",
      " 4   total_items     5000 non-null   int64         \n",
      " 5   payment_method  5000 non-null   object        \n",
      " 6   created_at      5000 non-null   datetime64[ns]\n",
      "dtypes: datetime64[ns](1), int64(5), object(1)\n",
      "memory usage: 273.6+ KB\n"
     ]
    }
   ],
   "source": [
    "data.info()"
   ]
  },
  {
   "cell_type": "code",
   "execution_count": 18,
   "id": "e79c67c3",
   "metadata": {},
   "outputs": [
    {
     "data": {
      "text/plain": [
       "(5000, 7)"
      ]
     },
     "execution_count": 18,
     "metadata": {},
     "output_type": "execute_result"
    }
   ],
   "source": [
    "data.shape"
   ]
  },
  {
   "cell_type": "markdown",
   "id": "633c8ef7",
   "metadata": {},
   "source": [
    "### Q1. Most preferred payment methods"
   ]
  },
  {
   "cell_type": "code",
   "execution_count": 19,
   "id": "d54f31ac",
   "metadata": {},
   "outputs": [
    {
     "data": {
      "text/plain": [
       "array(['cash', 'credit_card', 'debit'], dtype=object)"
      ]
     },
     "execution_count": 19,
     "metadata": {},
     "output_type": "execute_result"
    }
   ],
   "source": [
    "data['payment_method'].unique()"
   ]
  },
  {
   "cell_type": "code",
   "execution_count": 20,
   "id": "f7e6e4a3",
   "metadata": {},
   "outputs": [
    {
     "data": {
      "text/plain": [
       "order_id          1594\n",
       "shop_id           1594\n",
       "user_id           1594\n",
       "order_amount      1594\n",
       "total_items       1594\n",
       "payment_method    1594\n",
       "created_at        1594\n",
       "dtype: int64"
      ]
     },
     "execution_count": 20,
     "metadata": {},
     "output_type": "execute_result"
    }
   ],
   "source": [
    "data_cash=data[data['payment_method']=='cash']\n",
    "data_cash.count()"
   ]
  },
  {
   "cell_type": "code",
   "execution_count": 21,
   "id": "872a3cee",
   "metadata": {},
   "outputs": [
    {
     "data": {
      "text/plain": [
       "order_id          1735\n",
       "shop_id           1735\n",
       "user_id           1735\n",
       "order_amount      1735\n",
       "total_items       1735\n",
       "payment_method    1735\n",
       "created_at        1735\n",
       "dtype: int64"
      ]
     },
     "execution_count": 21,
     "metadata": {},
     "output_type": "execute_result"
    }
   ],
   "source": [
    "data_credit=data[data['payment_method']=='credit_card']\n",
    "data_credit.count()"
   ]
  },
  {
   "cell_type": "code",
   "execution_count": 22,
   "id": "39fd0d24",
   "metadata": {},
   "outputs": [
    {
     "data": {
      "text/plain": [
       "order_id          1671\n",
       "shop_id           1671\n",
       "user_id           1671\n",
       "order_amount      1671\n",
       "total_items       1671\n",
       "payment_method    1671\n",
       "created_at        1671\n",
       "dtype: int64"
      ]
     },
     "execution_count": 22,
     "metadata": {},
     "output_type": "execute_result"
    }
   ],
   "source": [
    "data_debit=data[data['payment_method']=='debit']\n",
    "data_debit.count()"
   ]
  },
  {
   "cell_type": "code",
   "execution_count": 23,
   "id": "c02eff3c",
   "metadata": {},
   "outputs": [
    {
     "data": {
      "text/plain": [
       "5000"
      ]
     },
     "execution_count": 23,
     "metadata": {},
     "output_type": "execute_result"
    }
   ],
   "source": [
    "1594+1735+1671"
   ]
  },
  {
   "cell_type": "markdown",
   "id": "f2eb00a6",
   "metadata": {},
   "source": [
    "# FROM ABOVE OBSERVATION WE CAN CONCLUDE THAT ---CREDIT CARD-- IS THE MOST PREFFERED PAYMENT METHOD"
   ]
  },
  {
   "cell_type": "code",
   "execution_count": null,
   "id": "098acc90",
   "metadata": {},
   "outputs": [],
   "source": []
  },
  {
   "cell_type": "markdown",
   "id": "3de3e08b",
   "metadata": {},
   "source": [
    "### Q2. Shop number with maximum revenue"
   ]
  },
  {
   "cell_type": "code",
   "execution_count": 24,
   "id": "d01123cf",
   "metadata": {},
   "outputs": [
    {
     "name": "stdout",
     "output_type": "stream",
     "text": [
      "Shop id with Max Revenue\n"
     ]
    },
    {
     "data": {
      "text/html": [
       "<div>\n",
       "<style scoped>\n",
       "    .dataframe tbody tr th:only-of-type {\n",
       "        vertical-align: middle;\n",
       "    }\n",
       "\n",
       "    .dataframe tbody tr th {\n",
       "        vertical-align: top;\n",
       "    }\n",
       "\n",
       "    .dataframe thead th {\n",
       "        text-align: right;\n",
       "    }\n",
       "</style>\n",
       "<table border=\"1\" class=\"dataframe\">\n",
       "  <thead>\n",
       "    <tr style=\"text-align: right;\">\n",
       "      <th></th>\n",
       "      <th>shop_id</th>\n",
       "      <th>order_amount</th>\n",
       "    </tr>\n",
       "  </thead>\n",
       "  <tbody>\n",
       "    <tr>\n",
       "      <th>41</th>\n",
       "      <td>42</td>\n",
       "      <td>11990176</td>\n",
       "    </tr>\n",
       "    <tr>\n",
       "      <th>77</th>\n",
       "      <td>78</td>\n",
       "      <td>2263800</td>\n",
       "    </tr>\n",
       "    <tr>\n",
       "      <th>88</th>\n",
       "      <td>89</td>\n",
       "      <td>23128</td>\n",
       "    </tr>\n",
       "    <tr>\n",
       "      <th>80</th>\n",
       "      <td>81</td>\n",
       "      <td>22656</td>\n",
       "    </tr>\n",
       "    <tr>\n",
       "      <th>5</th>\n",
       "      <td>6</td>\n",
       "      <td>22627</td>\n",
       "    </tr>\n",
       "    <tr>\n",
       "      <th>...</th>\n",
       "      <td>...</td>\n",
       "      <td>...</td>\n",
       "    </tr>\n",
       "    <tr>\n",
       "      <th>1</th>\n",
       "      <td>2</td>\n",
       "      <td>9588</td>\n",
       "    </tr>\n",
       "    <tr>\n",
       "      <th>99</th>\n",
       "      <td>100</td>\n",
       "      <td>8547</td>\n",
       "    </tr>\n",
       "    <tr>\n",
       "      <th>55</th>\n",
       "      <td>56</td>\n",
       "      <td>8073</td>\n",
       "    </tr>\n",
       "    <tr>\n",
       "      <th>31</th>\n",
       "      <td>32</td>\n",
       "      <td>7979</td>\n",
       "    </tr>\n",
       "    <tr>\n",
       "      <th>91</th>\n",
       "      <td>92</td>\n",
       "      <td>6840</td>\n",
       "    </tr>\n",
       "  </tbody>\n",
       "</table>\n",
       "<p>100 rows × 2 columns</p>\n",
       "</div>"
      ],
      "text/plain": [
       "    shop_id  order_amount\n",
       "41       42      11990176\n",
       "77       78       2263800\n",
       "88       89         23128\n",
       "80       81         22656\n",
       "5         6         22627\n",
       "..      ...           ...\n",
       "1         2          9588\n",
       "99      100          8547\n",
       "55       56          8073\n",
       "31       32          7979\n",
       "91       92          6840\n",
       "\n",
       "[100 rows x 2 columns]"
      ]
     },
     "execution_count": 24,
     "metadata": {},
     "output_type": "execute_result"
    }
   ],
   "source": [
    "data_shop =data.groupby('shop_id')[['order_amount']].sum().reset_index().sort_values('order_amount',ascending = False)\n",
    "print('Shop id with Max Revenue')\n",
    "data_shop"
   ]
  },
  {
   "cell_type": "code",
   "execution_count": 25,
   "id": "132cda15",
   "metadata": {},
   "outputs": [
    {
     "data": {
      "text/plain": [
       "100"
      ]
     },
     "execution_count": 25,
     "metadata": {},
     "output_type": "execute_result"
    }
   ],
   "source": [
    "data['shop_id'].nunique()"
   ]
  },
  {
   "cell_type": "markdown",
   "id": "877ab2ba",
   "metadata": {},
   "source": [
    "# SHOP_ID 42 HAS THE MAX REVENUE"
   ]
  },
  {
   "cell_type": "code",
   "execution_count": 26,
   "id": "012ffbcd",
   "metadata": {},
   "outputs": [],
   "source": [
    "import numpy as np\n",
    "import matplotlib.pyplot as plt\n",
    "import seaborn as sns\n",
    "from matplotlib import style"
   ]
  },
  {
   "cell_type": "markdown",
   "id": "ca340f22",
   "metadata": {},
   "source": [
    "### Q3. Top 10 sellers with figures on number of items sold"
   ]
  },
  {
   "cell_type": "code",
   "execution_count": 27,
   "id": "3bf0099a",
   "metadata": {},
   "outputs": [
    {
     "name": "stdout",
     "output_type": "stream",
     "text": [
      "Top 10 Sellers with most items sold\n"
     ]
    },
    {
     "data": {
      "text/html": [
       "<div>\n",
       "<style scoped>\n",
       "    .dataframe tbody tr th:only-of-type {\n",
       "        vertical-align: middle;\n",
       "    }\n",
       "\n",
       "    .dataframe tbody tr th {\n",
       "        vertical-align: top;\n",
       "    }\n",
       "\n",
       "    .dataframe thead th {\n",
       "        text-align: right;\n",
       "    }\n",
       "</style>\n",
       "<table border=\"1\" class=\"dataframe\">\n",
       "  <thead>\n",
       "    <tr style=\"text-align: right;\">\n",
       "      <th></th>\n",
       "      <th>shop_id</th>\n",
       "      <th>total_items</th>\n",
       "    </tr>\n",
       "  </thead>\n",
       "  <tbody>\n",
       "    <tr>\n",
       "      <th>41</th>\n",
       "      <td>42</td>\n",
       "      <td>34063</td>\n",
       "    </tr>\n",
       "    <tr>\n",
       "      <th>12</th>\n",
       "      <td>13</td>\n",
       "      <td>136</td>\n",
       "    </tr>\n",
       "    <tr>\n",
       "      <th>83</th>\n",
       "      <td>84</td>\n",
       "      <td>132</td>\n",
       "    </tr>\n",
       "    <tr>\n",
       "      <th>70</th>\n",
       "      <td>71</td>\n",
       "      <td>130</td>\n",
       "    </tr>\n",
       "    <tr>\n",
       "      <th>52</th>\n",
       "      <td>53</td>\n",
       "      <td>130</td>\n",
       "    </tr>\n",
       "    <tr>\n",
       "      <th>80</th>\n",
       "      <td>81</td>\n",
       "      <td>128</td>\n",
       "    </tr>\n",
       "    <tr>\n",
       "      <th>40</th>\n",
       "      <td>41</td>\n",
       "      <td>127</td>\n",
       "    </tr>\n",
       "    <tr>\n",
       "      <th>23</th>\n",
       "      <td>24</td>\n",
       "      <td>126</td>\n",
       "    </tr>\n",
       "    <tr>\n",
       "      <th>18</th>\n",
       "      <td>19</td>\n",
       "      <td>126</td>\n",
       "    </tr>\n",
       "    <tr>\n",
       "      <th>13</th>\n",
       "      <td>14</td>\n",
       "      <td>121</td>\n",
       "    </tr>\n",
       "  </tbody>\n",
       "</table>\n",
       "</div>"
      ],
      "text/plain": [
       "    shop_id  total_items\n",
       "41       42        34063\n",
       "12       13          136\n",
       "83       84          132\n",
       "70       71          130\n",
       "52       53          130\n",
       "80       81          128\n",
       "40       41          127\n",
       "23       24          126\n",
       "18       19          126\n",
       "13       14          121"
      ]
     },
     "execution_count": 27,
     "metadata": {},
     "output_type": "execute_result"
    }
   ],
   "source": [
    "data_sellers =data.groupby('shop_id')[['total_items']].sum().reset_index().sort_values('total_items',ascending = False)\n",
    "print('Top 10 Sellers with most items sold')\n",
    "data_sellers.head(10)"
   ]
  },
  {
   "cell_type": "markdown",
   "id": "00384e58",
   "metadata": {},
   "source": [
    "### Q4. Total order amount in March, 2017"
   ]
  },
  {
   "cell_type": "code",
   "execution_count": 28,
   "id": "5844b0e6",
   "metadata": {},
   "outputs": [
    {
     "name": "stdout",
     "output_type": "stream",
     "text": [
      "Total order amount in March, 2017\n"
     ]
    },
    {
     "data": {
      "text/plain": [
       "15725640"
      ]
     },
     "execution_count": 28,
     "metadata": {},
     "output_type": "execute_result"
    }
   ],
   "source": [
    "data_amount =data['order_amount'].sum()\n",
    "print('Total order amount in March, 2017')\n",
    "data_amount"
   ]
  },
  {
   "cell_type": "markdown",
   "id": "1b7844e2",
   "metadata": {},
   "source": [
    "### Q5. user_id with maximum frequency and user_id with minimum frequency"
   ]
  },
  {
   "cell_type": "code",
   "execution_count": 29,
   "id": "57ebc447",
   "metadata": {},
   "outputs": [
    {
     "data": {
      "text/plain": [
       "0    718\n",
       "Name: user_id, dtype: int64"
      ]
     },
     "execution_count": 29,
     "metadata": {},
     "output_type": "execute_result"
    }
   ],
   "source": [
    "data['user_id'].mode()"
   ]
  },
  {
   "cell_type": "code",
   "execution_count": 30,
   "id": "63c392a2",
   "metadata": {},
   "outputs": [
    {
     "data": {
      "text/plain": [
       "order_id          28\n",
       "shop_id           28\n",
       "user_id           28\n",
       "order_amount      28\n",
       "total_items       28\n",
       "payment_method    28\n",
       "created_at        28\n",
       "dtype: int64"
      ]
     },
     "execution_count": 30,
     "metadata": {},
     "output_type": "execute_result"
    }
   ],
   "source": [
    "data[data['user_id']==718].count()"
   ]
  },
  {
   "cell_type": "code",
   "execution_count": 31,
   "id": "fa0f7e9b",
   "metadata": {},
   "outputs": [
    {
     "name": "stdout",
     "output_type": "stream",
     "text": [
      "718\n"
     ]
    }
   ],
   "source": [
    "from collections import Counter\n",
    " \n",
    "def most_frequent(List):\n",
    "    occurence_count = Counter(List)\n",
    "    return occurence_count.most_common(1)[0][0]\n",
    "   \n",
    "List = data['user_id']\n",
    "print(most_frequent(List))"
   ]
  },
  {
   "cell_type": "markdown",
   "id": "08ae2f6a",
   "metadata": {},
   "source": [
    "# 718 IS THE MOST FREQUENT USER_ID"
   ]
  },
  {
   "cell_type": "code",
   "execution_count": 32,
   "id": "89278bc2",
   "metadata": {},
   "outputs": [],
   "source": [
    "from collections import Counter"
   ]
  },
  {
   "cell_type": "code",
   "execution_count": 33,
   "id": "5248b6e6",
   "metadata": {},
   "outputs": [
    {
     "data": {
      "text/plain": [
       "750"
      ]
     },
     "execution_count": 33,
     "metadata": {},
     "output_type": "execute_result"
    }
   ],
   "source": [
    "# initialize list \n",
    "user_id = data['user_id']\n",
    "  \n",
    "# Extract least frequency element\n",
    "# using Counter\n",
    "res = Counter(user_id)\n",
    "tar_ele = res.most_common()[-1][0]\n",
    "tar_ele"
   ]
  },
  {
   "cell_type": "markdown",
   "id": "dba2351d",
   "metadata": {},
   "source": [
    "# 750 IS THE LEAST FREQUENT USER_ID"
   ]
  },
  {
   "cell_type": "markdown",
   "id": "0d9c0354",
   "metadata": {},
   "source": [
    "### Q6. Maximum number of items bought by a user_id"
   ]
  },
  {
   "cell_type": "code",
   "execution_count": 34,
   "id": "99f08061",
   "metadata": {},
   "outputs": [
    {
     "name": "stdout",
     "output_type": "stream",
     "text": [
      "Maximum number of items bought by a user_id\n"
     ]
    },
    {
     "data": {
      "text/html": [
       "<div>\n",
       "<style scoped>\n",
       "    .dataframe tbody tr th:only-of-type {\n",
       "        vertical-align: middle;\n",
       "    }\n",
       "\n",
       "    .dataframe tbody tr th {\n",
       "        vertical-align: top;\n",
       "    }\n",
       "\n",
       "    .dataframe thead th {\n",
       "        text-align: right;\n",
       "    }\n",
       "</style>\n",
       "<table border=\"1\" class=\"dataframe\">\n",
       "  <thead>\n",
       "    <tr style=\"text-align: right;\">\n",
       "      <th></th>\n",
       "      <th>user_id</th>\n",
       "      <th>total_items</th>\n",
       "    </tr>\n",
       "  </thead>\n",
       "  <tbody>\n",
       "    <tr>\n",
       "      <th>0</th>\n",
       "      <td>607</td>\n",
       "      <td>34000</td>\n",
       "    </tr>\n",
       "    <tr>\n",
       "      <th>19</th>\n",
       "      <td>718</td>\n",
       "      <td>58</td>\n",
       "    </tr>\n",
       "    <tr>\n",
       "      <th>88</th>\n",
       "      <td>787</td>\n",
       "      <td>57</td>\n",
       "    </tr>\n",
       "    <tr>\n",
       "      <th>46</th>\n",
       "      <td>745</td>\n",
       "      <td>56</td>\n",
       "    </tr>\n",
       "    <tr>\n",
       "      <th>148</th>\n",
       "      <td>847</td>\n",
       "      <td>54</td>\n",
       "    </tr>\n",
       "  </tbody>\n",
       "</table>\n",
       "</div>"
      ],
      "text/plain": [
       "     user_id  total_items\n",
       "0        607        34000\n",
       "19       718           58\n",
       "88       787           57\n",
       "46       745           56\n",
       "148      847           54"
      ]
     },
     "execution_count": 34,
     "metadata": {},
     "output_type": "execute_result"
    }
   ],
   "source": [
    "data_items =data.groupby('user_id')[['total_items']].sum().reset_index().sort_values('total_items',ascending = False)\n",
    "print('Maximum number of items bought by a user_id')\n",
    "data_items.head()"
   ]
  },
  {
   "cell_type": "markdown",
   "id": "e1556b2a",
   "metadata": {},
   "source": [
    "# 34000 items bought by user_id 607, it is the highest"
   ]
  },
  {
   "cell_type": "markdown",
   "id": "97bb4ce2",
   "metadata": {},
   "source": [
    "### Q7. Total order amount by cash, debit card and credit card"
   ]
  },
  {
   "cell_type": "code",
   "execution_count": 35,
   "id": "ca7238b0",
   "metadata": {},
   "outputs": [
    {
     "name": "stdout",
     "output_type": "stream",
     "text": [
      "Amount by methodwise\n"
     ]
    },
    {
     "data": {
      "text/html": [
       "<div>\n",
       "<style scoped>\n",
       "    .dataframe tbody tr th:only-of-type {\n",
       "        vertical-align: middle;\n",
       "    }\n",
       "\n",
       "    .dataframe tbody tr th {\n",
       "        vertical-align: top;\n",
       "    }\n",
       "\n",
       "    .dataframe thead th {\n",
       "        text-align: right;\n",
       "    }\n",
       "</style>\n",
       "<table border=\"1\" class=\"dataframe\">\n",
       "  <thead>\n",
       "    <tr style=\"text-align: right;\">\n",
       "      <th></th>\n",
       "      <th>payment_method</th>\n",
       "      <th>order_amount</th>\n",
       "    </tr>\n",
       "  </thead>\n",
       "  <tbody>\n",
       "    <tr>\n",
       "      <th>0</th>\n",
       "      <td>cash</td>\n",
       "      <td>1164183</td>\n",
       "    </tr>\n",
       "    <tr>\n",
       "      <th>1</th>\n",
       "      <td>credit_card</td>\n",
       "      <td>12945867</td>\n",
       "    </tr>\n",
       "    <tr>\n",
       "      <th>2</th>\n",
       "      <td>debit</td>\n",
       "      <td>1615590</td>\n",
       "    </tr>\n",
       "  </tbody>\n",
       "</table>\n",
       "</div>"
      ],
      "text/plain": [
       "  payment_method  order_amount\n",
       "0           cash       1164183\n",
       "1    credit_card      12945867\n",
       "2          debit       1615590"
      ]
     },
     "execution_count": 35,
     "metadata": {},
     "output_type": "execute_result"
    }
   ],
   "source": [
    "data_total =data.groupby('payment_method')[['order_amount']].sum().reset_index()\n",
    "print('Amount by methodwise')\n",
    "data_total"
   ]
  },
  {
   "cell_type": "code",
   "execution_count": 36,
   "id": "8e820979",
   "metadata": {},
   "outputs": [
    {
     "name": "stdout",
     "output_type": "stream",
     "text": [
      "Total Amount\n"
     ]
    },
    {
     "data": {
      "text/html": [
       "<div>\n",
       "<style scoped>\n",
       "    .dataframe tbody tr th:only-of-type {\n",
       "        vertical-align: middle;\n",
       "    }\n",
       "\n",
       "    .dataframe tbody tr th {\n",
       "        vertical-align: top;\n",
       "    }\n",
       "\n",
       "    .dataframe thead th {\n",
       "        text-align: right;\n",
       "    }\n",
       "</style>\n",
       "<table border=\"1\" class=\"dataframe\">\n",
       "  <thead>\n",
       "    <tr style=\"text-align: right;\">\n",
       "      <th></th>\n",
       "      <th>index</th>\n",
       "      <th>0</th>\n",
       "    </tr>\n",
       "  </thead>\n",
       "  <tbody>\n",
       "    <tr>\n",
       "      <th>0</th>\n",
       "      <td>order_amount</td>\n",
       "      <td>15725640</td>\n",
       "    </tr>\n",
       "  </tbody>\n",
       "</table>\n",
       "</div>"
      ],
      "text/plain": [
       "          index         0\n",
       "0  order_amount  15725640"
      ]
     },
     "execution_count": 36,
     "metadata": {},
     "output_type": "execute_result"
    }
   ],
   "source": [
    "data_total1 =data[['order_amount']].sum().reset_index()\n",
    "print('Total Amount')\n",
    "data_total1"
   ]
  },
  {
   "cell_type": "markdown",
   "id": "c150d72a",
   "metadata": {},
   "source": [
    "# 1,57,25,640 it is the total amount by cash, debit card and credit card"
   ]
  },
  {
   "cell_type": "markdown",
   "id": "3b6a150e",
   "metadata": {},
   "source": [
    "### Q8. Total items sold in March, 2017"
   ]
  },
  {
   "cell_type": "code",
   "execution_count": 37,
   "id": "92b05c14",
   "metadata": {},
   "outputs": [
    {
     "name": "stdout",
     "output_type": "stream",
     "text": [
      "Total items sold in March, 2017\n"
     ]
    },
    {
     "data": {
      "text/plain": [
       "43936"
      ]
     },
     "execution_count": 37,
     "metadata": {},
     "output_type": "execute_result"
    }
   ],
   "source": [
    "data_total_items =data['total_items'].sum()\n",
    "print('Total items sold in March, 2017')\n",
    "data_total_items"
   ]
  },
  {
   "cell_type": "markdown",
   "id": "cb231d80",
   "metadata": {},
   "source": [
    "### Q9. Trend of the order amount throughout"
   ]
  },
  {
   "cell_type": "code",
   "execution_count": 38,
   "id": "b50385f1",
   "metadata": {},
   "outputs": [
    {
     "data": {
      "text/plain": [
       "[<matplotlib.lines.Line2D at 0x2242a0bb520>]"
      ]
     },
     "execution_count": 38,
     "metadata": {},
     "output_type": "execute_result"
    },
    {
     "data": {
      "image/png": "[encoded data removed]",
      "text/plain": [
       "<Figure size 2400x800 with 1 Axes>"
      ]
     },
     "metadata": {},
     "output_type": "display_data"
    }
   ],
   "source": [
    "plt.figure(num=None, figsize=(30,10),dpi = 80,facecolor='w',edgecolor='k')\n",
    "plt.title('Order Amount',fontsize=30)\n",
    "plt.plot(data.order_amount)"
   ]
  },
  {
   "cell_type": "code",
   "execution_count": 39,
   "id": "d8947bcb",
   "metadata": {},
   "outputs": [
    {
     "data": {
      "image/png": "[encoded data removed]",
      "text/plain": [
       "<Figure size 1440x720 with 1 Axes>"
      ]
     },
     "metadata": {
      "needs_background": "light"
     },
     "output_type": "display_data"
    }
   ],
   "source": [
    "plt.figure(figsize=(20,10))\n",
    " \n",
    "# Bar chart with day against tip\n",
    "plt.bar(data['created_at'], data['order_amount'])\n",
    "\n",
    " \n",
    "plt.title(\"Bar Chart\")\n",
    " \n",
    "# Setting the X and Y labels\n",
    "plt.xlabel('date')\n",
    "plt.ylabel('amount')\n",
    " \n",
    "# Adding the legends\n",
    "plt.show()"
   ]
  },
  {
   "cell_type": "markdown",
   "id": "dbd09d6c",
   "metadata": {},
   "source": [
    "### Q10. What can be commented after understanding the sneakers sales for the month of March,2017"
   ]
  },
  {
   "cell_type": "code",
   "execution_count": 40,
   "id": "ce4d49aa",
   "metadata": {},
   "outputs": [
    {
     "name": "stdout",
     "output_type": "stream",
     "text": [
      "Shop id with Max Revenue\n"
     ]
    },
    {
     "data": {
      "text/html": [
       "<div>\n",
       "<style scoped>\n",
       "    .dataframe tbody tr th:only-of-type {\n",
       "        vertical-align: middle;\n",
       "    }\n",
       "\n",
       "    .dataframe tbody tr th {\n",
       "        vertical-align: top;\n",
       "    }\n",
       "\n",
       "    .dataframe thead th {\n",
       "        text-align: right;\n",
       "    }\n",
       "</style>\n",
       "<table border=\"1\" class=\"dataframe\">\n",
       "  <thead>\n",
       "    <tr style=\"text-align: right;\">\n",
       "      <th></th>\n",
       "      <th>shop_id</th>\n",
       "      <th>order_amount</th>\n",
       "    </tr>\n",
       "  </thead>\n",
       "  <tbody>\n",
       "    <tr>\n",
       "      <th>41</th>\n",
       "      <td>42</td>\n",
       "      <td>11990176</td>\n",
       "    </tr>\n",
       "    <tr>\n",
       "      <th>77</th>\n",
       "      <td>78</td>\n",
       "      <td>2263800</td>\n",
       "    </tr>\n",
       "    <tr>\n",
       "      <th>88</th>\n",
       "      <td>89</td>\n",
       "      <td>23128</td>\n",
       "    </tr>\n",
       "    <tr>\n",
       "      <th>80</th>\n",
       "      <td>81</td>\n",
       "      <td>22656</td>\n",
       "    </tr>\n",
       "    <tr>\n",
       "      <th>5</th>\n",
       "      <td>6</td>\n",
       "      <td>22627</td>\n",
       "    </tr>\n",
       "  </tbody>\n",
       "</table>\n",
       "</div>"
      ],
      "text/plain": [
       "    shop_id  order_amount\n",
       "41       42      11990176\n",
       "77       78       2263800\n",
       "88       89         23128\n",
       "80       81         22656\n",
       "5         6         22627"
      ]
     },
     "execution_count": 40,
     "metadata": {},
     "output_type": "execute_result"
    }
   ],
   "source": [
    "data_2 =data.groupby('shop_id')[['order_amount']].sum().reset_index().sort_values('order_amount',ascending = False)\n",
    "print('Shop id with Max Revenue')\n",
    "data_2.head()"
   ]
  },
  {
   "cell_type": "markdown",
   "id": "f5786a76",
   "metadata": {},
   "source": [
    "# SHOP ID 42 AND SHOP ID 78 ARE TOP 2 SHOPS ON THE BASIS OF REVENUE"
   ]
  },
  {
   "cell_type": "markdown",
   "id": "d44f83c8",
   "metadata": {},
   "source": [
    "# COMPANY SHOULD PUSH THEIR PRODUCTS TO THESE SHOPS"
   ]
  },
  {
   "cell_type": "code",
   "execution_count": null,
   "id": "7d62dca9",
   "metadata": {},
   "outputs": [],
   "source": []
  },
  {
   "cell_type": "code",
   "execution_count": 41,
   "id": "61f33315",
   "metadata": {},
   "outputs": [
    {
     "name": "stdout",
     "output_type": "stream",
     "text": [
      "Top 10 Sellers with most items sold\n"
     ]
    },
    {
     "data": {
      "text/html": [
       "<div>\n",
       "<style scoped>\n",
       "    .dataframe tbody tr th:only-of-type {\n",
       "        vertical-align: middle;\n",
       "    }\n",
       "\n",
       "    .dataframe tbody tr th {\n",
       "        vertical-align: top;\n",
       "    }\n",
       "\n",
       "    .dataframe thead th {\n",
       "        text-align: right;\n",
       "    }\n",
       "</style>\n",
       "<table border=\"1\" class=\"dataframe\">\n",
       "  <thead>\n",
       "    <tr style=\"text-align: right;\">\n",
       "      <th></th>\n",
       "      <th>shop_id</th>\n",
       "      <th>total_items</th>\n",
       "    </tr>\n",
       "  </thead>\n",
       "  <tbody>\n",
       "    <tr>\n",
       "      <th>41</th>\n",
       "      <td>42</td>\n",
       "      <td>34063</td>\n",
       "    </tr>\n",
       "    <tr>\n",
       "      <th>12</th>\n",
       "      <td>13</td>\n",
       "      <td>136</td>\n",
       "    </tr>\n",
       "    <tr>\n",
       "      <th>83</th>\n",
       "      <td>84</td>\n",
       "      <td>132</td>\n",
       "    </tr>\n",
       "    <tr>\n",
       "      <th>70</th>\n",
       "      <td>71</td>\n",
       "      <td>130</td>\n",
       "    </tr>\n",
       "    <tr>\n",
       "      <th>52</th>\n",
       "      <td>53</td>\n",
       "      <td>130</td>\n",
       "    </tr>\n",
       "    <tr>\n",
       "      <th>80</th>\n",
       "      <td>81</td>\n",
       "      <td>128</td>\n",
       "    </tr>\n",
       "    <tr>\n",
       "      <th>40</th>\n",
       "      <td>41</td>\n",
       "      <td>127</td>\n",
       "    </tr>\n",
       "    <tr>\n",
       "      <th>23</th>\n",
       "      <td>24</td>\n",
       "      <td>126</td>\n",
       "    </tr>\n",
       "    <tr>\n",
       "      <th>18</th>\n",
       "      <td>19</td>\n",
       "      <td>126</td>\n",
       "    </tr>\n",
       "    <tr>\n",
       "      <th>13</th>\n",
       "      <td>14</td>\n",
       "      <td>121</td>\n",
       "    </tr>\n",
       "  </tbody>\n",
       "</table>\n",
       "</div>"
      ],
      "text/plain": [
       "    shop_id  total_items\n",
       "41       42        34063\n",
       "12       13          136\n",
       "83       84          132\n",
       "70       71          130\n",
       "52       53          130\n",
       "80       81          128\n",
       "40       41          127\n",
       "23       24          126\n",
       "18       19          126\n",
       "13       14          121"
      ]
     },
     "execution_count": 41,
     "metadata": {},
     "output_type": "execute_result"
    }
   ],
   "source": [
    "data_3 =data.groupby('shop_id')[['total_items']].sum().reset_index().sort_values('total_items',ascending = False)\n",
    "print('Top 10 Sellers with most items sold')\n",
    "data_3.head(10)"
   ]
  },
  {
   "cell_type": "markdown",
   "id": "89a0d8d2",
   "metadata": {},
   "source": [
    "# SHOP ID 42 IS THE NO.1 SHOP ON THE BASIS OF REVENUE AND THE ITEMS SOLD"
   ]
  },
  {
   "cell_type": "code",
   "execution_count": 42,
   "id": "b7283418",
   "metadata": {},
   "outputs": [
    {
     "name": "stdout",
     "output_type": "stream",
     "text": [
      "Maximum number of items bought by a user_id\n"
     ]
    },
    {
     "data": {
      "text/html": [
       "<div>\n",
       "<style scoped>\n",
       "    .dataframe tbody tr th:only-of-type {\n",
       "        vertical-align: middle;\n",
       "    }\n",
       "\n",
       "    .dataframe tbody tr th {\n",
       "        vertical-align: top;\n",
       "    }\n",
       "\n",
       "    .dataframe thead th {\n",
       "        text-align: right;\n",
       "    }\n",
       "</style>\n",
       "<table border=\"1\" class=\"dataframe\">\n",
       "  <thead>\n",
       "    <tr style=\"text-align: right;\">\n",
       "      <th></th>\n",
       "      <th>user_id</th>\n",
       "      <th>total_items</th>\n",
       "    </tr>\n",
       "  </thead>\n",
       "  <tbody>\n",
       "    <tr>\n",
       "      <th>0</th>\n",
       "      <td>607</td>\n",
       "      <td>34000</td>\n",
       "    </tr>\n",
       "    <tr>\n",
       "      <th>19</th>\n",
       "      <td>718</td>\n",
       "      <td>58</td>\n",
       "    </tr>\n",
       "    <tr>\n",
       "      <th>88</th>\n",
       "      <td>787</td>\n",
       "      <td>57</td>\n",
       "    </tr>\n",
       "    <tr>\n",
       "      <th>46</th>\n",
       "      <td>745</td>\n",
       "      <td>56</td>\n",
       "    </tr>\n",
       "    <tr>\n",
       "      <th>148</th>\n",
       "      <td>847</td>\n",
       "      <td>54</td>\n",
       "    </tr>\n",
       "  </tbody>\n",
       "</table>\n",
       "</div>"
      ],
      "text/plain": [
       "     user_id  total_items\n",
       "0        607        34000\n",
       "19       718           58\n",
       "88       787           57\n",
       "46       745           56\n",
       "148      847           54"
      ]
     },
     "execution_count": 42,
     "metadata": {},
     "output_type": "execute_result"
    }
   ],
   "source": [
    "data_4 =data.groupby('user_id')[['total_items']].sum().reset_index().sort_values('total_items',ascending = False)\n",
    "print('Maximum number of items bought by a user_id')\n",
    "data_4.head()"
   ]
  },
  {
   "cell_type": "code",
   "execution_count": 43,
   "id": "731ed0dd",
   "metadata": {},
   "outputs": [
    {
     "name": "stdout",
     "output_type": "stream",
     "text": [
      "Maximum order amount by a user_id\n"
     ]
    },
    {
     "data": {
      "text/html": [
       "<div>\n",
       "<style scoped>\n",
       "    .dataframe tbody tr th:only-of-type {\n",
       "        vertical-align: middle;\n",
       "    }\n",
       "\n",
       "    .dataframe tbody tr th {\n",
       "        vertical-align: top;\n",
       "    }\n",
       "\n",
       "    .dataframe thead th {\n",
       "        text-align: right;\n",
       "    }\n",
       "</style>\n",
       "<table border=\"1\" class=\"dataframe\">\n",
       "  <thead>\n",
       "    <tr style=\"text-align: right;\">\n",
       "      <th></th>\n",
       "      <th>user_id</th>\n",
       "      <th>order_amount</th>\n",
       "    </tr>\n",
       "  </thead>\n",
       "  <tbody>\n",
       "    <tr>\n",
       "      <th>0</th>\n",
       "      <td>607</td>\n",
       "      <td>11968000</td>\n",
       "    </tr>\n",
       "    <tr>\n",
       "      <th>179</th>\n",
       "      <td>878</td>\n",
       "      <td>156936</td>\n",
       "    </tr>\n",
       "    <tr>\n",
       "      <th>135</th>\n",
       "      <td>834</td>\n",
       "      <td>108342</td>\n",
       "    </tr>\n",
       "    <tr>\n",
       "      <th>88</th>\n",
       "      <td>787</td>\n",
       "      <td>85707</td>\n",
       "    </tr>\n",
       "    <tr>\n",
       "      <th>270</th>\n",
       "      <td>969</td>\n",
       "      <td>84269</td>\n",
       "    </tr>\n",
       "  </tbody>\n",
       "</table>\n",
       "</div>"
      ],
      "text/plain": [
       "     user_id  order_amount\n",
       "0        607      11968000\n",
       "179      878        156936\n",
       "135      834        108342\n",
       "88       787         85707\n",
       "270      969         84269"
      ]
     },
     "execution_count": 43,
     "metadata": {},
     "output_type": "execute_result"
    }
   ],
   "source": [
    "data_5 =data.groupby('user_id')[['order_amount']].sum().reset_index().sort_values('order_amount',ascending = False)\n",
    "print('Maximum order amount by a user_id')\n",
    "data_5.head()"
   ]
  },
  {
   "cell_type": "markdown",
   "id": "1997140e",
   "metadata": {},
   "source": [
    "# USER ID 607 IS THE NO.1 USER ON THE BASIS OF ORDER AMOUNT AND NUMBER OF ITEMS BOUGHT"
   ]
  },
  {
   "cell_type": "markdown",
   "id": "63ace458",
   "metadata": {},
   "source": [
    "# USER ID 607 SHOULD TARGETED BY COMPANY/SHOPS"
   ]
  },
  {
   "cell_type": "markdown",
   "id": "a46cb467",
   "metadata": {},
   "source": [
    "# ---"
   ]
  },
  {
   "cell_type": "markdown",
   "id": "d9c57a1c",
   "metadata": {},
   "source": [
    "# ---------CASE STUDY-------------"
   ]
  },
  {
   "cell_type": "code",
   "execution_count": 45,
   "id": "b7d70a7c",
   "metadata": {},
   "outputs": [],
   "source": [
    "data_click = pd.read_csv('./Ad click data.csv')"
   ]
  },
  {
   "cell_type": "code",
   "execution_count": 46,
   "id": "784f6ffa",
   "metadata": {
    "scrolled": true
   },
   "outputs": [
    {
     "data": {
      "text/html": [
       "<div>\n",
       "<style scoped>\n",
       "    .dataframe tbody tr th:only-of-type {\n",
       "        vertical-align: middle;\n",
       "    }\n",
       "\n",
       "    .dataframe tbody tr th {\n",
       "        vertical-align: top;\n",
       "    }\n",
       "\n",
       "    .dataframe thead th {\n",
       "        text-align: right;\n",
       "    }\n",
       "</style>\n",
       "<table border=\"1\" class=\"dataframe\">\n",
       "  <thead>\n",
       "    <tr style=\"text-align: right;\">\n",
       "      <th></th>\n",
       "      <th>VisitorID</th>\n",
       "      <th>TimeSpent</th>\n",
       "      <th>Age</th>\n",
       "      <th>AvgIncome</th>\n",
       "      <th>InternetUsage</th>\n",
       "      <th>AdTopic</th>\n",
       "      <th>CountryName</th>\n",
       "      <th>CityCode</th>\n",
       "      <th>Male</th>\n",
       "      <th>TimePeriod</th>\n",
       "      <th>Weekday</th>\n",
       "      <th>Month</th>\n",
       "      <th>Year</th>\n",
       "      <th>Clicked</th>\n",
       "    </tr>\n",
       "  </thead>\n",
       "  <tbody>\n",
       "    <tr>\n",
       "      <th>0</th>\n",
       "      <td>5183153</td>\n",
       "      <td>87.97</td>\n",
       "      <td>43</td>\n",
       "      <td>55901.12</td>\n",
       "      <td>185.46</td>\n",
       "      <td>product_11</td>\n",
       "      <td>Serbia</td>\n",
       "      <td>City_5</td>\n",
       "      <td>No</td>\n",
       "      <td>Mid-Night</td>\n",
       "      <td>Thursday</td>\n",
       "      <td>July</td>\n",
       "      <td>2020</td>\n",
       "      <td>0</td>\n",
       "    </tr>\n",
       "    <tr>\n",
       "      <th>1</th>\n",
       "      <td>4023265</td>\n",
       "      <td>51.63</td>\n",
       "      <td>50</td>\n",
       "      <td>39132.00</td>\n",
       "      <td>176.73</td>\n",
       "      <td>product_8</td>\n",
       "      <td>Turkmenistan</td>\n",
       "      <td>City_1</td>\n",
       "      <td>No</td>\n",
       "      <td>Evening</td>\n",
       "      <td>Saturday</td>\n",
       "      <td>June</td>\n",
       "      <td>2020</td>\n",
       "      <td>1</td>\n",
       "    </tr>\n",
       "    <tr>\n",
       "      <th>2</th>\n",
       "      <td>4708083</td>\n",
       "      <td>82.37</td>\n",
       "      <td>38</td>\n",
       "      <td>57032.36</td>\n",
       "      <td>210.60</td>\n",
       "      <td>product_6</td>\n",
       "      <td>Northern Mariana Islands</td>\n",
       "      <td>City_2</td>\n",
       "      <td>No</td>\n",
       "      <td>Morning</td>\n",
       "      <td>Tuesday</td>\n",
       "      <td>January</td>\n",
       "      <td>2020</td>\n",
       "      <td>0</td>\n",
       "    </tr>\n",
       "    <tr>\n",
       "      <th>3</th>\n",
       "      <td>9771815</td>\n",
       "      <td>62.06</td>\n",
       "      <td>45</td>\n",
       "      <td>48868.00</td>\n",
       "      <td>190.05</td>\n",
       "      <td>product_19</td>\n",
       "      <td>South Africa</td>\n",
       "      <td>City_3</td>\n",
       "      <td>Yes</td>\n",
       "      <td>Morning</td>\n",
       "      <td>Thursday</td>\n",
       "      <td>April</td>\n",
       "      <td>2020</td>\n",
       "      <td>1</td>\n",
       "    </tr>\n",
       "    <tr>\n",
       "      <th>4</th>\n",
       "      <td>6451317</td>\n",
       "      <td>77.66</td>\n",
       "      <td>31</td>\n",
       "      <td>61608.23</td>\n",
       "      <td>204.86</td>\n",
       "      <td>product_11</td>\n",
       "      <td>Guadeloupe</td>\n",
       "      <td>City_2</td>\n",
       "      <td>No</td>\n",
       "      <td>Noon</td>\n",
       "      <td>Thursday</td>\n",
       "      <td>January</td>\n",
       "      <td>2020</td>\n",
       "      <td>0</td>\n",
       "    </tr>\n",
       "  </tbody>\n",
       "</table>\n",
       "</div>"
      ],
      "text/plain": [
       "   VisitorID  TimeSpent  Age  AvgIncome  InternetUsage     AdTopic  \\\n",
       "0    5183153      87.97   43   55901.12         185.46  product_11   \n",
       "1    4023265      51.63   50   39132.00         176.73   product_8   \n",
       "2    4708083      82.37   38   57032.36         210.60   product_6   \n",
       "3    9771815      62.06   45   48868.00         190.05  product_19   \n",
       "4    6451317      77.66   31   61608.23         204.86  product_11   \n",
       "\n",
       "                CountryName CityCode Male TimePeriod   Weekday    Month  Year  \\\n",
       "0                    Serbia   City_5   No  Mid-Night  Thursday     July  2020   \n",
       "1              Turkmenistan   City_1   No    Evening  Saturday     June  2020   \n",
       "2  Northern Mariana Islands   City_2   No    Morning   Tuesday  January  2020   \n",
       "3              South Africa   City_3  Yes    Morning  Thursday    April  2020   \n",
       "4                Guadeloupe   City_2   No       Noon  Thursday  January  2020   \n",
       "\n",
       "   Clicked  \n",
       "0        0  \n",
       "1        1  \n",
       "2        0  \n",
       "3        1  \n",
       "4        0  "
      ]
     },
     "execution_count": 46,
     "metadata": {},
     "output_type": "execute_result"
    }
   ],
   "source": [
    "data_click.head()"
   ]
  },
  {
   "cell_type": "code",
   "execution_count": 47,
   "id": "839f7691",
   "metadata": {},
   "outputs": [
    {
     "name": "stdout",
     "output_type": "stream",
     "text": [
      "<class 'pandas.core.frame.DataFrame'>\n",
      "RangeIndex: 6657 entries, 0 to 6656\n",
      "Data columns (total 14 columns):\n",
      " #   Column         Non-Null Count  Dtype  \n",
      "---  ------         --------------  -----  \n",
      " 0   VisitorID      6657 non-null   int64  \n",
      " 1   TimeSpent      6657 non-null   float64\n",
      " 2   Age            6657 non-null   int64  \n",
      " 3   AvgIncome      6657 non-null   float64\n",
      " 4   InternetUsage  6657 non-null   float64\n",
      " 5   AdTopic        6657 non-null   object \n",
      " 6   CountryName    6657 non-null   object \n",
      " 7   CityCode       6657 non-null   object \n",
      " 8   Male           6657 non-null   object \n",
      " 9   TimePeriod     6657 non-null   object \n",
      " 10  Weekday        6657 non-null   object \n",
      " 11  Month          6657 non-null   object \n",
      " 12  Year           6657 non-null   int64  \n",
      " 13  Clicked        6657 non-null   int64  \n",
      "dtypes: float64(3), int64(4), object(7)\n",
      "memory usage: 728.2+ KB\n"
     ]
    }
   ],
   "source": [
    "data_click.info()"
   ]
  },
  {
   "cell_type": "code",
   "execution_count": 48,
   "id": "049b61f1",
   "metadata": {},
   "outputs": [],
   "source": [
    "df_dummy = pd.get_dummies(data_click,columns=['AdTopic','CountryName','CityCode','Male','TimePeriod','Weekday','Month'],drop_first=True)"
   ]
  },
  {
   "cell_type": "code",
   "execution_count": 49,
   "id": "277585f8",
   "metadata": {},
   "outputs": [
    {
     "data": {
      "text/html": [
       "<div>\n",
       "<style scoped>\n",
       "    .dataframe tbody tr th:only-of-type {\n",
       "        vertical-align: middle;\n",
       "    }\n",
       "\n",
       "    .dataframe tbody tr th {\n",
       "        vertical-align: top;\n",
       "    }\n",
       "\n",
       "    .dataframe thead th {\n",
       "        text-align: right;\n",
       "    }\n",
       "</style>\n",
       "<table border=\"1\" class=\"dataframe\">\n",
       "  <thead>\n",
       "    <tr style=\"text-align: right;\">\n",
       "      <th></th>\n",
       "      <th>VisitorID</th>\n",
       "      <th>TimeSpent</th>\n",
       "      <th>Age</th>\n",
       "      <th>AvgIncome</th>\n",
       "      <th>InternetUsage</th>\n",
       "      <th>Year</th>\n",
       "      <th>Clicked</th>\n",
       "      <th>AdTopic_product_10</th>\n",
       "      <th>AdTopic_product_11</th>\n",
       "      <th>AdTopic_product_12</th>\n",
       "      <th>...</th>\n",
       "      <th>Weekday_Sunday</th>\n",
       "      <th>Weekday_Thursday</th>\n",
       "      <th>Weekday_Tuesday</th>\n",
       "      <th>Weekday_Wednesday</th>\n",
       "      <th>Month_February</th>\n",
       "      <th>Month_January</th>\n",
       "      <th>Month_July</th>\n",
       "      <th>Month_June</th>\n",
       "      <th>Month_March</th>\n",
       "      <th>Month_May</th>\n",
       "    </tr>\n",
       "  </thead>\n",
       "  <tbody>\n",
       "    <tr>\n",
       "      <th>0</th>\n",
       "      <td>5183153</td>\n",
       "      <td>87.97</td>\n",
       "      <td>43</td>\n",
       "      <td>55901.12</td>\n",
       "      <td>185.46</td>\n",
       "      <td>2020</td>\n",
       "      <td>0</td>\n",
       "      <td>0</td>\n",
       "      <td>1</td>\n",
       "      <td>0</td>\n",
       "      <td>...</td>\n",
       "      <td>0</td>\n",
       "      <td>1</td>\n",
       "      <td>0</td>\n",
       "      <td>0</td>\n",
       "      <td>0</td>\n",
       "      <td>0</td>\n",
       "      <td>1</td>\n",
       "      <td>0</td>\n",
       "      <td>0</td>\n",
       "      <td>0</td>\n",
       "    </tr>\n",
       "    <tr>\n",
       "      <th>1</th>\n",
       "      <td>4023265</td>\n",
       "      <td>51.63</td>\n",
       "      <td>50</td>\n",
       "      <td>39132.00</td>\n",
       "      <td>176.73</td>\n",
       "      <td>2020</td>\n",
       "      <td>1</td>\n",
       "      <td>0</td>\n",
       "      <td>0</td>\n",
       "      <td>0</td>\n",
       "      <td>...</td>\n",
       "      <td>0</td>\n",
       "      <td>0</td>\n",
       "      <td>0</td>\n",
       "      <td>0</td>\n",
       "      <td>0</td>\n",
       "      <td>0</td>\n",
       "      <td>0</td>\n",
       "      <td>1</td>\n",
       "      <td>0</td>\n",
       "      <td>0</td>\n",
       "    </tr>\n",
       "    <tr>\n",
       "      <th>2</th>\n",
       "      <td>4708083</td>\n",
       "      <td>82.37</td>\n",
       "      <td>38</td>\n",
       "      <td>57032.36</td>\n",
       "      <td>210.60</td>\n",
       "      <td>2020</td>\n",
       "      <td>0</td>\n",
       "      <td>0</td>\n",
       "      <td>0</td>\n",
       "      <td>0</td>\n",
       "      <td>...</td>\n",
       "      <td>0</td>\n",
       "      <td>0</td>\n",
       "      <td>1</td>\n",
       "      <td>0</td>\n",
       "      <td>0</td>\n",
       "      <td>1</td>\n",
       "      <td>0</td>\n",
       "      <td>0</td>\n",
       "      <td>0</td>\n",
       "      <td>0</td>\n",
       "    </tr>\n",
       "    <tr>\n",
       "      <th>3</th>\n",
       "      <td>9771815</td>\n",
       "      <td>62.06</td>\n",
       "      <td>45</td>\n",
       "      <td>48868.00</td>\n",
       "      <td>190.05</td>\n",
       "      <td>2020</td>\n",
       "      <td>1</td>\n",
       "      <td>0</td>\n",
       "      <td>0</td>\n",
       "      <td>0</td>\n",
       "      <td>...</td>\n",
       "      <td>0</td>\n",
       "      <td>1</td>\n",
       "      <td>0</td>\n",
       "      <td>0</td>\n",
       "      <td>0</td>\n",
       "      <td>0</td>\n",
       "      <td>0</td>\n",
       "      <td>0</td>\n",
       "      <td>0</td>\n",
       "      <td>0</td>\n",
       "    </tr>\n",
       "    <tr>\n",
       "      <th>4</th>\n",
       "      <td>6451317</td>\n",
       "      <td>77.66</td>\n",
       "      <td>31</td>\n",
       "      <td>61608.23</td>\n",
       "      <td>204.86</td>\n",
       "      <td>2020</td>\n",
       "      <td>0</td>\n",
       "      <td>0</td>\n",
       "      <td>1</td>\n",
       "      <td>0</td>\n",
       "      <td>...</td>\n",
       "      <td>0</td>\n",
       "      <td>1</td>\n",
       "      <td>0</td>\n",
       "      <td>0</td>\n",
       "      <td>0</td>\n",
       "      <td>1</td>\n",
       "      <td>0</td>\n",
       "      <td>0</td>\n",
       "      <td>0</td>\n",
       "      <td>0</td>\n",
       "    </tr>\n",
       "  </tbody>\n",
       "</table>\n",
       "<p>5 rows × 298 columns</p>\n",
       "</div>"
      ],
      "text/plain": [
       "   VisitorID  TimeSpent  Age  AvgIncome  InternetUsage  Year  Clicked  \\\n",
       "0    5183153      87.97   43   55901.12         185.46  2020        0   \n",
       "1    4023265      51.63   50   39132.00         176.73  2020        1   \n",
       "2    4708083      82.37   38   57032.36         210.60  2020        0   \n",
       "3    9771815      62.06   45   48868.00         190.05  2020        1   \n",
       "4    6451317      77.66   31   61608.23         204.86  2020        0   \n",
       "\n",
       "   AdTopic_product_10  AdTopic_product_11  AdTopic_product_12  ...  \\\n",
       "0                   0                   1                   0  ...   \n",
       "1                   0                   0                   0  ...   \n",
       "2                   0                   0                   0  ...   \n",
       "3                   0                   0                   0  ...   \n",
       "4                   0                   1                   0  ...   \n",
       "\n",
       "   Weekday_Sunday  Weekday_Thursday  Weekday_Tuesday  Weekday_Wednesday  \\\n",
       "0               0                 1                0                  0   \n",
       "1               0                 0                0                  0   \n",
       "2               0                 0                1                  0   \n",
       "3               0                 1                0                  0   \n",
       "4               0                 1                0                  0   \n",
       "\n",
       "   Month_February  Month_January  Month_July  Month_June  Month_March  \\\n",
       "0               0              0           1           0            0   \n",
       "1               0              0           0           1            0   \n",
       "2               0              1           0           0            0   \n",
       "3               0              0           0           0            0   \n",
       "4               0              1           0           0            0   \n",
       "\n",
       "   Month_May  \n",
       "0          0  \n",
       "1          0  \n",
       "2          0  \n",
       "3          0  \n",
       "4          0  \n",
       "\n",
       "[5 rows x 298 columns]"
      ]
     },
     "execution_count": 49,
     "metadata": {},
     "output_type": "execute_result"
    }
   ],
   "source": [
    "df_dummy.head()"
   ]
  },
  {
   "cell_type": "code",
   "execution_count": 50,
   "id": "6078b832",
   "metadata": {},
   "outputs": [
    {
     "data": {
      "text/plain": [
       "(6657, 298)"
      ]
     },
     "execution_count": 50,
     "metadata": {},
     "output_type": "execute_result"
    }
   ],
   "source": [
    "df_dummy.shape"
   ]
  },
  {
   "cell_type": "code",
   "execution_count": 51,
   "id": "bea6487d",
   "metadata": {},
   "outputs": [],
   "source": [
    "y = df_dummy[['Clicked']]\n",
    "x = df_dummy.drop(columns=['Clicked'])"
   ]
  },
  {
   "cell_type": "code",
   "execution_count": 52,
   "id": "7c68170d",
   "metadata": {},
   "outputs": [],
   "source": [
    "from sklearn.preprocessing import StandardScaler\n",
    "sc = StandardScaler()\n",
    "x_scal = sc.fit_transform(x)"
   ]
  },
  {
   "cell_type": "code",
   "execution_count": 53,
   "id": "a85c2e7f",
   "metadata": {},
   "outputs": [
    {
     "data": {
      "text/html": [
       "<div>\n",
       "<style scoped>\n",
       "    .dataframe tbody tr th:only-of-type {\n",
       "        vertical-align: middle;\n",
       "    }\n",
       "\n",
       "    .dataframe tbody tr th {\n",
       "        vertical-align: top;\n",
       "    }\n",
       "\n",
       "    .dataframe thead th {\n",
       "        text-align: right;\n",
       "    }\n",
       "</style>\n",
       "<table border=\"1\" class=\"dataframe\">\n",
       "  <thead>\n",
       "    <tr style=\"text-align: right;\">\n",
       "      <th></th>\n",
       "      <th>VisitorID</th>\n",
       "      <th>TimeSpent</th>\n",
       "      <th>Age</th>\n",
       "      <th>AvgIncome</th>\n",
       "      <th>InternetUsage</th>\n",
       "      <th>Year</th>\n",
       "      <th>AdTopic_product_10</th>\n",
       "      <th>AdTopic_product_11</th>\n",
       "      <th>AdTopic_product_12</th>\n",
       "      <th>AdTopic_product_13</th>\n",
       "      <th>...</th>\n",
       "      <th>Weekday_Sunday</th>\n",
       "      <th>Weekday_Thursday</th>\n",
       "      <th>Weekday_Tuesday</th>\n",
       "      <th>Weekday_Wednesday</th>\n",
       "      <th>Month_February</th>\n",
       "      <th>Month_January</th>\n",
       "      <th>Month_July</th>\n",
       "      <th>Month_June</th>\n",
       "      <th>Month_March</th>\n",
       "      <th>Month_May</th>\n",
       "    </tr>\n",
       "  </thead>\n",
       "  <tbody>\n",
       "    <tr>\n",
       "      <th>0</th>\n",
       "      <td>-0.138270</td>\n",
       "      <td>1.361862</td>\n",
       "      <td>0.522180</td>\n",
       "      <td>-0.002240</td>\n",
       "      <td>0.011863</td>\n",
       "      <td>0.0</td>\n",
       "      <td>-0.190024</td>\n",
       "      <td>5.460718</td>\n",
       "      <td>-0.187892</td>\n",
       "      <td>-0.1963</td>\n",
       "      <td>...</td>\n",
       "      <td>-0.415235</td>\n",
       "      <td>2.487767</td>\n",
       "      <td>-0.404233</td>\n",
       "      <td>-0.4002</td>\n",
       "      <td>-0.406494</td>\n",
       "      <td>-0.417470</td>\n",
       "      <td>2.481545</td>\n",
       "      <td>-0.405741</td>\n",
       "      <td>-0.402975</td>\n",
       "      <td>-0.407998</td>\n",
       "    </tr>\n",
       "    <tr>\n",
       "      <th>1</th>\n",
       "      <td>-0.585053</td>\n",
       "      <td>-0.981368</td>\n",
       "      <td>1.158854</td>\n",
       "      <td>-1.281412</td>\n",
       "      <td>-0.190283</td>\n",
       "      <td>0.0</td>\n",
       "      <td>-0.190024</td>\n",
       "      <td>-0.183126</td>\n",
       "      <td>-0.187892</td>\n",
       "      <td>-0.1963</td>\n",
       "      <td>...</td>\n",
       "      <td>-0.415235</td>\n",
       "      <td>-0.401967</td>\n",
       "      <td>-0.404233</td>\n",
       "      <td>-0.4002</td>\n",
       "      <td>-0.406494</td>\n",
       "      <td>-0.417470</td>\n",
       "      <td>-0.402975</td>\n",
       "      <td>2.464628</td>\n",
       "      <td>-0.402975</td>\n",
       "      <td>-0.407998</td>\n",
       "    </tr>\n",
       "    <tr>\n",
       "      <th>2</th>\n",
       "      <td>-0.321265</td>\n",
       "      <td>1.000770</td>\n",
       "      <td>0.067412</td>\n",
       "      <td>0.084052</td>\n",
       "      <td>0.593987</td>\n",
       "      <td>0.0</td>\n",
       "      <td>-0.190024</td>\n",
       "      <td>-0.183126</td>\n",
       "      <td>-0.187892</td>\n",
       "      <td>-0.1963</td>\n",
       "      <td>...</td>\n",
       "      <td>-0.415235</td>\n",
       "      <td>-0.401967</td>\n",
       "      <td>2.473820</td>\n",
       "      <td>-0.4002</td>\n",
       "      <td>-0.406494</td>\n",
       "      <td>2.395382</td>\n",
       "      <td>-0.402975</td>\n",
       "      <td>-0.405741</td>\n",
       "      <td>-0.402975</td>\n",
       "      <td>-0.407998</td>\n",
       "    </tr>\n",
       "    <tr>\n",
       "      <th>3</th>\n",
       "      <td>1.629259</td>\n",
       "      <td>-0.308834</td>\n",
       "      <td>0.704087</td>\n",
       "      <td>-0.538736</td>\n",
       "      <td>0.118146</td>\n",
       "      <td>0.0</td>\n",
       "      <td>-0.190024</td>\n",
       "      <td>-0.183126</td>\n",
       "      <td>-0.187892</td>\n",
       "      <td>-0.1963</td>\n",
       "      <td>...</td>\n",
       "      <td>-0.415235</td>\n",
       "      <td>2.487767</td>\n",
       "      <td>-0.404233</td>\n",
       "      <td>-0.4002</td>\n",
       "      <td>-0.406494</td>\n",
       "      <td>-0.417470</td>\n",
       "      <td>-0.402975</td>\n",
       "      <td>-0.405741</td>\n",
       "      <td>-0.402975</td>\n",
       "      <td>-0.407998</td>\n",
       "    </tr>\n",
       "    <tr>\n",
       "      <th>4</th>\n",
       "      <td>0.350220</td>\n",
       "      <td>0.697066</td>\n",
       "      <td>-0.569262</td>\n",
       "      <td>0.433106</td>\n",
       "      <td>0.461076</td>\n",
       "      <td>0.0</td>\n",
       "      <td>-0.190024</td>\n",
       "      <td>5.460718</td>\n",
       "      <td>-0.187892</td>\n",
       "      <td>-0.1963</td>\n",
       "      <td>...</td>\n",
       "      <td>-0.415235</td>\n",
       "      <td>2.487767</td>\n",
       "      <td>-0.404233</td>\n",
       "      <td>-0.4002</td>\n",
       "      <td>-0.406494</td>\n",
       "      <td>2.395382</td>\n",
       "      <td>-0.402975</td>\n",
       "      <td>-0.405741</td>\n",
       "      <td>-0.402975</td>\n",
       "      <td>-0.407998</td>\n",
       "    </tr>\n",
       "  </tbody>\n",
       "</table>\n",
       "<p>5 rows × 297 columns</p>\n",
       "</div>"
      ],
      "text/plain": [
       "   VisitorID  TimeSpent       Age  AvgIncome  InternetUsage  Year  \\\n",
       "0  -0.138270   1.361862  0.522180  -0.002240       0.011863   0.0   \n",
       "1  -0.585053  -0.981368  1.158854  -1.281412      -0.190283   0.0   \n",
       "2  -0.321265   1.000770  0.067412   0.084052       0.593987   0.0   \n",
       "3   1.629259  -0.308834  0.704087  -0.538736       0.118146   0.0   \n",
       "4   0.350220   0.697066 -0.569262   0.433106       0.461076   0.0   \n",
       "\n",
       "   AdTopic_product_10  AdTopic_product_11  AdTopic_product_12  \\\n",
       "0           -0.190024            5.460718           -0.187892   \n",
       "1           -0.190024           -0.183126           -0.187892   \n",
       "2           -0.190024           -0.183126           -0.187892   \n",
       "3           -0.190024           -0.183126           -0.187892   \n",
       "4           -0.190024            5.460718           -0.187892   \n",
       "\n",
       "   AdTopic_product_13  ...  Weekday_Sunday  Weekday_Thursday  Weekday_Tuesday  \\\n",
       "0             -0.1963  ...       -0.415235          2.487767        -0.404233   \n",
       "1             -0.1963  ...       -0.415235         -0.401967        -0.404233   \n",
       "2             -0.1963  ...       -0.415235         -0.401967         2.473820   \n",
       "3             -0.1963  ...       -0.415235          2.487767        -0.404233   \n",
       "4             -0.1963  ...       -0.415235          2.487767        -0.404233   \n",
       "\n",
       "   Weekday_Wednesday  Month_February  Month_January  Month_July  Month_June  \\\n",
       "0            -0.4002       -0.406494      -0.417470    2.481545   -0.405741   \n",
       "1            -0.4002       -0.406494      -0.417470   -0.402975    2.464628   \n",
       "2            -0.4002       -0.406494       2.395382   -0.402975   -0.405741   \n",
       "3            -0.4002       -0.406494      -0.417470   -0.402975   -0.405741   \n",
       "4            -0.4002       -0.406494       2.395382   -0.402975   -0.405741   \n",
       "\n",
       "   Month_March  Month_May  \n",
       "0    -0.402975  -0.407998  \n",
       "1    -0.402975  -0.407998  \n",
       "2    -0.402975  -0.407998  \n",
       "3    -0.402975  -0.407998  \n",
       "4    -0.402975  -0.407998  \n",
       "\n",
       "[5 rows x 297 columns]"
      ]
     },
     "execution_count": 53,
     "metadata": {},
     "output_type": "execute_result"
    }
   ],
   "source": [
    "x_scal = pd.DataFrame(x_scal,columns=x.columns)\n",
    "x_scal.head()"
   ]
  },
  {
   "cell_type": "code",
   "execution_count": 54,
   "id": "a6183a0f",
   "metadata": {},
   "outputs": [],
   "source": [
    "from sklearn.model_selection import train_test_split"
   ]
  },
  {
   "cell_type": "code",
   "execution_count": 55,
   "id": "830e2296",
   "metadata": {},
   "outputs": [],
   "source": [
    "x_train,x_test,y_train,y_test = train_test_split(x_scal,y,test_size=0.2,random_state=42)"
   ]
  },
  {
   "cell_type": "code",
   "execution_count": 56,
   "id": "a22a2975",
   "metadata": {},
   "outputs": [
    {
     "data": {
      "text/plain": [
       "(5325, 1332, 5325, 1332)"
      ]
     },
     "execution_count": 56,
     "metadata": {},
     "output_type": "execute_result"
    }
   ],
   "source": [
    "len(x_train),len(x_test),len(y_train),len(y_test)"
   ]
  },
  {
   "cell_type": "markdown",
   "id": "e21afb7d",
   "metadata": {},
   "source": [
    "# Building Logistic Regression"
   ]
  },
  {
   "cell_type": "code",
   "execution_count": 57,
   "id": "5e3a7f84",
   "metadata": {},
   "outputs": [
    {
     "name": "stderr",
     "output_type": "stream",
     "text": [
      "G:\\Anaconda\\lib\\site-packages\\sklearn\\utils\\validation.py:993: DataConversionWarning: A column-vector y was passed when a 1d array was expected. Please change the shape of y to (n_samples, ), for example using ravel().\n",
      "  y = column_or_1d(y, warn=True)\n"
     ]
    }
   ],
   "source": [
    "from sklearn.linear_model import LogisticRegression\n",
    "log_reg = LogisticRegression()\n",
    "model = log_reg.fit(x_train,y_train)"
   ]
  },
  {
   "cell_type": "code",
   "execution_count": 58,
   "id": "dd9dacf4",
   "metadata": {},
   "outputs": [
    {
     "data": {
      "text/html": [
       "<div>\n",
       "<style scoped>\n",
       "    .dataframe tbody tr th:only-of-type {\n",
       "        vertical-align: middle;\n",
       "    }\n",
       "\n",
       "    .dataframe tbody tr th {\n",
       "        vertical-align: top;\n",
       "    }\n",
       "\n",
       "    .dataframe thead th {\n",
       "        text-align: right;\n",
       "    }\n",
       "</style>\n",
       "<table border=\"1\" class=\"dataframe\">\n",
       "  <thead>\n",
       "    <tr style=\"text-align: right;\">\n",
       "      <th></th>\n",
       "      <th>Clicked</th>\n",
       "    </tr>\n",
       "  </thead>\n",
       "  <tbody>\n",
       "    <tr>\n",
       "      <th>3332</th>\n",
       "      <td>1</td>\n",
       "    </tr>\n",
       "    <tr>\n",
       "      <th>217</th>\n",
       "      <td>0</td>\n",
       "    </tr>\n",
       "    <tr>\n",
       "      <th>4715</th>\n",
       "      <td>0</td>\n",
       "    </tr>\n",
       "    <tr>\n",
       "      <th>2939</th>\n",
       "      <td>1</td>\n",
       "    </tr>\n",
       "    <tr>\n",
       "      <th>1544</th>\n",
       "      <td>1</td>\n",
       "    </tr>\n",
       "  </tbody>\n",
       "</table>\n",
       "</div>"
      ],
      "text/plain": [
       "      Clicked\n",
       "3332        1\n",
       "217         0\n",
       "4715        0\n",
       "2939        1\n",
       "1544        1"
      ]
     },
     "execution_count": 58,
     "metadata": {},
     "output_type": "execute_result"
    }
   ],
   "source": [
    "y_test.head()"
   ]
  },
  {
   "cell_type": "code",
   "execution_count": 59,
   "id": "7a5cb00b",
   "metadata": {},
   "outputs": [],
   "source": [
    "y_test['Prediction_LR'] = model.predict(x_test)"
   ]
  },
  {
   "cell_type": "code",
   "execution_count": 60,
   "id": "5d345c15",
   "metadata": {},
   "outputs": [
    {
     "data": {
      "text/html": [
       "<div>\n",
       "<style scoped>\n",
       "    .dataframe tbody tr th:only-of-type {\n",
       "        vertical-align: middle;\n",
       "    }\n",
       "\n",
       "    .dataframe tbody tr th {\n",
       "        vertical-align: top;\n",
       "    }\n",
       "\n",
       "    .dataframe thead th {\n",
       "        text-align: right;\n",
       "    }\n",
       "</style>\n",
       "<table border=\"1\" class=\"dataframe\">\n",
       "  <thead>\n",
       "    <tr style=\"text-align: right;\">\n",
       "      <th></th>\n",
       "      <th>Clicked</th>\n",
       "      <th>Prediction_LR</th>\n",
       "    </tr>\n",
       "  </thead>\n",
       "  <tbody>\n",
       "    <tr>\n",
       "      <th>3332</th>\n",
       "      <td>1</td>\n",
       "      <td>1</td>\n",
       "    </tr>\n",
       "    <tr>\n",
       "      <th>217</th>\n",
       "      <td>0</td>\n",
       "      <td>0</td>\n",
       "    </tr>\n",
       "    <tr>\n",
       "      <th>4715</th>\n",
       "      <td>0</td>\n",
       "      <td>0</td>\n",
       "    </tr>\n",
       "    <tr>\n",
       "      <th>2939</th>\n",
       "      <td>1</td>\n",
       "      <td>1</td>\n",
       "    </tr>\n",
       "    <tr>\n",
       "      <th>1544</th>\n",
       "      <td>1</td>\n",
       "      <td>1</td>\n",
       "    </tr>\n",
       "  </tbody>\n",
       "</table>\n",
       "</div>"
      ],
      "text/plain": [
       "      Clicked  Prediction_LR\n",
       "3332        1              1\n",
       "217         0              0\n",
       "4715        0              0\n",
       "2939        1              1\n",
       "1544        1              1"
      ]
     },
     "execution_count": 60,
     "metadata": {},
     "output_type": "execute_result"
    }
   ],
   "source": [
    "y_test.head()"
   ]
  },
  {
   "cell_type": "code",
   "execution_count": 61,
   "id": "4e138b6a",
   "metadata": {},
   "outputs": [],
   "source": [
    "from sklearn.metrics import accuracy_score,confusion_matrix"
   ]
  },
  {
   "cell_type": "code",
   "execution_count": 62,
   "id": "0b37e34d",
   "metadata": {},
   "outputs": [
    {
     "name": "stdout",
     "output_type": "stream",
     "text": [
      "[[679  37]\n",
      " [ 63 553]]\n"
     ]
    }
   ],
   "source": [
    "print(confusion_matrix(y_test['Clicked'],y_test['Prediction_LR']))"
   ]
  },
  {
   "cell_type": "code",
   "execution_count": 63,
   "id": "0347cd09",
   "metadata": {},
   "outputs": [
    {
     "name": "stdout",
     "output_type": "stream",
     "text": [
      "0.924924924924925\n"
     ]
    }
   ],
   "source": [
    "print(accuracy_score(y_test['Clicked'],y_test['Prediction_LR']))"
   ]
  },
  {
   "cell_type": "markdown",
   "id": "c49fe13b",
   "metadata": {},
   "source": [
    "The Logistic Regression model is able to predict the data with 92.5% accuracy."
   ]
  },
  {
   "cell_type": "code",
   "execution_count": 64,
   "id": "11085f85",
   "metadata": {},
   "outputs": [],
   "source": [
    "from sklearn.tree import DecisionTreeClassifier\n",
    "dt = DecisionTreeClassifier()\n",
    "model = dt.fit(x_train,y_train)"
   ]
  },
  {
   "cell_type": "code",
   "execution_count": 65,
   "id": "82789ada",
   "metadata": {},
   "outputs": [],
   "source": [
    "y_test['Prediction_DT'] = model.predict(x_test)"
   ]
  },
  {
   "cell_type": "code",
   "execution_count": 66,
   "id": "e2f5ff17",
   "metadata": {},
   "outputs": [
    {
     "data": {
      "text/html": [
       "<div>\n",
       "<style scoped>\n",
       "    .dataframe tbody tr th:only-of-type {\n",
       "        vertical-align: middle;\n",
       "    }\n",
       "\n",
       "    .dataframe tbody tr th {\n",
       "        vertical-align: top;\n",
       "    }\n",
       "\n",
       "    .dataframe thead th {\n",
       "        text-align: right;\n",
       "    }\n",
       "</style>\n",
       "<table border=\"1\" class=\"dataframe\">\n",
       "  <thead>\n",
       "    <tr style=\"text-align: right;\">\n",
       "      <th></th>\n",
       "      <th>Clicked</th>\n",
       "      <th>Prediction_LR</th>\n",
       "      <th>Prediction_DT</th>\n",
       "    </tr>\n",
       "  </thead>\n",
       "  <tbody>\n",
       "    <tr>\n",
       "      <th>3332</th>\n",
       "      <td>1</td>\n",
       "      <td>1</td>\n",
       "      <td>1</td>\n",
       "    </tr>\n",
       "    <tr>\n",
       "      <th>217</th>\n",
       "      <td>0</td>\n",
       "      <td>0</td>\n",
       "      <td>0</td>\n",
       "    </tr>\n",
       "    <tr>\n",
       "      <th>4715</th>\n",
       "      <td>0</td>\n",
       "      <td>0</td>\n",
       "      <td>0</td>\n",
       "    </tr>\n",
       "    <tr>\n",
       "      <th>2939</th>\n",
       "      <td>1</td>\n",
       "      <td>1</td>\n",
       "      <td>1</td>\n",
       "    </tr>\n",
       "    <tr>\n",
       "      <th>1544</th>\n",
       "      <td>1</td>\n",
       "      <td>1</td>\n",
       "      <td>0</td>\n",
       "    </tr>\n",
       "  </tbody>\n",
       "</table>\n",
       "</div>"
      ],
      "text/plain": [
       "      Clicked  Prediction_LR  Prediction_DT\n",
       "3332        1              1              1\n",
       "217         0              0              0\n",
       "4715        0              0              0\n",
       "2939        1              1              1\n",
       "1544        1              1              0"
      ]
     },
     "execution_count": 66,
     "metadata": {},
     "output_type": "execute_result"
    }
   ],
   "source": [
    "y_test.head()"
   ]
  },
  {
   "cell_type": "code",
   "execution_count": 67,
   "id": "7fd62f52",
   "metadata": {},
   "outputs": [
    {
     "name": "stdout",
     "output_type": "stream",
     "text": [
      "[[671  45]\n",
      " [ 76 540]]\n"
     ]
    }
   ],
   "source": [
    "print(confusion_matrix(y_test['Clicked'],y_test['Prediction_DT']))"
   ]
  },
  {
   "cell_type": "code",
   "execution_count": 68,
   "id": "7a9c76eb",
   "metadata": {},
   "outputs": [
    {
     "name": "stdout",
     "output_type": "stream",
     "text": [
      "0.9091591591591591\n"
     ]
    }
   ],
   "source": [
    "print(accuracy_score(y_test['Clicked'],y_test['Prediction_DT']))"
   ]
  },
  {
   "cell_type": "markdown",
   "id": "fd148f57",
   "metadata": {},
   "source": [
    "The Decision tree algorithm is not performing better than logistic regression and it is giving an accuracy of 91.14%"
   ]
  }
 ],
 "metadata": {
  "kernelspec": {
   "display_name": "Python 3 (ipykernel)",
   "language": "python",
   "name": "python3"
  },
  "language_info": {
   "codemirror_mode": {
    "name": "ipython",
    "version": 3
   },
   "file_extension": ".py",
   "mimetype": "text/x-python",
   "name": "python",
   "nbconvert_exporter": "python",
   "pygments_lexer": "ipython3",
   "version": "3.9.12"
  }
 },
 "nbformat": 4,
 "nbformat_minor": 5
}
