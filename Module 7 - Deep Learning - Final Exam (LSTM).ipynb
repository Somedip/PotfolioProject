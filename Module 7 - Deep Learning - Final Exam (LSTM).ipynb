{
 "cells": [
  {
   "cell_type": "markdown",
   "id": "a47f8510",
   "metadata": {},
   "source": [
    "### Aim: \n",
    "### Build a time series forecast model using LSTM. \n",
    "### Use the number of periods for forecast batch as per your wish. \n",
    "### The number of data in train and test can also be according to your wish"
   ]
  },
  {
   "cell_type": "markdown",
   "id": "5542e435",
   "metadata": {},
   "source": [
    "# LSTM"
   ]
  },
  {
   "cell_type": "code",
   "execution_count": 1,
   "id": "41f3f092",
   "metadata": {},
   "outputs": [],
   "source": [
    "import pandas as pd\n",
    "import tensorflow as tf\n",
    "import numpy as np\n",
    "import matplotlib.pyplot as plt"
   ]
  },
  {
   "cell_type": "code",
   "execution_count": 20,
   "id": "2844ea6e",
   "metadata": {},
   "outputs": [],
   "source": [
    "data= pd.read_excel('./Cement-Consumption.xlsx')"
   ]
  },
  {
   "cell_type": "code",
   "execution_count": 21,
   "id": "d18e2b6c",
   "metadata": {},
   "outputs": [
    {
     "data": {
      "text/html": [
       "<div>\n",
       "<style scoped>\n",
       "    .dataframe tbody tr th:only-of-type {\n",
       "        vertical-align: middle;\n",
       "    }\n",
       "\n",
       "    .dataframe tbody tr th {\n",
       "        vertical-align: top;\n",
       "    }\n",
       "\n",
       "    .dataframe thead th {\n",
       "        text-align: right;\n",
       "    }\n",
       "</style>\n",
       "<table border=\"1\" class=\"dataframe\">\n",
       "  <thead>\n",
       "    <tr style=\"text-align: right;\">\n",
       "      <th></th>\n",
       "      <th>Period</th>\n",
       "      <th>Month</th>\n",
       "      <th>Cement Consumption</th>\n",
       "    </tr>\n",
       "  </thead>\n",
       "  <tbody>\n",
       "    <tr>\n",
       "      <th>0</th>\n",
       "      <td>1</td>\n",
       "      <td>2001-04-01</td>\n",
       "      <td>333224</td>\n",
       "    </tr>\n",
       "    <tr>\n",
       "      <th>1</th>\n",
       "      <td>2</td>\n",
       "      <td>2001-05-01</td>\n",
       "      <td>399256</td>\n",
       "    </tr>\n",
       "    <tr>\n",
       "      <th>2</th>\n",
       "      <td>3</td>\n",
       "      <td>2001-06-01</td>\n",
       "      <td>626754</td>\n",
       "    </tr>\n",
       "    <tr>\n",
       "      <th>3</th>\n",
       "      <td>4</td>\n",
       "      <td>2001-07-01</td>\n",
       "      <td>366388</td>\n",
       "    </tr>\n",
       "    <tr>\n",
       "      <th>4</th>\n",
       "      <td>5</td>\n",
       "      <td>2001-08-01</td>\n",
       "      <td>361452</td>\n",
       "    </tr>\n",
       "  </tbody>\n",
       "</table>\n",
       "</div>"
      ],
      "text/plain": [
       "   Period      Month  Cement Consumption\n",
       "0       1 2001-04-01              333224\n",
       "1       2 2001-05-01              399256\n",
       "2       3 2001-06-01              626754\n",
       "3       4 2001-07-01              366388\n",
       "4       5 2001-08-01              361452"
      ]
     },
     "execution_count": 21,
     "metadata": {},
     "output_type": "execute_result"
    }
   ],
   "source": [
    "data.head()"
   ]
  },
  {
   "cell_type": "code",
   "execution_count": 22,
   "id": "30289b2f",
   "metadata": {},
   "outputs": [
    {
     "name": "stdout",
     "output_type": "stream",
     "text": [
      "<class 'pandas.core.frame.DataFrame'>\n",
      "RangeIndex: 116 entries, 0 to 115\n",
      "Data columns (total 3 columns):\n",
      " #   Column              Non-Null Count  Dtype         \n",
      "---  ------              --------------  -----         \n",
      " 0   Period              116 non-null    int64         \n",
      " 1   Month               116 non-null    datetime64[ns]\n",
      " 2   Cement Consumption  116 non-null    int64         \n",
      "dtypes: datetime64[ns](1), int64(2)\n",
      "memory usage: 2.8 KB\n"
     ]
    }
   ],
   "source": [
    "data.info()"
   ]
  },
  {
   "cell_type": "code",
   "execution_count": 23,
   "id": "4d359c30",
   "metadata": {},
   "outputs": [],
   "source": [
    "data.set_index('Month', inplace=True)"
   ]
  },
  {
   "cell_type": "markdown",
   "id": "b07c0cf2",
   "metadata": {},
   "source": [
    "### We are dropping the period column as it is not nocessary"
   ]
  },
  {
   "cell_type": "code",
   "execution_count": 24,
   "id": "91da3852",
   "metadata": {},
   "outputs": [],
   "source": [
    "Cement=data.drop('Period', axis = 1)"
   ]
  },
  {
   "cell_type": "code",
   "execution_count": 25,
   "id": "496fdf84",
   "metadata": {},
   "outputs": [
    {
     "data": {
      "text/html": [
       "<div>\n",
       "<style scoped>\n",
       "    .dataframe tbody tr th:only-of-type {\n",
       "        vertical-align: middle;\n",
       "    }\n",
       "\n",
       "    .dataframe tbody tr th {\n",
       "        vertical-align: top;\n",
       "    }\n",
       "\n",
       "    .dataframe thead th {\n",
       "        text-align: right;\n",
       "    }\n",
       "</style>\n",
       "<table border=\"1\" class=\"dataframe\">\n",
       "  <thead>\n",
       "    <tr style=\"text-align: right;\">\n",
       "      <th></th>\n",
       "      <th>Cement Consumption</th>\n",
       "    </tr>\n",
       "    <tr>\n",
       "      <th>Month</th>\n",
       "      <th></th>\n",
       "    </tr>\n",
       "  </thead>\n",
       "  <tbody>\n",
       "    <tr>\n",
       "      <th>2001-04-01</th>\n",
       "      <td>333224</td>\n",
       "    </tr>\n",
       "    <tr>\n",
       "      <th>2001-05-01</th>\n",
       "      <td>399256</td>\n",
       "    </tr>\n",
       "    <tr>\n",
       "      <th>2001-06-01</th>\n",
       "      <td>626754</td>\n",
       "    </tr>\n",
       "    <tr>\n",
       "      <th>2001-07-01</th>\n",
       "      <td>366388</td>\n",
       "    </tr>\n",
       "    <tr>\n",
       "      <th>2001-08-01</th>\n",
       "      <td>361452</td>\n",
       "    </tr>\n",
       "    <tr>\n",
       "      <th>...</th>\n",
       "      <td>...</td>\n",
       "    </tr>\n",
       "    <tr>\n",
       "      <th>2010-07-01</th>\n",
       "      <td>717713</td>\n",
       "    </tr>\n",
       "    <tr>\n",
       "      <th>2010-08-01</th>\n",
       "      <td>668939</td>\n",
       "    </tr>\n",
       "    <tr>\n",
       "      <th>2010-09-01</th>\n",
       "      <td>687420</td>\n",
       "    </tr>\n",
       "    <tr>\n",
       "      <th>2010-10-01</th>\n",
       "      <td>862787</td>\n",
       "    </tr>\n",
       "    <tr>\n",
       "      <th>2010-11-01</th>\n",
       "      <td>581979</td>\n",
       "    </tr>\n",
       "  </tbody>\n",
       "</table>\n",
       "<p>116 rows × 1 columns</p>\n",
       "</div>"
      ],
      "text/plain": [
       "            Cement Consumption\n",
       "Month                         \n",
       "2001-04-01              333224\n",
       "2001-05-01              399256\n",
       "2001-06-01              626754\n",
       "2001-07-01              366388\n",
       "2001-08-01              361452\n",
       "...                        ...\n",
       "2010-07-01              717713\n",
       "2010-08-01              668939\n",
       "2010-09-01              687420\n",
       "2010-10-01              862787\n",
       "2010-11-01              581979\n",
       "\n",
       "[116 rows x 1 columns]"
      ]
     },
     "execution_count": 25,
     "metadata": {},
     "output_type": "execute_result"
    }
   ],
   "source": [
    "Cement"
   ]
  },
  {
   "cell_type": "code",
   "execution_count": 26,
   "id": "8ce95866",
   "metadata": {},
   "outputs": [
    {
     "data": {
      "text/html": [
       "<div>\n",
       "<style scoped>\n",
       "    .dataframe tbody tr th:only-of-type {\n",
       "        vertical-align: middle;\n",
       "    }\n",
       "\n",
       "    .dataframe tbody tr th {\n",
       "        vertical-align: top;\n",
       "    }\n",
       "\n",
       "    .dataframe thead th {\n",
       "        text-align: right;\n",
       "    }\n",
       "</style>\n",
       "<table border=\"1\" class=\"dataframe\">\n",
       "  <thead>\n",
       "    <tr style=\"text-align: right;\">\n",
       "      <th></th>\n",
       "      <th>Cement Consumption</th>\n",
       "    </tr>\n",
       "    <tr>\n",
       "      <th>Month</th>\n",
       "      <th></th>\n",
       "    </tr>\n",
       "  </thead>\n",
       "  <tbody>\n",
       "    <tr>\n",
       "      <th>2001-04-01</th>\n",
       "      <td>333224</td>\n",
       "    </tr>\n",
       "    <tr>\n",
       "      <th>2001-05-01</th>\n",
       "      <td>399256</td>\n",
       "    </tr>\n",
       "    <tr>\n",
       "      <th>2001-06-01</th>\n",
       "      <td>626754</td>\n",
       "    </tr>\n",
       "    <tr>\n",
       "      <th>2001-07-01</th>\n",
       "      <td>366388</td>\n",
       "    </tr>\n",
       "    <tr>\n",
       "      <th>2001-08-01</th>\n",
       "      <td>361452</td>\n",
       "    </tr>\n",
       "  </tbody>\n",
       "</table>\n",
       "</div>"
      ],
      "text/plain": [
       "            Cement Consumption\n",
       "Month                         \n",
       "2001-04-01              333224\n",
       "2001-05-01              399256\n",
       "2001-06-01              626754\n",
       "2001-07-01              366388\n",
       "2001-08-01              361452"
      ]
     },
     "execution_count": 26,
     "metadata": {},
     "output_type": "execute_result"
    }
   ],
   "source": [
    "Cement.head()"
   ]
  },
  {
   "cell_type": "code",
   "execution_count": 27,
   "id": "48c50e57",
   "metadata": {},
   "outputs": [
    {
     "data": {
      "text/plain": [
       "(116, 1)"
      ]
     },
     "execution_count": 27,
     "metadata": {},
     "output_type": "execute_result"
    }
   ],
   "source": [
    "Cement.shape"
   ]
  },
  {
   "cell_type": "markdown",
   "id": "a5195ebe",
   "metadata": {},
   "source": [
    "### Sepearting Dpendent And Independent Variables"
   ]
  },
  {
   "cell_type": "code",
   "execution_count": 41,
   "id": "3a7c355d",
   "metadata": {},
   "outputs": [],
   "source": [
    "X = Cement.iloc[:,:]\n",
    "Y = Cement.iloc[:,:]"
   ]
  },
  {
   "cell_type": "code",
   "execution_count": 42,
   "id": "0524d38a",
   "metadata": {},
   "outputs": [],
   "source": [
    "from sklearn.model_selection import train_test_split\n",
    "x_train, x_test, y_train, y_test =  train_test_split(X,Y, test_size = 0.2, random_state=10)"
   ]
  },
  {
   "cell_type": "code",
   "execution_count": 43,
   "id": "5434914f",
   "metadata": {},
   "outputs": [
    {
     "data": {
      "text/html": [
       "<div>\n",
       "<style scoped>\n",
       "    .dataframe tbody tr th:only-of-type {\n",
       "        vertical-align: middle;\n",
       "    }\n",
       "\n",
       "    .dataframe tbody tr th {\n",
       "        vertical-align: top;\n",
       "    }\n",
       "\n",
       "    .dataframe thead th {\n",
       "        text-align: right;\n",
       "    }\n",
       "</style>\n",
       "<table border=\"1\" class=\"dataframe\">\n",
       "  <thead>\n",
       "    <tr style=\"text-align: right;\">\n",
       "      <th></th>\n",
       "      <th>Cement Consumption</th>\n",
       "    </tr>\n",
       "    <tr>\n",
       "      <th>Month</th>\n",
       "      <th></th>\n",
       "    </tr>\n",
       "  </thead>\n",
       "  <tbody>\n",
       "    <tr>\n",
       "      <th>2002-06-01</th>\n",
       "      <td>542067</td>\n",
       "    </tr>\n",
       "    <tr>\n",
       "      <th>2004-07-01</th>\n",
       "      <td>629074</td>\n",
       "    </tr>\n",
       "    <tr>\n",
       "      <th>2004-06-01</th>\n",
       "      <td>650449</td>\n",
       "    </tr>\n",
       "    <tr>\n",
       "      <th>2006-07-01</th>\n",
       "      <td>718895</td>\n",
       "    </tr>\n",
       "    <tr>\n",
       "      <th>2009-10-01</th>\n",
       "      <td>706915</td>\n",
       "    </tr>\n",
       "    <tr>\n",
       "      <th>...</th>\n",
       "      <td>...</td>\n",
       "    </tr>\n",
       "    <tr>\n",
       "      <th>2003-08-01</th>\n",
       "      <td>541165</td>\n",
       "    </tr>\n",
       "    <tr>\n",
       "      <th>2006-08-01</th>\n",
       "      <td>573147</td>\n",
       "    </tr>\n",
       "    <tr>\n",
       "      <th>2002-07-01</th>\n",
       "      <td>538367</td>\n",
       "    </tr>\n",
       "    <tr>\n",
       "      <th>2009-08-01</th>\n",
       "      <td>808259</td>\n",
       "    </tr>\n",
       "    <tr>\n",
       "      <th>2002-01-01</th>\n",
       "      <td>458660</td>\n",
       "    </tr>\n",
       "  </tbody>\n",
       "</table>\n",
       "<p>92 rows × 1 columns</p>\n",
       "</div>"
      ],
      "text/plain": [
       "            Cement Consumption\n",
       "Month                         \n",
       "2002-06-01              542067\n",
       "2004-07-01              629074\n",
       "2004-06-01              650449\n",
       "2006-07-01              718895\n",
       "2009-10-01              706915\n",
       "...                        ...\n",
       "2003-08-01              541165\n",
       "2006-08-01              573147\n",
       "2002-07-01              538367\n",
       "2009-08-01              808259\n",
       "2002-01-01              458660\n",
       "\n",
       "[92 rows x 1 columns]"
      ]
     },
     "execution_count": 43,
     "metadata": {},
     "output_type": "execute_result"
    }
   ],
   "source": [
    "x_train"
   ]
  },
  {
   "cell_type": "code",
   "execution_count": 44,
   "id": "014bcd95",
   "metadata": {},
   "outputs": [
    {
     "data": {
      "text/plain": [
       "(92, 1)"
      ]
     },
     "execution_count": 44,
     "metadata": {},
     "output_type": "execute_result"
    }
   ],
   "source": [
    "x_train.shape"
   ]
  },
  {
   "cell_type": "code",
   "execution_count": 45,
   "id": "541d60f5",
   "metadata": {},
   "outputs": [
    {
     "data": {
      "text/html": [
       "<div>\n",
       "<style scoped>\n",
       "    .dataframe tbody tr th:only-of-type {\n",
       "        vertical-align: middle;\n",
       "    }\n",
       "\n",
       "    .dataframe tbody tr th {\n",
       "        vertical-align: top;\n",
       "    }\n",
       "\n",
       "    .dataframe thead th {\n",
       "        text-align: right;\n",
       "    }\n",
       "</style>\n",
       "<table border=\"1\" class=\"dataframe\">\n",
       "  <thead>\n",
       "    <tr style=\"text-align: right;\">\n",
       "      <th></th>\n",
       "      <th>Cement Consumption</th>\n",
       "    </tr>\n",
       "    <tr>\n",
       "      <th>Month</th>\n",
       "      <th></th>\n",
       "    </tr>\n",
       "  </thead>\n",
       "  <tbody>\n",
       "    <tr>\n",
       "      <th>2005-01-01</th>\n",
       "      <td>594980</td>\n",
       "    </tr>\n",
       "    <tr>\n",
       "      <th>2009-02-01</th>\n",
       "      <td>1034340</td>\n",
       "    </tr>\n",
       "    <tr>\n",
       "      <th>2005-12-01</th>\n",
       "      <td>790215</td>\n",
       "    </tr>\n",
       "    <tr>\n",
       "      <th>2008-04-01</th>\n",
       "      <td>800055</td>\n",
       "    </tr>\n",
       "    <tr>\n",
       "      <th>2009-05-01</th>\n",
       "      <td>878473</td>\n",
       "    </tr>\n",
       "    <tr>\n",
       "      <th>2004-09-01</th>\n",
       "      <td>583697</td>\n",
       "    </tr>\n",
       "    <tr>\n",
       "      <th>2007-12-01</th>\n",
       "      <td>902798</td>\n",
       "    </tr>\n",
       "    <tr>\n",
       "      <th>2010-03-01</th>\n",
       "      <td>821341</td>\n",
       "    </tr>\n",
       "    <tr>\n",
       "      <th>2005-04-01</th>\n",
       "      <td>627840</td>\n",
       "    </tr>\n",
       "    <tr>\n",
       "      <th>2001-06-01</th>\n",
       "      <td>626754</td>\n",
       "    </tr>\n",
       "    <tr>\n",
       "      <th>2005-09-01</th>\n",
       "      <td>619953</td>\n",
       "    </tr>\n",
       "    <tr>\n",
       "      <th>2005-08-01</th>\n",
       "      <td>676886</td>\n",
       "    </tr>\n",
       "    <tr>\n",
       "      <th>2008-12-01</th>\n",
       "      <td>964972</td>\n",
       "    </tr>\n",
       "    <tr>\n",
       "      <th>2004-11-01</th>\n",
       "      <td>483343</td>\n",
       "    </tr>\n",
       "    <tr>\n",
       "      <th>2007-11-01</th>\n",
       "      <td>758646</td>\n",
       "    </tr>\n",
       "    <tr>\n",
       "      <th>2001-05-01</th>\n",
       "      <td>399256</td>\n",
       "    </tr>\n",
       "    <tr>\n",
       "      <th>2002-02-01</th>\n",
       "      <td>414596</td>\n",
       "    </tr>\n",
       "    <tr>\n",
       "      <th>2004-03-01</th>\n",
       "      <td>598961</td>\n",
       "    </tr>\n",
       "    <tr>\n",
       "      <th>2005-03-01</th>\n",
       "      <td>718185</td>\n",
       "    </tr>\n",
       "    <tr>\n",
       "      <th>2003-06-01</th>\n",
       "      <td>600756</td>\n",
       "    </tr>\n",
       "    <tr>\n",
       "      <th>2006-12-01</th>\n",
       "      <td>859177</td>\n",
       "    </tr>\n",
       "    <tr>\n",
       "      <th>2008-01-01</th>\n",
       "      <td>944327</td>\n",
       "    </tr>\n",
       "    <tr>\n",
       "      <th>2004-05-01</th>\n",
       "      <td>539554</td>\n",
       "    </tr>\n",
       "    <tr>\n",
       "      <th>2002-11-01</th>\n",
       "      <td>470551</td>\n",
       "    </tr>\n",
       "  </tbody>\n",
       "</table>\n",
       "</div>"
      ],
      "text/plain": [
       "            Cement Consumption\n",
       "Month                         \n",
       "2005-01-01              594980\n",
       "2009-02-01             1034340\n",
       "2005-12-01              790215\n",
       "2008-04-01              800055\n",
       "2009-05-01              878473\n",
       "2004-09-01              583697\n",
       "2007-12-01              902798\n",
       "2010-03-01              821341\n",
       "2005-04-01              627840\n",
       "2001-06-01              626754\n",
       "2005-09-01              619953\n",
       "2005-08-01              676886\n",
       "2008-12-01              964972\n",
       "2004-11-01              483343\n",
       "2007-11-01              758646\n",
       "2001-05-01              399256\n",
       "2002-02-01              414596\n",
       "2004-03-01              598961\n",
       "2005-03-01              718185\n",
       "2003-06-01              600756\n",
       "2006-12-01              859177\n",
       "2008-01-01              944327\n",
       "2004-05-01              539554\n",
       "2002-11-01              470551"
      ]
     },
     "execution_count": 45,
     "metadata": {},
     "output_type": "execute_result"
    }
   ],
   "source": [
    "x_test"
   ]
  },
  {
   "cell_type": "code",
   "execution_count": 46,
   "id": "7b52e52f",
   "metadata": {},
   "outputs": [
    {
     "data": {
      "text/plain": [
       "(24, 1)"
      ]
     },
     "execution_count": 46,
     "metadata": {},
     "output_type": "execute_result"
    }
   ],
   "source": [
    "x_test.shape"
   ]
  },
  {
   "cell_type": "code",
   "execution_count": null,
   "id": "02eceb9c",
   "metadata": {},
   "outputs": [],
   "source": [
    "train_data.plot(figsize=(13,8))"
   ]
  },
  {
   "cell_type": "code",
   "execution_count": 14,
   "id": "96111b17",
   "metadata": {},
   "outputs": [],
   "source": [
    "test_data= pd.read_excel('./Cement-Consumption.xlsx')"
   ]
  },
  {
   "cell_type": "code",
   "execution_count": 15,
   "id": "c5be2da3",
   "metadata": {},
   "outputs": [],
   "source": [
    "test_data =pd.read_excel('./Cement-Consumption.xlsx', index_col='Month')"
   ]
  },
  {
   "cell_type": "code",
   "execution_count": 16,
   "id": "014fb32d",
   "metadata": {},
   "outputs": [
    {
     "data": {
      "text/plain": [
       "(116, 2)"
      ]
     },
     "execution_count": 16,
     "metadata": {},
     "output_type": "execute_result"
    }
   ],
   "source": [
    "test_data.shape"
   ]
  },
  {
   "cell_type": "markdown",
   "id": "3ef2a1d2",
   "metadata": {},
   "source": [
    "### Plotting Testing and Training data"
   ]
  },
  {
   "cell_type": "code",
   "execution_count": 47,
   "id": "b5800ca2",
   "metadata": {
    "scrolled": true
   },
   "outputs": [
    {
     "data": {
      "text/plain": [
       "<AxesSubplot:xlabel='Month'>"
      ]
     },
     "execution_count": 47,
     "metadata": {},
     "output_type": "execute_result"
    },
    {
     "data": {
      "image/png": "[encoded data removed]",
      "text/plain": [
       "<Figure size 936x576 with 1 Axes>"
      ]
     },
     "metadata": {
      "needs_background": "light"
     },
     "output_type": "display_data"
    }
   ],
   "source": [
    "x_train.plot(figsize=(13,8))"
   ]
  },
  {
   "cell_type": "code",
   "execution_count": 73,
   "id": "2e92e99d",
   "metadata": {
    "scrolled": true
   },
   "outputs": [
    {
     "data": {
      "text/plain": [
       "<AxesSubplot:xlabel='Month'>"
      ]
     },
     "execution_count": 73,
     "metadata": {},
     "output_type": "execute_result"
    },
    {
     "data": {
      "image/png": "[encoded data removed]",
      "text/plain": [
       "<Figure size 936x576 with 1 Axes>"
      ]
     },
     "metadata": {
      "needs_background": "light"
     },
     "output_type": "display_data"
    }
   ],
   "source": [
    "x_test.plot(figsize=(13,8))"
   ]
  },
  {
   "cell_type": "code",
   "execution_count": null,
   "id": "a3e14068",
   "metadata": {},
   "outputs": [],
   "source": []
  },
  {
   "cell_type": "markdown",
   "id": "85ba71ac",
   "metadata": {},
   "source": [
    "# Generating Time Series geneartor"
   ]
  },
  {
   "cell_type": "code",
   "execution_count": 48,
   "id": "6ab9c7e0",
   "metadata": {},
   "outputs": [],
   "source": [
    "# Time Series Geneartor\n",
    "from keras.preprocessing.sequence import TimeseriesGenerator"
   ]
  },
  {
   "cell_type": "code",
   "execution_count": 49,
   "id": "8a4e8488",
   "metadata": {},
   "outputs": [],
   "source": [
    "from sklearn.preprocessing import MinMaxScaler\n",
    "scale= MinMaxScaler()"
   ]
  },
  {
   "cell_type": "code",
   "execution_count": 50,
   "id": "1ba436b4",
   "metadata": {},
   "outputs": [],
   "source": [
    "train_scaled= scale.fit_transform(x_train)"
   ]
  },
  {
   "cell_type": "code",
   "execution_count": 51,
   "id": "1f218544",
   "metadata": {},
   "outputs": [
    {
     "data": {
      "text/plain": [
       "array([[0.27841798],\n",
       "       [0.39441092],\n",
       "       [0.4229069 ],\n",
       "       [0.51415533],\n",
       "       [0.49818426],\n",
       "       [0.62870714],\n",
       "       [0.04421242],\n",
       "       [0.62521697],\n",
       "       [0.61256676],\n",
       "       [0.74857687],\n",
       "       [1.        ],\n",
       "       [0.8023826 ]])"
      ]
     },
     "execution_count": 51,
     "metadata": {},
     "output_type": "execute_result"
    }
   ],
   "source": [
    "train_scaled[:12]"
   ]
  },
  {
   "cell_type": "code",
   "execution_count": 52,
   "id": "83facac6",
   "metadata": {},
   "outputs": [],
   "source": [
    "test_scaled= scale.fit_transform(x_test)"
   ]
  },
  {
   "cell_type": "code",
   "execution_count": 53,
   "id": "776c9a0b",
   "metadata": {},
   "outputs": [],
   "source": [
    "# We will take 12 values to predict 13th values\n",
    "\n",
    "n_input = 12\n",
    "generator = TimeseriesGenerator(train_scaled,train_scaled, length= n_input, batch_size=1)"
   ]
  },
  {
   "cell_type": "code",
   "execution_count": 54,
   "id": "bca83109",
   "metadata": {},
   "outputs": [
    {
     "data": {
      "text/plain": [
       "(array([[[0.27841798],\n",
       "         [0.39441092],\n",
       "         [0.4229069 ],\n",
       "         [0.51415533],\n",
       "         [0.49818426],\n",
       "         [0.62870714],\n",
       "         [0.04421242],\n",
       "         [0.62521697],\n",
       "         [0.61256676],\n",
       "         [0.74857687],\n",
       "         [1.        ],\n",
       "         [0.8023826 ]]]),\n",
       " array([[0.44755675]]))"
      ]
     },
     "execution_count": 54,
     "metadata": {},
     "output_type": "execute_result"
    }
   ],
   "source": [
    "generator[0]"
   ]
  },
  {
   "cell_type": "code",
   "execution_count": 55,
   "id": "792bb544",
   "metadata": {
    "scrolled": true
   },
   "outputs": [
    {
     "data": {
      "text/plain": [
       "80"
      ]
     },
     "execution_count": 55,
     "metadata": {},
     "output_type": "execute_result"
    }
   ],
   "source": [
    "len(generator)"
   ]
  },
  {
   "cell_type": "markdown",
   "id": "458947ba",
   "metadata": {},
   "source": [
    "# Building RNN"
   ]
  },
  {
   "cell_type": "code",
   "execution_count": 56,
   "id": "9b431971",
   "metadata": {},
   "outputs": [],
   "source": [
    "from keras.models import Sequential\n",
    "from keras.layers import Dense\n",
    "from keras.layers import LSTM"
   ]
  },
  {
   "cell_type": "markdown",
   "id": "9f1d919c",
   "metadata": {},
   "source": [
    "# Initialise RNN"
   ]
  },
  {
   "cell_type": "code",
   "execution_count": 57,
   "id": "4b346f06",
   "metadata": {},
   "outputs": [],
   "source": [
    "rnn = Sequential()"
   ]
  },
  {
   "cell_type": "markdown",
   "id": "f164d667",
   "metadata": {},
   "source": [
    "# Adding the input and hidden layers"
   ]
  },
  {
   "cell_type": "code",
   "execution_count": 58,
   "id": "f8a0facc",
   "metadata": {},
   "outputs": [],
   "source": [
    "rnn.add(LSTM(units=100,activation='relu',input_shape=(n_input,1))) # 12 values as input to predict 1 value"
   ]
  },
  {
   "cell_type": "markdown",
   "id": "ec3e875d",
   "metadata": {},
   "source": [
    "# Output Layer"
   ]
  },
  {
   "cell_type": "code",
   "execution_count": 59,
   "id": "540b0e79",
   "metadata": {},
   "outputs": [],
   "source": [
    "rnn.add(Dense(units=1))"
   ]
  },
  {
   "cell_type": "code",
   "execution_count": 60,
   "id": "db4c49b8",
   "metadata": {},
   "outputs": [
    {
     "data": {
      "text/plain": [
       "['AUC',\n",
       " 'Accuracy',\n",
       " 'BinaryAccuracy',\n",
       " 'BinaryCrossentropy',\n",
       " 'BinaryIoU',\n",
       " 'CategoricalAccuracy',\n",
       " 'CategoricalCrossentropy',\n",
       " 'CategoricalHinge',\n",
       " 'CosineSimilarity',\n",
       " 'FalseNegatives',\n",
       " 'FalsePositives',\n",
       " 'Hinge',\n",
       " 'IoU',\n",
       " 'KLD',\n",
       " 'KLDivergence',\n",
       " 'LogCoshError',\n",
       " 'MAE',\n",
       " 'MAPE',\n",
       " 'MSE',\n",
       " 'MSLE',\n",
       " 'Mean',\n",
       " 'MeanAbsoluteError',\n",
       " 'MeanAbsolutePercentageError',\n",
       " 'MeanIoU',\n",
       " 'MeanMetricWrapper',\n",
       " 'MeanRelativeError',\n",
       " 'MeanSquaredError',\n",
       " 'MeanSquaredLogarithmicError',\n",
       " 'MeanTensor',\n",
       " 'Metric',\n",
       " 'OneHotIoU',\n",
       " 'OneHotMeanIoU',\n",
       " 'Poisson',\n",
       " 'Precision',\n",
       " 'PrecisionAtRecall',\n",
       " 'Recall',\n",
       " 'RecallAtPrecision',\n",
       " 'RootMeanSquaredError',\n",
       " 'SensitivityAtSpecificity',\n",
       " 'SparseCategoricalAccuracy',\n",
       " 'SparseCategoricalCrossentropy',\n",
       " 'SparseTopKCategoricalAccuracy',\n",
       " 'SpecificityAtSensitivity',\n",
       " 'SquaredHinge',\n",
       " 'Sum',\n",
       " 'TopKCategoricalAccuracy',\n",
       " 'TrueNegatives',\n",
       " 'TruePositives',\n",
       " '__builtins__',\n",
       " '__cached__',\n",
       " '__doc__',\n",
       " '__file__',\n",
       " '__loader__',\n",
       " '__name__',\n",
       " '__package__',\n",
       " '__path__',\n",
       " '__spec__',\n",
       " '_sys',\n",
       " 'binary_accuracy',\n",
       " 'binary_crossentropy',\n",
       " 'binary_focal_crossentropy',\n",
       " 'categorical_accuracy',\n",
       " 'categorical_crossentropy',\n",
       " 'deserialize',\n",
       " 'get',\n",
       " 'hinge',\n",
       " 'kl_divergence',\n",
       " 'kld',\n",
       " 'kullback_leibler_divergence',\n",
       " 'log_cosh',\n",
       " 'logcosh',\n",
       " 'mae',\n",
       " 'mape',\n",
       " 'mean_absolute_error',\n",
       " 'mean_absolute_percentage_error',\n",
       " 'mean_squared_error',\n",
       " 'mean_squared_logarithmic_error',\n",
       " 'mse',\n",
       " 'msle',\n",
       " 'poisson',\n",
       " 'serialize',\n",
       " 'sparse_categorical_accuracy',\n",
       " 'sparse_categorical_crossentropy',\n",
       " 'sparse_top_k_categorical_accuracy',\n",
       " 'squared_hinge',\n",
       " 'top_k_categorical_accuracy']"
      ]
     },
     "execution_count": 60,
     "metadata": {},
     "output_type": "execute_result"
    }
   ],
   "source": [
    "dir(tf.keras.metrics)"
   ]
  },
  {
   "cell_type": "markdown",
   "id": "0cab4ce7",
   "metadata": {},
   "source": [
    "# Compile RNN"
   ]
  },
  {
   "cell_type": "code",
   "execution_count": 61,
   "id": "4ca5f940",
   "metadata": {},
   "outputs": [],
   "source": [
    "rnn.compile(optimizer='adam',loss='mse',metrics='MAPE')"
   ]
  },
  {
   "cell_type": "code",
   "execution_count": 62,
   "id": "7f981fdc",
   "metadata": {},
   "outputs": [
    {
     "name": "stdout",
     "output_type": "stream",
     "text": [
      "Epoch 1/15\n",
      "80/80 [==============================] - 4s 6ms/step - loss: 0.0973 - MAPE: 4463619.0000\n",
      "Epoch 2/15\n",
      "80/80 [==============================] - 0s 4ms/step - loss: 0.0567 - MAPE: 4928755.5000\n",
      "Epoch 3/15\n",
      "80/80 [==============================] - 0s 4ms/step - loss: 0.0586 - MAPE: 4314663.0000\n",
      "Epoch 4/15\n",
      "80/80 [==============================] - 0s 4ms/step - loss: 0.0631 - MAPE: 4407257.0000\n",
      "Epoch 5/15\n",
      "80/80 [==============================] - 0s 4ms/step - loss: 0.0602 - MAPE: 5650786.5000\n",
      "Epoch 6/15\n",
      "80/80 [==============================] - 0s 4ms/step - loss: 0.0606 - MAPE: 5102648.5000\n",
      "Epoch 7/15\n",
      "80/80 [==============================] - 0s 4ms/step - loss: 0.0566 - MAPE: 5668784.5000\n",
      "Epoch 8/15\n",
      "80/80 [==============================] - 0s 4ms/step - loss: 0.0573 - MAPE: 5259925.5000\n",
      "Epoch 9/15\n",
      "80/80 [==============================] - 0s 4ms/step - loss: 0.0610 - MAPE: 5610146.0000\n",
      "Epoch 10/15\n",
      "80/80 [==============================] - 0s 4ms/step - loss: 0.0570 - MAPE: 4964507.0000\n",
      "Epoch 11/15\n",
      "80/80 [==============================] - 0s 4ms/step - loss: 0.0582 - MAPE: 5772885.0000\n",
      "Epoch 12/15\n",
      "80/80 [==============================] - 0s 4ms/step - loss: 0.0564 - MAPE: 4939129.0000\n",
      "Epoch 13/15\n",
      "80/80 [==============================] - 0s 4ms/step - loss: 0.0612 - MAPE: 5243395.0000\n",
      "Epoch 14/15\n",
      "80/80 [==============================] - 0s 4ms/step - loss: 0.0562 - MAPE: 5112396.5000\n",
      "Epoch 15/15\n",
      "80/80 [==============================] - 0s 5ms/step - loss: 0.0602 - MAPE: 5762587.0000\n"
     ]
    },
    {
     "data": {
      "text/plain": [
       "<keras.callbacks.History at 0x25078069550>"
      ]
     },
     "execution_count": 62,
     "metadata": {},
     "output_type": "execute_result"
    }
   ],
   "source": [
    "#fitting and run the model\n",
    "rnn.fit(generator, epochs= 15)"
   ]
  },
  {
   "cell_type": "code",
   "execution_count": 63,
   "id": "e5951755",
   "metadata": {},
   "outputs": [],
   "source": [
    "#Last 12 train values\n",
    "train_predict=train_scaled[-12:]"
   ]
  },
  {
   "cell_type": "code",
   "execution_count": 64,
   "id": "4f2b2a5e",
   "metadata": {},
   "outputs": [
    {
     "data": {
      "text/plain": [
       "array([[0.14489019],\n",
       "       [0.        ],\n",
       "       [0.71759458],\n",
       "       [0.12606218],\n",
       "       [0.33709369],\n",
       "       [0.93607437],\n",
       "       [0.69348999],\n",
       "       [0.27721549],\n",
       "       [0.31985213],\n",
       "       [0.27348535],\n",
       "       [0.63329049],\n",
       "       [0.16722437]])"
      ]
     },
     "execution_count": 64,
     "metadata": {},
     "output_type": "execute_result"
    }
   ],
   "source": [
    "train_predict"
   ]
  },
  {
   "cell_type": "code",
   "execution_count": 65,
   "id": "4963534b",
   "metadata": {
    "scrolled": true
   },
   "outputs": [
    {
     "data": {
      "text/plain": [
       "(12, 1)"
      ]
     },
     "execution_count": 65,
     "metadata": {},
     "output_type": "execute_result"
    }
   ],
   "source": [
    "train_predict.shape"
   ]
  },
  {
   "cell_type": "markdown",
   "id": "cc792d7a",
   "metadata": {},
   "source": [
    "# RNN always takes a 3D data"
   ]
  },
  {
   "cell_type": "code",
   "execution_count": 66,
   "id": "2b1e633e",
   "metadata": {},
   "outputs": [],
   "source": [
    "train_predict = train_predict.reshape(1,n_input,1)"
   ]
  },
  {
   "cell_type": "code",
   "execution_count": 67,
   "id": "fc76b600",
   "metadata": {},
   "outputs": [
    {
     "data": {
      "text/plain": [
       "(1, 12, 1)"
      ]
     },
     "execution_count": 67,
     "metadata": {},
     "output_type": "execute_result"
    }
   ],
   "source": [
    "train_predict.shape"
   ]
  },
  {
   "cell_type": "code",
   "execution_count": 68,
   "id": "2ca2ae0a",
   "metadata": {},
   "outputs": [
    {
     "name": "stdout",
     "output_type": "stream",
     "text": [
      "1/1 [==============================] - 0s 372ms/step\n"
     ]
    },
    {
     "data": {
      "text/plain": [
       "array([[0.4059997]], dtype=float32)"
      ]
     },
     "execution_count": 68,
     "metadata": {},
     "output_type": "execute_result"
    }
   ],
   "source": [
    "rnn.predict(train_predict)"
   ]
  },
  {
   "cell_type": "code",
   "execution_count": 69,
   "id": "dc090085",
   "metadata": {},
   "outputs": [
    {
     "data": {
      "text/plain": [
       "array([0.308186])"
      ]
     },
     "execution_count": 69,
     "metadata": {},
     "output_type": "execute_result"
    }
   ],
   "source": [
    "test_scaled[0]"
   ]
  },
  {
   "cell_type": "code",
   "execution_count": 70,
   "id": "ffa7ffe2",
   "metadata": {},
   "outputs": [
    {
     "name": "stdout",
     "output_type": "stream",
     "text": [
      "1/1 [==============================] - 0s 17ms/step\n",
      "1/1 [==============================] - 0s 17ms/step\n",
      "1/1 [==============================] - 0s 18ms/step\n",
      "1/1 [==============================] - 0s 16ms/step\n",
      "1/1 [==============================] - 0s 16ms/step\n",
      "1/1 [==============================] - 0s 17ms/step\n",
      "1/1 [==============================] - 0s 19ms/step\n",
      "1/1 [==============================] - 0s 23ms/step\n",
      "1/1 [==============================] - 0s 16ms/step\n",
      "1/1 [==============================] - 0s 16ms/step\n",
      "1/1 [==============================] - 0s 17ms/step\n",
      "1/1 [==============================] - 0s 16ms/step\n",
      "1/1 [==============================] - 0s 17ms/step\n",
      "1/1 [==============================] - 0s 15ms/step\n",
      "1/1 [==============================] - 0s 17ms/step\n",
      "1/1 [==============================] - 0s 16ms/step\n",
      "1/1 [==============================] - 0s 16ms/step\n",
      "1/1 [==============================] - 0s 17ms/step\n",
      "1/1 [==============================] - 0s 17ms/step\n",
      "1/1 [==============================] - 0s 16ms/step\n",
      "1/1 [==============================] - 0s 17ms/step\n",
      "1/1 [==============================] - 0s 16ms/step\n",
      "1/1 [==============================] - 0s 16ms/step\n",
      "1/1 [==============================] - 0s 17ms/step\n",
      "1/1 [==============================] - 0s 18ms/step\n",
      "1/1 [==============================] - 0s 16ms/step\n",
      "1/1 [==============================] - 0s 24ms/step\n",
      "1/1 [==============================] - 0s 19ms/step\n",
      "1/1 [==============================] - 0s 17ms/step\n",
      "1/1 [==============================] - 0s 17ms/step\n",
      "1/1 [==============================] - 0s 18ms/step\n",
      "1/1 [==============================] - 0s 18ms/step\n",
      "1/1 [==============================] - 0s 17ms/step\n",
      "1/1 [==============================] - 0s 18ms/step\n",
      "1/1 [==============================] - 0s 19ms/step\n",
      "1/1 [==============================] - 0s 19ms/step\n",
      "1/1 [==============================] - 0s 18ms/step\n",
      "1/1 [==============================] - 0s 18ms/step\n",
      "1/1 [==============================] - 0s 19ms/step\n",
      "1/1 [==============================] - 0s 17ms/step\n",
      "1/1 [==============================] - 0s 16ms/step\n",
      "1/1 [==============================] - 0s 16ms/step\n",
      "1/1 [==============================] - 0s 16ms/step\n",
      "1/1 [==============================] - 0s 17ms/step\n",
      "1/1 [==============================] - 0s 19ms/step\n",
      "1/1 [==============================] - 0s 16ms/step\n",
      "1/1 [==============================] - 0s 22ms/step\n",
      "1/1 [==============================] - 0s 18ms/step\n",
      "1/1 [==============================] - 0s 19ms/step\n",
      "1/1 [==============================] - 0s 19ms/step\n",
      "1/1 [==============================] - 0s 20ms/step\n",
      "1/1 [==============================] - 0s 17ms/step\n",
      "1/1 [==============================] - 0s 16ms/step\n",
      "1/1 [==============================] - 0s 18ms/step\n",
      "1/1 [==============================] - 0s 15ms/step\n",
      "1/1 [==============================] - 0s 17ms/step\n",
      "1/1 [==============================] - 0s 17ms/step\n",
      "1/1 [==============================] - 0s 16ms/step\n",
      "1/1 [==============================] - 0s 16ms/step\n",
      "1/1 [==============================] - 0s 17ms/step\n",
      "1/1 [==============================] - 0s 17ms/step\n",
      "1/1 [==============================] - 0s 19ms/step\n",
      "1/1 [==============================] - 0s 21ms/step\n",
      "1/1 [==============================] - 0s 18ms/step\n",
      "1/1 [==============================] - 0s 19ms/step\n",
      "1/1 [==============================] - 0s 16ms/step\n",
      "1/1 [==============================] - 0s 16ms/step\n",
      "1/1 [==============================] - 0s 16ms/step\n",
      "1/1 [==============================] - 0s 16ms/step\n",
      "1/1 [==============================] - 0s 17ms/step\n",
      "1/1 [==============================] - 0s 16ms/step\n",
      "1/1 [==============================] - 0s 18ms/step\n",
      "1/1 [==============================] - 0s 15ms/step\n",
      "1/1 [==============================] - 0s 17ms/step\n",
      "1/1 [==============================] - 0s 15ms/step\n",
      "1/1 [==============================] - 0s 18ms/step\n",
      "1/1 [==============================] - 0s 21ms/step\n",
      "1/1 [==============================] - 0s 17ms/step\n",
      "1/1 [==============================] - 0s 16ms/step\n",
      "1/1 [==============================] - 0s 16ms/step\n",
      "1/1 [==============================] - 0s 17ms/step\n",
      "1/1 [==============================] - 0s 16ms/step\n",
      "1/1 [==============================] - 0s 16ms/step\n",
      "1/1 [==============================] - 0s 16ms/step\n",
      "1/1 [==============================] - 0s 16ms/step\n",
      "1/1 [==============================] - 0s 16ms/step\n",
      "1/1 [==============================] - 0s 18ms/step\n",
      "1/1 [==============================] - 0s 16ms/step\n",
      "1/1 [==============================] - 0s 15ms/step\n",
      "1/1 [==============================] - 0s 17ms/step\n",
      "1/1 [==============================] - 0s 15ms/step\n",
      "1/1 [==============================] - 0s 17ms/step\n",
      "1/1 [==============================] - 0s 18ms/step\n",
      "1/1 [==============================] - 0s 17ms/step\n",
      "1/1 [==============================] - 0s 15ms/step\n",
      "1/1 [==============================] - 0s 17ms/step\n",
      "1/1 [==============================] - 0s 16ms/step\n",
      "1/1 [==============================] - 0s 17ms/step\n",
      "1/1 [==============================] - 0s 15ms/step\n",
      "1/1 [==============================] - 0s 17ms/step\n",
      "1/1 [==============================] - 0s 16ms/step\n",
      "1/1 [==============================] - 0s 16ms/step\n",
      "1/1 [==============================] - 0s 82ms/step\n",
      "1/1 [==============================] - 0s 19ms/step\n",
      "1/1 [==============================] - 0s 27ms/step\n",
      "1/1 [==============================] - 0s 17ms/step\n",
      "1/1 [==============================] - 0s 17ms/step\n",
      "1/1 [==============================] - 0s 17ms/step\n",
      "1/1 [==============================] - 0s 16ms/step\n",
      "1/1 [==============================] - 0s 16ms/step\n",
      "1/1 [==============================] - 0s 18ms/step\n",
      "1/1 [==============================] - 0s 15ms/step\n",
      "1/1 [==============================] - 0s 16ms/step\n",
      "1/1 [==============================] - 0s 16ms/step\n",
      "1/1 [==============================] - 0s 17ms/step\n",
      "1/1 [==============================] - 0s 17ms/step\n"
     ]
    }
   ],
   "source": [
    "#future Predictions\n",
    "\n",
    "test_predictions = []\n",
    "\n",
    "first_eval_batch = train_scaled[-n_input:] # -n input because the last 12 input are required for this case\n",
    "current_batch = first_eval_batch.reshape((1,n_input,1))\n",
    "\n",
    "for i in range(len(test_data)):\n",
    "    \n",
    "    # get the prediction value for the first batch\n",
    "    current_pred = rnn.predict(current_batch)[0]\n",
    "    \n",
    "    # append the prediction into the array\n",
    "    test_predictions.append(current_pred)\n",
    "    \n",
    "    # use the prediction to update the batch and remove the first value\n",
    "    current_batch = np.append(current_batch[:,1:,:],[[current_pred]], axis= 1) # 3 colons means 3 axis for 3d Data"
   ]
  },
  {
   "cell_type": "code",
   "execution_count": 71,
   "id": "aecbae41",
   "metadata": {},
   "outputs": [
    {
     "data": {
      "text/plain": [
       "[array([0.4059997], dtype=float32),\n",
       " array([0.40851054], dtype=float32),\n",
       " array([0.40975583], dtype=float32),\n",
       " array([0.40689713], dtype=float32),\n",
       " array([0.40822604], dtype=float32),\n",
       " array([0.40838146], dtype=float32),\n",
       " array([0.40382293], dtype=float32),\n",
       " array([0.4017905], dtype=float32),\n",
       " array([0.40302223], dtype=float32),\n",
       " array([0.40369266], dtype=float32),\n",
       " array([0.40454456], dtype=float32),\n",
       " array([0.40264946], dtype=float32),\n",
       " array([0.40415534], dtype=float32),\n",
       " array([0.404128], dtype=float32),\n",
       " array([0.40408346], dtype=float32),\n",
       " array([0.40403527], dtype=float32),\n",
       " array([0.4040101], dtype=float32),\n",
       " array([0.4039776], dtype=float32),\n",
       " array([0.4039482], dtype=float32),\n",
       " array([0.40395486], dtype=float32),\n",
       " array([0.40397435], dtype=float32),\n",
       " array([0.40398297], dtype=float32),\n",
       " array([0.40398613], dtype=float32),\n",
       " array([0.40398332], dtype=float32),\n",
       " array([0.40399393], dtype=float32),\n",
       " array([0.40399292], dtype=float32),\n",
       " array([0.40399206], dtype=float32),\n",
       " array([0.4039917], dtype=float32),\n",
       " array([0.4039917], dtype=float32),\n",
       " array([0.40399182], dtype=float32),\n",
       " array([0.40399224], dtype=float32),\n",
       " array([0.40399283], dtype=float32),\n",
       " array([0.40399322], dtype=float32),\n",
       " array([0.40399346], dtype=float32),\n",
       " array([0.4039936], dtype=float32),\n",
       " array([0.4039937], dtype=float32),\n",
       " array([0.4039939], dtype=float32),\n",
       " array([0.40399396], dtype=float32),\n",
       " array([0.40399405], dtype=float32),\n",
       " array([0.40399408], dtype=float32),\n",
       " array([0.40399414], dtype=float32),\n",
       " array([0.40399417], dtype=float32),\n",
       " array([0.40399423], dtype=float32),\n",
       " array([0.40399423], dtype=float32),\n",
       " array([0.40399432], dtype=float32),\n",
       " array([0.40399432], dtype=float32),\n",
       " array([0.40399432], dtype=float32),\n",
       " array([0.40399432], dtype=float32),\n",
       " array([0.40399432], dtype=float32),\n",
       " array([0.40399435], dtype=float32),\n",
       " array([0.40399435], dtype=float32),\n",
       " array([0.40399435], dtype=float32),\n",
       " array([0.40399435], dtype=float32),\n",
       " array([0.40399435], dtype=float32),\n",
       " array([0.40399435], dtype=float32),\n",
       " array([0.40399435], dtype=float32),\n",
       " array([0.40399435], dtype=float32),\n",
       " array([0.40399435], dtype=float32),\n",
       " array([0.40399435], dtype=float32),\n",
       " array([0.40399435], dtype=float32),\n",
       " array([0.40399435], dtype=float32),\n",
       " array([0.40399435], dtype=float32),\n",
       " array([0.40399435], dtype=float32),\n",
       " array([0.40399435], dtype=float32),\n",
       " array([0.40399435], dtype=float32),\n",
       " array([0.40399435], dtype=float32),\n",
       " array([0.40399435], dtype=float32),\n",
       " array([0.40399435], dtype=float32),\n",
       " array([0.40399435], dtype=float32),\n",
       " array([0.40399435], dtype=float32),\n",
       " array([0.40399435], dtype=float32),\n",
       " array([0.40399435], dtype=float32),\n",
       " array([0.40399435], dtype=float32),\n",
       " array([0.40399435], dtype=float32),\n",
       " array([0.40399435], dtype=float32),\n",
       " array([0.40399435], dtype=float32),\n",
       " array([0.40399435], dtype=float32),\n",
       " array([0.40399435], dtype=float32),\n",
       " array([0.40399435], dtype=float32),\n",
       " array([0.40399435], dtype=float32),\n",
       " array([0.40399435], dtype=float32),\n",
       " array([0.40399435], dtype=float32),\n",
       " array([0.40399435], dtype=float32),\n",
       " array([0.40399435], dtype=float32),\n",
       " array([0.40399435], dtype=float32),\n",
       " array([0.40399435], dtype=float32),\n",
       " array([0.40399435], dtype=float32),\n",
       " array([0.40399435], dtype=float32),\n",
       " array([0.40399435], dtype=float32),\n",
       " array([0.40399435], dtype=float32),\n",
       " array([0.40399435], dtype=float32),\n",
       " array([0.40399435], dtype=float32),\n",
       " array([0.40399435], dtype=float32),\n",
       " array([0.40399435], dtype=float32),\n",
       " array([0.40399435], dtype=float32),\n",
       " array([0.40399435], dtype=float32),\n",
       " array([0.40399435], dtype=float32),\n",
       " array([0.40399435], dtype=float32),\n",
       " array([0.40399435], dtype=float32),\n",
       " array([0.40399435], dtype=float32),\n",
       " array([0.40399435], dtype=float32),\n",
       " array([0.40399435], dtype=float32),\n",
       " array([0.40399435], dtype=float32),\n",
       " array([0.40399435], dtype=float32),\n",
       " array([0.40399435], dtype=float32),\n",
       " array([0.40399435], dtype=float32),\n",
       " array([0.40399435], dtype=float32),\n",
       " array([0.40399435], dtype=float32),\n",
       " array([0.40399435], dtype=float32),\n",
       " array([0.40399435], dtype=float32),\n",
       " array([0.40399435], dtype=float32),\n",
       " array([0.40399435], dtype=float32),\n",
       " array([0.40399435], dtype=float32),\n",
       " array([0.40399435], dtype=float32),\n",
       " array([0.40399435], dtype=float32),\n",
       " array([0.40399435], dtype=float32)]"
      ]
     },
     "execution_count": 71,
     "metadata": {},
     "output_type": "execute_result"
    }
   ],
   "source": [
    "test_predictions"
   ]
  },
  {
   "cell_type": "code",
   "execution_count": 72,
   "id": "7578cac0",
   "metadata": {
    "scrolled": true
   },
   "outputs": [
    {
     "data": {
      "text/plain": [
       "array([[657099.90731084],\n",
       "       [658694.50521672],\n",
       "       [659485.3689971 ],\n",
       "       [657669.85540271],\n",
       "       [658513.82828367],\n",
       "       [658612.53247452],\n",
       "       [655717.4808296 ],\n",
       "       [654426.71770334],\n",
       "       [655208.96970868],\n",
       "       [655634.75100827],\n",
       "       [656175.77867758],\n",
       "       [654972.23106647],\n",
       "       [655928.59234345],\n",
       "       [655911.21737754],\n",
       "       [655882.94047225],\n",
       "       [655852.33554864],\n",
       "       [655836.34225214],\n",
       "       [655815.71184599],\n",
       "       [655797.0309186 ],\n",
       "       [655801.2705617 ],\n",
       "       [655813.64880538],\n",
       "       [655819.11870205],\n",
       "       [655821.12496173],\n",
       "       [655819.34582579],\n",
       "       [655826.08383   ],\n",
       "       [655825.44031274],\n",
       "       [655824.89143038],\n",
       "       [655824.66430664],\n",
       "       [655824.66430664],\n",
       "       [655824.74001455],\n",
       "       [655825.00499225],\n",
       "       [655825.38353181],\n",
       "       [655825.62958252],\n",
       "       [655825.78099835],\n",
       "       [655825.87563324],\n",
       "       [655825.93241417],\n",
       "       [655826.06490302],\n",
       "       [655826.10275698],\n",
       "       [655826.15953791],\n",
       "       [655826.17846489],\n",
       "       [655826.21631885],\n",
       "       [655826.23524582],\n",
       "       [655826.27309978],\n",
       "       [655826.27309978],\n",
       "       [655826.32988071],\n",
       "       [655826.32988071],\n",
       "       [655826.32988071],\n",
       "       [655826.32988071],\n",
       "       [655826.32988071],\n",
       "       [655826.34880769],\n",
       "       [655826.34880769],\n",
       "       [655826.34880769],\n",
       "       [655826.34880769],\n",
       "       [655826.34880769],\n",
       "       [655826.34880769],\n",
       "       [655826.34880769],\n",
       "       [655826.34880769],\n",
       "       [655826.34880769],\n",
       "       [655826.34880769],\n",
       "       [655826.34880769],\n",
       "       [655826.34880769],\n",
       "       [655826.34880769],\n",
       "       [655826.34880769],\n",
       "       [655826.34880769],\n",
       "       [655826.34880769],\n",
       "       [655826.34880769],\n",
       "       [655826.34880769],\n",
       "       [655826.34880769],\n",
       "       [655826.34880769],\n",
       "       [655826.34880769],\n",
       "       [655826.34880769],\n",
       "       [655826.34880769],\n",
       "       [655826.34880769],\n",
       "       [655826.34880769],\n",
       "       [655826.34880769],\n",
       "       [655826.34880769],\n",
       "       [655826.34880769],\n",
       "       [655826.34880769],\n",
       "       [655826.34880769],\n",
       "       [655826.34880769],\n",
       "       [655826.34880769],\n",
       "       [655826.34880769],\n",
       "       [655826.34880769],\n",
       "       [655826.34880769],\n",
       "       [655826.34880769],\n",
       "       [655826.34880769],\n",
       "       [655826.34880769],\n",
       "       [655826.34880769],\n",
       "       [655826.34880769],\n",
       "       [655826.34880769],\n",
       "       [655826.34880769],\n",
       "       [655826.34880769],\n",
       "       [655826.34880769],\n",
       "       [655826.34880769],\n",
       "       [655826.34880769],\n",
       "       [655826.34880769],\n",
       "       [655826.34880769],\n",
       "       [655826.34880769],\n",
       "       [655826.34880769],\n",
       "       [655826.34880769],\n",
       "       [655826.34880769],\n",
       "       [655826.34880769],\n",
       "       [655826.34880769],\n",
       "       [655826.34880769],\n",
       "       [655826.34880769],\n",
       "       [655826.34880769],\n",
       "       [655826.34880769],\n",
       "       [655826.34880769],\n",
       "       [655826.34880769],\n",
       "       [655826.34880769],\n",
       "       [655826.34880769],\n",
       "       [655826.34880769],\n",
       "       [655826.34880769],\n",
       "       [655826.34880769],\n",
       "       [655826.34880769],\n",
       "       [655826.34880769]])"
      ]
     },
     "execution_count": 72,
     "metadata": {},
     "output_type": "execute_result"
    }
   ],
   "source": [
    "scale.inverse_transform(test_predictions)"
   ]
  },
  {
   "cell_type": "markdown",
   "id": "9ea58b72",
   "metadata": {},
   "source": [
    "# Conclusion : Time Series Forecasting using LSTM"
   ]
  },
  {
   "cell_type": "code",
   "execution_count": null,
   "id": "57d0ae2a",
   "metadata": {},
   "outputs": [],
   "source": []
  }
 ],
 "metadata": {
  "kernelspec": {
   "display_name": "Python 3 (ipykernel)",
   "language": "python",
   "name": "python3"
  },
  "language_info": {
   "codemirror_mode": {
    "name": "ipython",
    "version": 3
   },
   "file_extension": ".py",
   "mimetype": "text/x-python",
   "name": "python",
   "nbconvert_exporter": "python",
   "pygments_lexer": "ipython3",
   "version": "3.9.12"
  }
 },
 "nbformat": 4,
 "nbformat_minor": 5
}
