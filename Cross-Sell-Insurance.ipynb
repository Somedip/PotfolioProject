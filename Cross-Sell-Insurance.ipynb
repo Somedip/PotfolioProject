{
 "cells": [
  {
   "cell_type": "code",
   "execution_count": 1,
   "id": "212f5def",
   "metadata": {},
   "outputs": [],
   "source": [
    "import pandas as pd\n",
    "import warnings\n",
    "warnings.filterwarnings('ignore')"
   ]
  },
  {
   "cell_type": "code",
   "execution_count": 2,
   "id": "627406ab",
   "metadata": {},
   "outputs": [
    {
     "data": {
      "text/html": [
       "<div>\n",
       "<style scoped>\n",
       "    .dataframe tbody tr th:only-of-type {\n",
       "        vertical-align: middle;\n",
       "    }\n",
       "\n",
       "    .dataframe tbody tr th {\n",
       "        vertical-align: top;\n",
       "    }\n",
       "\n",
       "    .dataframe thead th {\n",
       "        text-align: right;\n",
       "    }\n",
       "</style>\n",
       "<table border=\"1\" class=\"dataframe\">\n",
       "  <thead>\n",
       "    <tr style=\"text-align: right;\">\n",
       "      <th></th>\n",
       "      <th>id</th>\n",
       "      <th>Gender</th>\n",
       "      <th>Age</th>\n",
       "      <th>Driving_License</th>\n",
       "      <th>Previously_Insured</th>\n",
       "      <th>Vehicle_Age</th>\n",
       "      <th>Vehicle_Damage</th>\n",
       "      <th>Annual_Premium</th>\n",
       "      <th>Vintage Score</th>\n",
       "      <th>Response</th>\n",
       "    </tr>\n",
       "  </thead>\n",
       "  <tbody>\n",
       "    <tr>\n",
       "      <th>0</th>\n",
       "      <td>1</td>\n",
       "      <td>Male</td>\n",
       "      <td>44</td>\n",
       "      <td>1</td>\n",
       "      <td>0</td>\n",
       "      <td>&gt; 2 Years</td>\n",
       "      <td>Yes</td>\n",
       "      <td>40454</td>\n",
       "      <td>217</td>\n",
       "      <td>1</td>\n",
       "    </tr>\n",
       "    <tr>\n",
       "      <th>1</th>\n",
       "      <td>2</td>\n",
       "      <td>Male</td>\n",
       "      <td>76</td>\n",
       "      <td>1</td>\n",
       "      <td>0</td>\n",
       "      <td>1-2 Year</td>\n",
       "      <td>No</td>\n",
       "      <td>33536</td>\n",
       "      <td>183</td>\n",
       "      <td>0</td>\n",
       "    </tr>\n",
       "    <tr>\n",
       "      <th>2</th>\n",
       "      <td>3</td>\n",
       "      <td>Male</td>\n",
       "      <td>47</td>\n",
       "      <td>1</td>\n",
       "      <td>0</td>\n",
       "      <td>&gt; 2 Years</td>\n",
       "      <td>Yes</td>\n",
       "      <td>38294</td>\n",
       "      <td>27</td>\n",
       "      <td>1</td>\n",
       "    </tr>\n",
       "    <tr>\n",
       "      <th>3</th>\n",
       "      <td>4</td>\n",
       "      <td>Male</td>\n",
       "      <td>21</td>\n",
       "      <td>1</td>\n",
       "      <td>1</td>\n",
       "      <td>&lt; 1 Year</td>\n",
       "      <td>No</td>\n",
       "      <td>28619</td>\n",
       "      <td>203</td>\n",
       "      <td>0</td>\n",
       "    </tr>\n",
       "    <tr>\n",
       "      <th>4</th>\n",
       "      <td>5</td>\n",
       "      <td>Female</td>\n",
       "      <td>29</td>\n",
       "      <td>1</td>\n",
       "      <td>1</td>\n",
       "      <td>&lt; 1 Year</td>\n",
       "      <td>No</td>\n",
       "      <td>27496</td>\n",
       "      <td>39</td>\n",
       "      <td>0</td>\n",
       "    </tr>\n",
       "  </tbody>\n",
       "</table>\n",
       "</div>"
      ],
      "text/plain": [
       "   id  Gender  Age  Driving_License  Previously_Insured Vehicle_Age  \\\n",
       "0   1    Male   44                1                   0   > 2 Years   \n",
       "1   2    Male   76                1                   0    1-2 Year   \n",
       "2   3    Male   47                1                   0   > 2 Years   \n",
       "3   4    Male   21                1                   1    < 1 Year   \n",
       "4   5  Female   29                1                   1    < 1 Year   \n",
       "\n",
       "  Vehicle_Damage  Annual_Premium  Vintage Score  Response  \n",
       "0            Yes           40454            217         1  \n",
       "1             No           33536            183         0  \n",
       "2            Yes           38294             27         1  \n",
       "3             No           28619            203         0  \n",
       "4             No           27496             39         0  "
      ]
     },
     "execution_count": 2,
     "metadata": {},
     "output_type": "execute_result"
    }
   ],
   "source": [
    "data=pd.read_excel(\"-Cross-Sell-Insurance.xlsx\")\n",
    "data.head()"
   ]
  },
  {
   "cell_type": "code",
   "execution_count": 3,
   "id": "98574d92",
   "metadata": {},
   "outputs": [
    {
     "name": "stdout",
     "output_type": "stream",
     "text": [
      "<class 'pandas.core.frame.DataFrame'>\n",
      "RangeIndex: 3999 entries, 0 to 3998\n",
      "Data columns (total 10 columns):\n",
      " #   Column              Non-Null Count  Dtype \n",
      "---  ------              --------------  ----- \n",
      " 0   id                  3999 non-null   int64 \n",
      " 1   Gender              3999 non-null   object\n",
      " 2   Age                 3999 non-null   int64 \n",
      " 3   Driving_License     3999 non-null   int64 \n",
      " 4   Previously_Insured  3999 non-null   int64 \n",
      " 5   Vehicle_Age         3999 non-null   object\n",
      " 6   Vehicle_Damage      3999 non-null   object\n",
      " 7   Annual_Premium      3999 non-null   int64 \n",
      " 8   Vintage Score       3999 non-null   int64 \n",
      " 9   Response            3999 non-null   int64 \n",
      "dtypes: int64(7), object(3)\n",
      "memory usage: 312.5+ KB\n"
     ]
    }
   ],
   "source": [
    "data.info()"
   ]
  },
  {
   "cell_type": "code",
   "execution_count": 4,
   "id": "ce10051f",
   "metadata": {},
   "outputs": [
    {
     "data": {
      "text/plain": [
       "2"
      ]
     },
     "execution_count": 4,
     "metadata": {},
     "output_type": "execute_result"
    }
   ],
   "source": [
    "data['Response'].nunique()"
   ]
  },
  {
   "cell_type": "code",
   "execution_count": 5,
   "id": "b724fa64",
   "metadata": {},
   "outputs": [
    {
     "data": {
      "text/plain": [
       "array([1, 0], dtype=int64)"
      ]
     },
     "execution_count": 5,
     "metadata": {},
     "output_type": "execute_result"
    }
   ],
   "source": [
    "data['Response'].unique()"
   ]
  },
  {
   "cell_type": "markdown",
   "id": "c050ba6f",
   "metadata": {},
   "source": [
    "Assumption: If the Subscription 0, the service are cheaper and if the price range is 1 the service are costlier."
   ]
  },
  {
   "cell_type": "code",
   "execution_count": 6,
   "id": "93022459",
   "metadata": {},
   "outputs": [],
   "source": [
    "cat_col = ['Gender','Vehicle_Damage','Vehicle_Age']\n",
    "data_dummy = pd.get_dummies(data,columns=cat_col,drop_first=True)"
   ]
  },
  {
   "cell_type": "code",
   "execution_count": 7,
   "id": "bebbbd1d",
   "metadata": {},
   "outputs": [],
   "source": [
    "y = data_dummy[['Response']]\n",
    "x = data_dummy.drop(columns=['Response'])"
   ]
  },
  {
   "cell_type": "code",
   "execution_count": 8,
   "id": "c0d36a74",
   "metadata": {},
   "outputs": [],
   "source": [
    "# splitting the data into train and test\n",
    "from sklearn.model_selection import train_test_split\n",
    "x_train,x_test,y_train,y_test=train_test_split(x,y,test_size=0.2,random_state=0)"
   ]
  },
  {
   "cell_type": "code",
   "execution_count": 9,
   "id": "a1ce26f7",
   "metadata": {},
   "outputs": [
    {
     "data": {
      "text/plain": [
       "(3199, 800, 3199, 800)"
      ]
     },
     "execution_count": 9,
     "metadata": {},
     "output_type": "execute_result"
    }
   ],
   "source": [
    "len(x_train),len(x_test),len(y_train),len(y_test)"
   ]
  },
  {
   "cell_type": "code",
   "execution_count": 10,
   "id": "79ba676b",
   "metadata": {},
   "outputs": [
    {
     "name": "stdout",
     "output_type": "stream",
     "text": [
      "The model has been built sucessfully!! yeah!\n"
     ]
    }
   ],
   "source": [
    "from sklearn.ensemble import RandomForestClassifier\n",
    "rf=RandomForestClassifier(n_estimators=500)\n",
    "model=rf.fit(x_train,y_train)\n",
    "print('The model has been built sucessfully!! yeah!')"
   ]
  },
  {
   "cell_type": "code",
   "execution_count": 11,
   "id": "194c27b2",
   "metadata": {},
   "outputs": [],
   "source": [
    "#predicting on test data\n",
    "y_test['Prediction']=model.predict(x_test)"
   ]
  },
  {
   "cell_type": "code",
   "execution_count": 12,
   "id": "a7c87a78",
   "metadata": {},
   "outputs": [],
   "source": [
    "from sklearn.metrics import accuracy_score,confusion_matrix"
   ]
  },
  {
   "cell_type": "code",
   "execution_count": 13,
   "id": "5c51ed29",
   "metadata": {},
   "outputs": [
    {
     "name": "stdout",
     "output_type": "stream",
     "text": [
      "[[685  17]\n",
      " [ 89   9]]\n"
     ]
    }
   ],
   "source": [
    "print(confusion_matrix(y_test['Response'],y_test['Prediction']))"
   ]
  },
  {
   "cell_type": "code",
   "execution_count": 14,
   "id": "1fd29e50",
   "metadata": {},
   "outputs": [
    {
     "name": "stdout",
     "output_type": "stream",
     "text": [
      "0.8675\n"
     ]
    }
   ],
   "source": [
    "print(accuracy_score(y_test['Response'],y_test['Prediction']))"
   ]
  },
  {
   "cell_type": "code",
   "execution_count": 15,
   "id": "017e0ad7",
   "metadata": {},
   "outputs": [
    {
     "data": {
      "text/plain": [
       "array([0.22082807, 0.18721407, 0.00040396, 0.05197618, 0.19277714,\n",
       "       0.21692183, 0.02232907, 0.07383776, 0.02098665, 0.01272527])"
      ]
     },
     "execution_count": 15,
     "metadata": {},
     "output_type": "execute_result"
    }
   ],
   "source": [
    "model.feature_importances_"
   ]
  },
  {
   "cell_type": "code",
   "execution_count": 16,
   "id": "05039d6f",
   "metadata": {},
   "outputs": [],
   "source": [
    "top4=pd.DataFrame(model.feature_importances_,x.columns)"
   ]
  },
  {
   "cell_type": "code",
   "execution_count": 17,
   "id": "68e9b6aa",
   "metadata": {},
   "outputs": [
    {
     "data": {
      "text/html": [
       "<div>\n",
       "<style scoped>\n",
       "    .dataframe tbody tr th:only-of-type {\n",
       "        vertical-align: middle;\n",
       "    }\n",
       "\n",
       "    .dataframe tbody tr th {\n",
       "        vertical-align: top;\n",
       "    }\n",
       "\n",
       "    .dataframe thead th {\n",
       "        text-align: right;\n",
       "    }\n",
       "</style>\n",
       "<table border=\"1\" class=\"dataframe\">\n",
       "  <thead>\n",
       "    <tr style=\"text-align: right;\">\n",
       "      <th></th>\n",
       "      <th>0</th>\n",
       "    </tr>\n",
       "  </thead>\n",
       "  <tbody>\n",
       "    <tr>\n",
       "      <th>id</th>\n",
       "      <td>0.220828</td>\n",
       "    </tr>\n",
       "    <tr>\n",
       "      <th>Vintage Score</th>\n",
       "      <td>0.216922</td>\n",
       "    </tr>\n",
       "    <tr>\n",
       "      <th>Annual_Premium</th>\n",
       "      <td>0.192777</td>\n",
       "    </tr>\n",
       "    <tr>\n",
       "      <th>Age</th>\n",
       "      <td>0.187214</td>\n",
       "    </tr>\n",
       "  </tbody>\n",
       "</table>\n",
       "</div>"
      ],
      "text/plain": [
       "                       0\n",
       "id              0.220828\n",
       "Vintage Score   0.216922\n",
       "Annual_Premium  0.192777\n",
       "Age             0.187214"
      ]
     },
     "execution_count": 17,
     "metadata": {},
     "output_type": "execute_result"
    }
   ],
   "source": [
    "top4.sort_values(by=0,ascending=False).head(4)"
   ]
  },
  {
   "cell_type": "markdown",
   "id": "e7c30cde",
   "metadata": {},
   "source": [
    "Building the SVM mode"
   ]
  },
  {
   "cell_type": "code",
   "execution_count": 18,
   "id": "968c4ce1",
   "metadata": {},
   "outputs": [],
   "source": [
    "from sklearn.svm import SVC"
   ]
  },
  {
   "cell_type": "code",
   "execution_count": 19,
   "id": "f1b9f0b7",
   "metadata": {},
   "outputs": [],
   "source": [
    "svc = SVC()\n",
    "model = svc.fit(x_train,y_train)"
   ]
  },
  {
   "cell_type": "code",
   "execution_count": 20,
   "id": "6e8a7e05",
   "metadata": {},
   "outputs": [],
   "source": [
    "y_test['Prediction'] = model.predict(x_test)"
   ]
  },
  {
   "cell_type": "code",
   "execution_count": 21,
   "id": "a393507f",
   "metadata": {},
   "outputs": [],
   "source": [
    "from sklearn.metrics import accuracy_score,confusion_matrix"
   ]
  },
  {
   "cell_type": "code",
   "execution_count": 22,
   "id": "0e97df90",
   "metadata": {},
   "outputs": [
    {
     "name": "stdout",
     "output_type": "stream",
     "text": [
      "[[702   0]\n",
      " [ 98   0]]\n"
     ]
    }
   ],
   "source": [
    "print(confusion_matrix(y_test['Response'],y_test['Prediction']))"
   ]
  },
  {
   "cell_type": "code",
   "execution_count": 23,
   "id": "e4b1263a",
   "metadata": {},
   "outputs": [
    {
     "name": "stdout",
     "output_type": "stream",
     "text": [
      "0.8775\n"
     ]
    }
   ],
   "source": [
    "print(accuracy_score(y_test['Response'],y_test['Prediction']))"
   ]
  },
  {
   "cell_type": "markdown",
   "id": "4b6fa763",
   "metadata": {},
   "source": [
    "Hence there is some difference in the accuracy"
   ]
  },
  {
   "cell_type": "code",
   "execution_count": null,
   "id": "2d338552",
   "metadata": {},
   "outputs": [],
   "source": []
  }
 ],
 "metadata": {
  "kernelspec": {
   "display_name": "Python 3 (ipykernel)",
   "language": "python",
   "name": "python3"
  },
  "language_info": {
   "codemirror_mode": {
    "name": "ipython",
    "version": 3
   },
   "file_extension": ".py",
   "mimetype": "text/x-python",
   "name": "python",
   "nbconvert_exporter": "python",
   "pygments_lexer": "ipython3",
   "version": "3.9.12"
  }
 },
 "nbformat": 4,
 "nbformat_minor": 5
}
